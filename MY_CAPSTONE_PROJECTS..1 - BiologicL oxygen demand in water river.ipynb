{
 "cells": [
  {
   "cell_type": "markdown",
   "id": "8b708ae7",
   "metadata": {},
   "source": [
    "# Trening data Preprocessing"
   ]
  },
  {
   "cell_type": "code",
   "execution_count": 1,
   "id": "5fa2926e",
   "metadata": {},
   "outputs": [],
   "source": [
    "# importing labararies\n",
    "import pandas as pd \n",
    "import numpy as np\n",
    "import seaborn as sns\n",
    "import matplotlib.pyplot as plt"
   ]
  },
  {
   "cell_type": "code",
   "execution_count": 2,
   "id": "d589c075",
   "metadata": {},
   "outputs": [],
   "source": [
    "# importing datas\n",
    "train = pd.read_csv(r\"D:\\EKEEDA\\Data\\Capstone Projects\\train.csv\")\n",
    "test  = pd.read_csv(r\"D:\\EKEEDA\\Data\\Capstone Projects\\test.csv\")"
   ]
  },
  {
   "cell_type": "code",
   "execution_count": 3,
   "id": "e55cec8f",
   "metadata": {
    "scrolled": true
   },
   "outputs": [
    {
     "data": {
      "text/html": [
       "<div>\n",
       "<style scoped>\n",
       "    .dataframe tbody tr th:only-of-type {\n",
       "        vertical-align: middle;\n",
       "    }\n",
       "\n",
       "    .dataframe tbody tr th {\n",
       "        vertical-align: top;\n",
       "    }\n",
       "\n",
       "    .dataframe thead th {\n",
       "        text-align: right;\n",
       "    }\n",
       "</style>\n",
       "<table border=\"1\" class=\"dataframe\">\n",
       "  <thead>\n",
       "    <tr style=\"text-align: right;\">\n",
       "      <th></th>\n",
       "      <th>Id</th>\n",
       "      <th>target</th>\n",
       "      <th>1</th>\n",
       "      <th>2</th>\n",
       "      <th>3</th>\n",
       "      <th>4</th>\n",
       "      <th>5</th>\n",
       "      <th>6</th>\n",
       "      <th>7</th>\n",
       "    </tr>\n",
       "  </thead>\n",
       "  <tbody>\n",
       "    <tr>\n",
       "      <th>0</th>\n",
       "      <td>0</td>\n",
       "      <td>5.85</td>\n",
       "      <td>4.80</td>\n",
       "      <td>5.85</td>\n",
       "      <td>NaN</td>\n",
       "      <td>NaN</td>\n",
       "      <td>NaN</td>\n",
       "      <td>NaN</td>\n",
       "      <td>NaN</td>\n",
       "    </tr>\n",
       "    <tr>\n",
       "      <th>1</th>\n",
       "      <td>3</td>\n",
       "      <td>4.28</td>\n",
       "      <td>5.88</td>\n",
       "      <td>6.84</td>\n",
       "      <td>NaN</td>\n",
       "      <td>NaN</td>\n",
       "      <td>NaN</td>\n",
       "      <td>NaN</td>\n",
       "      <td>NaN</td>\n",
       "    </tr>\n",
       "    <tr>\n",
       "      <th>2</th>\n",
       "      <td>4</td>\n",
       "      <td>3.97</td>\n",
       "      <td>3.20</td>\n",
       "      <td>2.70</td>\n",
       "      <td>NaN</td>\n",
       "      <td>NaN</td>\n",
       "      <td>NaN</td>\n",
       "      <td>NaN</td>\n",
       "      <td>NaN</td>\n",
       "    </tr>\n",
       "    <tr>\n",
       "      <th>3</th>\n",
       "      <td>5</td>\n",
       "      <td>5.95</td>\n",
       "      <td>7.70</td>\n",
       "      <td>7.06</td>\n",
       "      <td>NaN</td>\n",
       "      <td>NaN</td>\n",
       "      <td>NaN</td>\n",
       "      <td>NaN</td>\n",
       "      <td>NaN</td>\n",
       "    </tr>\n",
       "    <tr>\n",
       "      <th>4</th>\n",
       "      <td>6</td>\n",
       "      <td>4.70</td>\n",
       "      <td>5.50</td>\n",
       "      <td>5.30</td>\n",
       "      <td>NaN</td>\n",
       "      <td>NaN</td>\n",
       "      <td>NaN</td>\n",
       "      <td>NaN</td>\n",
       "      <td>NaN</td>\n",
       "    </tr>\n",
       "    <tr>\n",
       "      <th>5</th>\n",
       "      <td>7</td>\n",
       "      <td>4.36</td>\n",
       "      <td>4.91</td>\n",
       "      <td>4.48</td>\n",
       "      <td>NaN</td>\n",
       "      <td>NaN</td>\n",
       "      <td>NaN</td>\n",
       "      <td>NaN</td>\n",
       "      <td>NaN</td>\n",
       "    </tr>\n",
       "    <tr>\n",
       "      <th>6</th>\n",
       "      <td>8</td>\n",
       "      <td>3.74</td>\n",
       "      <td>3.71</td>\n",
       "      <td>3.76</td>\n",
       "      <td>NaN</td>\n",
       "      <td>NaN</td>\n",
       "      <td>NaN</td>\n",
       "      <td>NaN</td>\n",
       "      <td>NaN</td>\n",
       "    </tr>\n",
       "    <tr>\n",
       "      <th>7</th>\n",
       "      <td>9</td>\n",
       "      <td>7.70</td>\n",
       "      <td>3.75</td>\n",
       "      <td>3.60</td>\n",
       "      <td>NaN</td>\n",
       "      <td>NaN</td>\n",
       "      <td>NaN</td>\n",
       "      <td>NaN</td>\n",
       "      <td>NaN</td>\n",
       "    </tr>\n",
       "    <tr>\n",
       "      <th>8</th>\n",
       "      <td>10</td>\n",
       "      <td>3.34</td>\n",
       "      <td>2.13</td>\n",
       "      <td>5.40</td>\n",
       "      <td>NaN</td>\n",
       "      <td>NaN</td>\n",
       "      <td>NaN</td>\n",
       "      <td>NaN</td>\n",
       "      <td>NaN</td>\n",
       "    </tr>\n",
       "    <tr>\n",
       "      <th>9</th>\n",
       "      <td>11</td>\n",
       "      <td>3.96</td>\n",
       "      <td>2.24</td>\n",
       "      <td>4.22</td>\n",
       "      <td>NaN</td>\n",
       "      <td>NaN</td>\n",
       "      <td>NaN</td>\n",
       "      <td>NaN</td>\n",
       "      <td>NaN</td>\n",
       "    </tr>\n",
       "  </tbody>\n",
       "</table>\n",
       "</div>"
      ],
      "text/plain": [
       "   Id  target     1     2   3   4   5   6   7\n",
       "0   0    5.85  4.80  5.85 NaN NaN NaN NaN NaN\n",
       "1   3    4.28  5.88  6.84 NaN NaN NaN NaN NaN\n",
       "2   4    3.97  3.20  2.70 NaN NaN NaN NaN NaN\n",
       "3   5    5.95  7.70  7.06 NaN NaN NaN NaN NaN\n",
       "4   6    4.70  5.50  5.30 NaN NaN NaN NaN NaN\n",
       "5   7    4.36  4.91  4.48 NaN NaN NaN NaN NaN\n",
       "6   8    3.74  3.71  3.76 NaN NaN NaN NaN NaN\n",
       "7   9    7.70  3.75  3.60 NaN NaN NaN NaN NaN\n",
       "8  10    3.34  2.13  5.40 NaN NaN NaN NaN NaN\n",
       "9  11    3.96  2.24  4.22 NaN NaN NaN NaN NaN"
      ]
     },
     "execution_count": 3,
     "metadata": {},
     "output_type": "execute_result"
    }
   ],
   "source": [
    "train.head(10)"
   ]
  },
  {
   "cell_type": "code",
   "execution_count": 4,
   "id": "64db2b6c",
   "metadata": {},
   "outputs": [
    {
     "data": {
      "text/plain": [
       "(147, 9)"
      ]
     },
     "execution_count": 4,
     "metadata": {},
     "output_type": "execute_result"
    }
   ],
   "source": [
    "train.shape"
   ]
  },
  {
   "cell_type": "code",
   "execution_count": 5,
   "id": "5c53cbaa",
   "metadata": {},
   "outputs": [
    {
     "name": "stdout",
     "output_type": "stream",
     "text": [
      "<class 'pandas.core.frame.DataFrame'>\n",
      "RangeIndex: 147 entries, 0 to 146\n",
      "Data columns (total 9 columns):\n",
      " #   Column  Non-Null Count  Dtype  \n",
      "---  ------  --------------  -----  \n",
      " 0   Id      147 non-null    int64  \n",
      " 1   target  147 non-null    float64\n",
      " 2   1       145 non-null    float64\n",
      " 3   2       145 non-null    float64\n",
      " 4   3       32 non-null     float64\n",
      " 5   4       31 non-null     float64\n",
      " 6   5       33 non-null     float64\n",
      " 7   6       37 non-null     float64\n",
      " 8   7       37 non-null     float64\n",
      "dtypes: float64(8), int64(1)\n",
      "memory usage: 10.5 KB\n"
     ]
    }
   ],
   "source": [
    "train.info()"
   ]
  },
  {
   "cell_type": "code",
   "execution_count": 6,
   "id": "0870055e",
   "metadata": {},
   "outputs": [
    {
     "data": {
      "text/html": [
       "<div>\n",
       "<style scoped>\n",
       "    .dataframe tbody tr th:only-of-type {\n",
       "        vertical-align: middle;\n",
       "    }\n",
       "\n",
       "    .dataframe tbody tr th {\n",
       "        vertical-align: top;\n",
       "    }\n",
       "\n",
       "    .dataframe thead th {\n",
       "        text-align: right;\n",
       "    }\n",
       "</style>\n",
       "<table border=\"1\" class=\"dataframe\">\n",
       "  <thead>\n",
       "    <tr style=\"text-align: right;\">\n",
       "      <th></th>\n",
       "      <th>Id</th>\n",
       "      <th>target</th>\n",
       "      <th>1</th>\n",
       "      <th>2</th>\n",
       "      <th>3</th>\n",
       "      <th>4</th>\n",
       "      <th>5</th>\n",
       "      <th>6</th>\n",
       "      <th>7</th>\n",
       "    </tr>\n",
       "  </thead>\n",
       "  <tbody>\n",
       "    <tr>\n",
       "      <th>count</th>\n",
       "      <td>147.000000</td>\n",
       "      <td>147.000000</td>\n",
       "      <td>145.000000</td>\n",
       "      <td>145.000000</td>\n",
       "      <td>32.000000</td>\n",
       "      <td>31.000000</td>\n",
       "      <td>33.000000</td>\n",
       "      <td>37.000000</td>\n",
       "      <td>37.000000</td>\n",
       "    </tr>\n",
       "    <tr>\n",
       "      <th>mean</th>\n",
       "      <td>101.401361</td>\n",
       "      <td>5.021633</td>\n",
       "      <td>4.972621</td>\n",
       "      <td>4.906552</td>\n",
       "      <td>4.665000</td>\n",
       "      <td>5.871613</td>\n",
       "      <td>8.678788</td>\n",
       "      <td>3.883784</td>\n",
       "      <td>3.957568</td>\n",
       "    </tr>\n",
       "    <tr>\n",
       "      <th>std</th>\n",
       "      <td>64.836640</td>\n",
       "      <td>2.122535</td>\n",
       "      <td>2.044076</td>\n",
       "      <td>2.001357</td>\n",
       "      <td>2.057429</td>\n",
       "      <td>2.555247</td>\n",
       "      <td>5.299119</td>\n",
       "      <td>1.615455</td>\n",
       "      <td>1.916953</td>\n",
       "    </tr>\n",
       "    <tr>\n",
       "      <th>min</th>\n",
       "      <td>0.000000</td>\n",
       "      <td>1.300000</td>\n",
       "      <td>0.900000</td>\n",
       "      <td>1.040000</td>\n",
       "      <td>2.040000</td>\n",
       "      <td>2.480000</td>\n",
       "      <td>2.880000</td>\n",
       "      <td>1.000000</td>\n",
       "      <td>1.600000</td>\n",
       "    </tr>\n",
       "    <tr>\n",
       "      <th>25%</th>\n",
       "      <td>41.500000</td>\n",
       "      <td>3.720000</td>\n",
       "      <td>3.500000</td>\n",
       "      <td>3.400000</td>\n",
       "      <td>3.325000</td>\n",
       "      <td>4.445000</td>\n",
       "      <td>5.840000</td>\n",
       "      <td>2.900000</td>\n",
       "      <td>2.900000</td>\n",
       "    </tr>\n",
       "    <tr>\n",
       "      <th>50%</th>\n",
       "      <td>102.000000</td>\n",
       "      <td>4.600000</td>\n",
       "      <td>4.800000</td>\n",
       "      <td>4.830000</td>\n",
       "      <td>4.150000</td>\n",
       "      <td>5.500000</td>\n",
       "      <td>7.300000</td>\n",
       "      <td>3.400000</td>\n",
       "      <td>3.500000</td>\n",
       "    </tr>\n",
       "    <tr>\n",
       "      <th>75%</th>\n",
       "      <td>158.500000</td>\n",
       "      <td>6.275000</td>\n",
       "      <td>6.450000</td>\n",
       "      <td>6.200000</td>\n",
       "      <td>5.970000</td>\n",
       "      <td>6.400000</td>\n",
       "      <td>8.420000</td>\n",
       "      <td>4.800000</td>\n",
       "      <td>4.400000</td>\n",
       "    </tr>\n",
       "    <tr>\n",
       "      <th>max</th>\n",
       "      <td>214.000000</td>\n",
       "      <td>11.700000</td>\n",
       "      <td>10.900000</td>\n",
       "      <td>11.000000</td>\n",
       "      <td>10.660000</td>\n",
       "      <td>14.790000</td>\n",
       "      <td>27.120000</td>\n",
       "      <td>8.540000</td>\n",
       "      <td>10.370000</td>\n",
       "    </tr>\n",
       "  </tbody>\n",
       "</table>\n",
       "</div>"
      ],
      "text/plain": [
       "               Id      target           1           2          3          4  \\\n",
       "count  147.000000  147.000000  145.000000  145.000000  32.000000  31.000000   \n",
       "mean   101.401361    5.021633    4.972621    4.906552   4.665000   5.871613   \n",
       "std     64.836640    2.122535    2.044076    2.001357   2.057429   2.555247   \n",
       "min      0.000000    1.300000    0.900000    1.040000   2.040000   2.480000   \n",
       "25%     41.500000    3.720000    3.500000    3.400000   3.325000   4.445000   \n",
       "50%    102.000000    4.600000    4.800000    4.830000   4.150000   5.500000   \n",
       "75%    158.500000    6.275000    6.450000    6.200000   5.970000   6.400000   \n",
       "max    214.000000   11.700000   10.900000   11.000000  10.660000  14.790000   \n",
       "\n",
       "               5          6          7  \n",
       "count  33.000000  37.000000  37.000000  \n",
       "mean    8.678788   3.883784   3.957568  \n",
       "std     5.299119   1.615455   1.916953  \n",
       "min     2.880000   1.000000   1.600000  \n",
       "25%     5.840000   2.900000   2.900000  \n",
       "50%     7.300000   3.400000   3.500000  \n",
       "75%     8.420000   4.800000   4.400000  \n",
       "max    27.120000   8.540000  10.370000  "
      ]
     },
     "execution_count": 6,
     "metadata": {},
     "output_type": "execute_result"
    }
   ],
   "source": [
    "train.describe()"
   ]
  },
  {
   "cell_type": "code",
   "execution_count": 7,
   "id": "73f7f698",
   "metadata": {},
   "outputs": [],
   "source": [
    "# Id columns is set to the index\n",
    "train.set_index('Id',inplace=True)"
   ]
  },
  {
   "cell_type": "code",
   "execution_count": 8,
   "id": "1127f7df",
   "metadata": {},
   "outputs": [
    {
     "data": {
      "text/html": [
       "<div>\n",
       "<style scoped>\n",
       "    .dataframe tbody tr th:only-of-type {\n",
       "        vertical-align: middle;\n",
       "    }\n",
       "\n",
       "    .dataframe tbody tr th {\n",
       "        vertical-align: top;\n",
       "    }\n",
       "\n",
       "    .dataframe thead th {\n",
       "        text-align: right;\n",
       "    }\n",
       "</style>\n",
       "<table border=\"1\" class=\"dataframe\">\n",
       "  <thead>\n",
       "    <tr style=\"text-align: right;\">\n",
       "      <th></th>\n",
       "      <th>target</th>\n",
       "      <th>1</th>\n",
       "      <th>2</th>\n",
       "      <th>3</th>\n",
       "      <th>4</th>\n",
       "      <th>5</th>\n",
       "      <th>6</th>\n",
       "      <th>7</th>\n",
       "    </tr>\n",
       "    <tr>\n",
       "      <th>Id</th>\n",
       "      <th></th>\n",
       "      <th></th>\n",
       "      <th></th>\n",
       "      <th></th>\n",
       "      <th></th>\n",
       "      <th></th>\n",
       "      <th></th>\n",
       "      <th></th>\n",
       "    </tr>\n",
       "  </thead>\n",
       "  <tbody>\n",
       "    <tr>\n",
       "      <th>0</th>\n",
       "      <td>5.85</td>\n",
       "      <td>4.80</td>\n",
       "      <td>5.85</td>\n",
       "      <td>NaN</td>\n",
       "      <td>NaN</td>\n",
       "      <td>NaN</td>\n",
       "      <td>NaN</td>\n",
       "      <td>NaN</td>\n",
       "    </tr>\n",
       "    <tr>\n",
       "      <th>3</th>\n",
       "      <td>4.28</td>\n",
       "      <td>5.88</td>\n",
       "      <td>6.84</td>\n",
       "      <td>NaN</td>\n",
       "      <td>NaN</td>\n",
       "      <td>NaN</td>\n",
       "      <td>NaN</td>\n",
       "      <td>NaN</td>\n",
       "    </tr>\n",
       "    <tr>\n",
       "      <th>4</th>\n",
       "      <td>3.97</td>\n",
       "      <td>3.20</td>\n",
       "      <td>2.70</td>\n",
       "      <td>NaN</td>\n",
       "      <td>NaN</td>\n",
       "      <td>NaN</td>\n",
       "      <td>NaN</td>\n",
       "      <td>NaN</td>\n",
       "    </tr>\n",
       "    <tr>\n",
       "      <th>5</th>\n",
       "      <td>5.95</td>\n",
       "      <td>7.70</td>\n",
       "      <td>7.06</td>\n",
       "      <td>NaN</td>\n",
       "      <td>NaN</td>\n",
       "      <td>NaN</td>\n",
       "      <td>NaN</td>\n",
       "      <td>NaN</td>\n",
       "    </tr>\n",
       "    <tr>\n",
       "      <th>6</th>\n",
       "      <td>4.70</td>\n",
       "      <td>5.50</td>\n",
       "      <td>5.30</td>\n",
       "      <td>NaN</td>\n",
       "      <td>NaN</td>\n",
       "      <td>NaN</td>\n",
       "      <td>NaN</td>\n",
       "      <td>NaN</td>\n",
       "    </tr>\n",
       "    <tr>\n",
       "      <th>7</th>\n",
       "      <td>4.36</td>\n",
       "      <td>4.91</td>\n",
       "      <td>4.48</td>\n",
       "      <td>NaN</td>\n",
       "      <td>NaN</td>\n",
       "      <td>NaN</td>\n",
       "      <td>NaN</td>\n",
       "      <td>NaN</td>\n",
       "    </tr>\n",
       "    <tr>\n",
       "      <th>8</th>\n",
       "      <td>3.74</td>\n",
       "      <td>3.71</td>\n",
       "      <td>3.76</td>\n",
       "      <td>NaN</td>\n",
       "      <td>NaN</td>\n",
       "      <td>NaN</td>\n",
       "      <td>NaN</td>\n",
       "      <td>NaN</td>\n",
       "    </tr>\n",
       "    <tr>\n",
       "      <th>9</th>\n",
       "      <td>7.70</td>\n",
       "      <td>3.75</td>\n",
       "      <td>3.60</td>\n",
       "      <td>NaN</td>\n",
       "      <td>NaN</td>\n",
       "      <td>NaN</td>\n",
       "      <td>NaN</td>\n",
       "      <td>NaN</td>\n",
       "    </tr>\n",
       "    <tr>\n",
       "      <th>10</th>\n",
       "      <td>3.34</td>\n",
       "      <td>2.13</td>\n",
       "      <td>5.40</td>\n",
       "      <td>NaN</td>\n",
       "      <td>NaN</td>\n",
       "      <td>NaN</td>\n",
       "      <td>NaN</td>\n",
       "      <td>NaN</td>\n",
       "    </tr>\n",
       "    <tr>\n",
       "      <th>11</th>\n",
       "      <td>3.96</td>\n",
       "      <td>2.24</td>\n",
       "      <td>4.22</td>\n",
       "      <td>NaN</td>\n",
       "      <td>NaN</td>\n",
       "      <td>NaN</td>\n",
       "      <td>NaN</td>\n",
       "      <td>NaN</td>\n",
       "    </tr>\n",
       "  </tbody>\n",
       "</table>\n",
       "</div>"
      ],
      "text/plain": [
       "    target     1     2   3   4   5   6   7\n",
       "Id                                        \n",
       "0     5.85  4.80  5.85 NaN NaN NaN NaN NaN\n",
       "3     4.28  5.88  6.84 NaN NaN NaN NaN NaN\n",
       "4     3.97  3.20  2.70 NaN NaN NaN NaN NaN\n",
       "5     5.95  7.70  7.06 NaN NaN NaN NaN NaN\n",
       "6     4.70  5.50  5.30 NaN NaN NaN NaN NaN\n",
       "7     4.36  4.91  4.48 NaN NaN NaN NaN NaN\n",
       "8     3.74  3.71  3.76 NaN NaN NaN NaN NaN\n",
       "9     7.70  3.75  3.60 NaN NaN NaN NaN NaN\n",
       "10    3.34  2.13  5.40 NaN NaN NaN NaN NaN\n",
       "11    3.96  2.24  4.22 NaN NaN NaN NaN NaN"
      ]
     },
     "execution_count": 8,
     "metadata": {},
     "output_type": "execute_result"
    }
   ],
   "source": [
    "train.head(10)"
   ]
  },
  {
   "cell_type": "code",
   "execution_count": 9,
   "id": "5d725077",
   "metadata": {},
   "outputs": [
    {
     "data": {
      "text/plain": [
       "4.70     6\n",
       "4.20     4\n",
       "4.60     4\n",
       "5.60     4\n",
       "3.90     4\n",
       "        ..\n",
       "11.70    1\n",
       "6.90     1\n",
       "4.85     1\n",
       "4.23     1\n",
       "3.10     1\n",
       "Name: target, Length: 97, dtype: int64"
      ]
     },
     "execution_count": 9,
     "metadata": {},
     "output_type": "execute_result"
    }
   ],
   "source": [
    "train['target'].value_counts()"
   ]
  },
  {
   "cell_type": "code",
   "execution_count": 10,
   "id": "640f31c4",
   "metadata": {},
   "outputs": [],
   "source": [
    "train['target'] = np.where(train['target'] >5,1,0)"
   ]
  },
  {
   "cell_type": "code",
   "execution_count": 11,
   "id": "b34417c9",
   "metadata": {},
   "outputs": [
    {
     "data": {
      "text/plain": [
       "0    59.863946\n",
       "1    40.136054\n",
       "Name: target, dtype: float64"
      ]
     },
     "execution_count": 11,
     "metadata": {},
     "output_type": "execute_result"
    }
   ],
   "source": [
    "# imbalencing chacking\n",
    "train['target'].value_counts()/len(train)*100"
   ]
  },
  {
   "cell_type": "code",
   "execution_count": 12,
   "id": "d78f827d",
   "metadata": {},
   "outputs": [
    {
     "data": {
      "text/html": [
       "<div>\n",
       "<style scoped>\n",
       "    .dataframe tbody tr th:only-of-type {\n",
       "        vertical-align: middle;\n",
       "    }\n",
       "\n",
       "    .dataframe tbody tr th {\n",
       "        vertical-align: top;\n",
       "    }\n",
       "\n",
       "    .dataframe thead th {\n",
       "        text-align: right;\n",
       "    }\n",
       "</style>\n",
       "<table border=\"1\" class=\"dataframe\">\n",
       "  <thead>\n",
       "    <tr style=\"text-align: right;\">\n",
       "      <th></th>\n",
       "      <th>target</th>\n",
       "      <th>1</th>\n",
       "      <th>2</th>\n",
       "      <th>3</th>\n",
       "      <th>4</th>\n",
       "      <th>5</th>\n",
       "      <th>6</th>\n",
       "      <th>7</th>\n",
       "    </tr>\n",
       "    <tr>\n",
       "      <th>Id</th>\n",
       "      <th></th>\n",
       "      <th></th>\n",
       "      <th></th>\n",
       "      <th></th>\n",
       "      <th></th>\n",
       "      <th></th>\n",
       "      <th></th>\n",
       "      <th></th>\n",
       "    </tr>\n",
       "  </thead>\n",
       "  <tbody>\n",
       "    <tr>\n",
       "      <th>0</th>\n",
       "      <td>1</td>\n",
       "      <td>4.80</td>\n",
       "      <td>5.85</td>\n",
       "      <td>NaN</td>\n",
       "      <td>NaN</td>\n",
       "      <td>NaN</td>\n",
       "      <td>NaN</td>\n",
       "      <td>NaN</td>\n",
       "    </tr>\n",
       "    <tr>\n",
       "      <th>3</th>\n",
       "      <td>0</td>\n",
       "      <td>5.88</td>\n",
       "      <td>6.84</td>\n",
       "      <td>NaN</td>\n",
       "      <td>NaN</td>\n",
       "      <td>NaN</td>\n",
       "      <td>NaN</td>\n",
       "      <td>NaN</td>\n",
       "    </tr>\n",
       "    <tr>\n",
       "      <th>4</th>\n",
       "      <td>0</td>\n",
       "      <td>3.20</td>\n",
       "      <td>2.70</td>\n",
       "      <td>NaN</td>\n",
       "      <td>NaN</td>\n",
       "      <td>NaN</td>\n",
       "      <td>NaN</td>\n",
       "      <td>NaN</td>\n",
       "    </tr>\n",
       "    <tr>\n",
       "      <th>5</th>\n",
       "      <td>1</td>\n",
       "      <td>7.70</td>\n",
       "      <td>7.06</td>\n",
       "      <td>NaN</td>\n",
       "      <td>NaN</td>\n",
       "      <td>NaN</td>\n",
       "      <td>NaN</td>\n",
       "      <td>NaN</td>\n",
       "    </tr>\n",
       "    <tr>\n",
       "      <th>6</th>\n",
       "      <td>0</td>\n",
       "      <td>5.50</td>\n",
       "      <td>5.30</td>\n",
       "      <td>NaN</td>\n",
       "      <td>NaN</td>\n",
       "      <td>NaN</td>\n",
       "      <td>NaN</td>\n",
       "      <td>NaN</td>\n",
       "    </tr>\n",
       "    <tr>\n",
       "      <th>7</th>\n",
       "      <td>0</td>\n",
       "      <td>4.91</td>\n",
       "      <td>4.48</td>\n",
       "      <td>NaN</td>\n",
       "      <td>NaN</td>\n",
       "      <td>NaN</td>\n",
       "      <td>NaN</td>\n",
       "      <td>NaN</td>\n",
       "    </tr>\n",
       "    <tr>\n",
       "      <th>8</th>\n",
       "      <td>0</td>\n",
       "      <td>3.71</td>\n",
       "      <td>3.76</td>\n",
       "      <td>NaN</td>\n",
       "      <td>NaN</td>\n",
       "      <td>NaN</td>\n",
       "      <td>NaN</td>\n",
       "      <td>NaN</td>\n",
       "    </tr>\n",
       "    <tr>\n",
       "      <th>9</th>\n",
       "      <td>1</td>\n",
       "      <td>3.75</td>\n",
       "      <td>3.60</td>\n",
       "      <td>NaN</td>\n",
       "      <td>NaN</td>\n",
       "      <td>NaN</td>\n",
       "      <td>NaN</td>\n",
       "      <td>NaN</td>\n",
       "    </tr>\n",
       "    <tr>\n",
       "      <th>10</th>\n",
       "      <td>0</td>\n",
       "      <td>2.13</td>\n",
       "      <td>5.40</td>\n",
       "      <td>NaN</td>\n",
       "      <td>NaN</td>\n",
       "      <td>NaN</td>\n",
       "      <td>NaN</td>\n",
       "      <td>NaN</td>\n",
       "    </tr>\n",
       "    <tr>\n",
       "      <th>11</th>\n",
       "      <td>0</td>\n",
       "      <td>2.24</td>\n",
       "      <td>4.22</td>\n",
       "      <td>NaN</td>\n",
       "      <td>NaN</td>\n",
       "      <td>NaN</td>\n",
       "      <td>NaN</td>\n",
       "      <td>NaN</td>\n",
       "    </tr>\n",
       "  </tbody>\n",
       "</table>\n",
       "</div>"
      ],
      "text/plain": [
       "    target     1     2   3   4   5   6   7\n",
       "Id                                        \n",
       "0        1  4.80  5.85 NaN NaN NaN NaN NaN\n",
       "3        0  5.88  6.84 NaN NaN NaN NaN NaN\n",
       "4        0  3.20  2.70 NaN NaN NaN NaN NaN\n",
       "5        1  7.70  7.06 NaN NaN NaN NaN NaN\n",
       "6        0  5.50  5.30 NaN NaN NaN NaN NaN\n",
       "7        0  4.91  4.48 NaN NaN NaN NaN NaN\n",
       "8        0  3.71  3.76 NaN NaN NaN NaN NaN\n",
       "9        1  3.75  3.60 NaN NaN NaN NaN NaN\n",
       "10       0  2.13  5.40 NaN NaN NaN NaN NaN\n",
       "11       0  2.24  4.22 NaN NaN NaN NaN NaN"
      ]
     },
     "execution_count": 12,
     "metadata": {},
     "output_type": "execute_result"
    }
   ],
   "source": [
    "train.head(10)"
   ]
  },
  {
   "cell_type": "code",
   "execution_count": 13,
   "id": "ce5e9622",
   "metadata": {},
   "outputs": [
    {
     "data": {
      "text/plain": [
       "target     0.000000\n",
       "1          1.360544\n",
       "2          1.360544\n",
       "3         78.231293\n",
       "4         78.911565\n",
       "5         77.551020\n",
       "6         74.829932\n",
       "7         74.829932\n",
       "dtype: float64"
      ]
     },
     "execution_count": 13,
     "metadata": {},
     "output_type": "execute_result"
    }
   ],
   "source": [
    "# missing values \n",
    "train.isnull().mean()*100"
   ]
  },
  {
   "cell_type": "code",
   "execution_count": 14,
   "id": "78576476",
   "metadata": {},
   "outputs": [],
   "source": [
    "# missing values imputation\n",
    "train['1'].fillna(train['1'].mean(),inplace=True)\n",
    "train['2'].fillna(train['2'].median(),inplace=True)\n",
    "train['3'].fillna(train['3'].median(),inplace=True)\n",
    "train['4'].fillna(train['4'].median(),inplace=True)\n",
    "train['5'].fillna(train['5'].median(),inplace=True)\n",
    "train['6'].fillna(train['6'].median(),inplace=True)\n",
    "train['7'].fillna(train['7'].median(),inplace=True)"
   ]
  },
  {
   "cell_type": "code",
   "execution_count": 15,
   "id": "f513c55c",
   "metadata": {},
   "outputs": [
    {
     "data": {
      "text/plain": [
       "target    0\n",
       "1         0\n",
       "2         0\n",
       "3         0\n",
       "4         0\n",
       "5         0\n",
       "6         0\n",
       "7         0\n",
       "dtype: int64"
      ]
     },
     "execution_count": 15,
     "metadata": {},
     "output_type": "execute_result"
    }
   ],
   "source": [
    "train.isnull().sum()"
   ]
  },
  {
   "cell_type": "code",
   "execution_count": 16,
   "id": "94a79d1e",
   "metadata": {},
   "outputs": [
    {
     "data": {
      "text/plain": [
       "0"
      ]
     },
     "execution_count": 16,
     "metadata": {},
     "output_type": "execute_result"
    }
   ],
   "source": [
    "# chacking duplicated \n",
    "train.duplicated().sum()"
   ]
  },
  {
   "cell_type": "code",
   "execution_count": 17,
   "id": "b892e44f",
   "metadata": {},
   "outputs": [
    {
     "data": {
      "text/html": [
       "<div>\n",
       "<style scoped>\n",
       "    .dataframe tbody tr th:only-of-type {\n",
       "        vertical-align: middle;\n",
       "    }\n",
       "\n",
       "    .dataframe tbody tr th {\n",
       "        vertical-align: top;\n",
       "    }\n",
       "\n",
       "    .dataframe thead th {\n",
       "        text-align: right;\n",
       "    }\n",
       "</style>\n",
       "<table border=\"1\" class=\"dataframe\">\n",
       "  <thead>\n",
       "    <tr style=\"text-align: right;\">\n",
       "      <th></th>\n",
       "      <th>target</th>\n",
       "      <th>1</th>\n",
       "      <th>2</th>\n",
       "      <th>3</th>\n",
       "      <th>4</th>\n",
       "      <th>5</th>\n",
       "      <th>6</th>\n",
       "      <th>7</th>\n",
       "    </tr>\n",
       "    <tr>\n",
       "      <th>Id</th>\n",
       "      <th></th>\n",
       "      <th></th>\n",
       "      <th></th>\n",
       "      <th></th>\n",
       "      <th></th>\n",
       "      <th></th>\n",
       "      <th></th>\n",
       "      <th></th>\n",
       "    </tr>\n",
       "  </thead>\n",
       "  <tbody>\n",
       "    <tr>\n",
       "      <th>0</th>\n",
       "      <td>1</td>\n",
       "      <td>4.80</td>\n",
       "      <td>5.85</td>\n",
       "      <td>4.15</td>\n",
       "      <td>5.5</td>\n",
       "      <td>7.3</td>\n",
       "      <td>3.4</td>\n",
       "      <td>3.5</td>\n",
       "    </tr>\n",
       "    <tr>\n",
       "      <th>3</th>\n",
       "      <td>0</td>\n",
       "      <td>5.88</td>\n",
       "      <td>6.84</td>\n",
       "      <td>4.15</td>\n",
       "      <td>5.5</td>\n",
       "      <td>7.3</td>\n",
       "      <td>3.4</td>\n",
       "      <td>3.5</td>\n",
       "    </tr>\n",
       "    <tr>\n",
       "      <th>4</th>\n",
       "      <td>0</td>\n",
       "      <td>3.20</td>\n",
       "      <td>2.70</td>\n",
       "      <td>4.15</td>\n",
       "      <td>5.5</td>\n",
       "      <td>7.3</td>\n",
       "      <td>3.4</td>\n",
       "      <td>3.5</td>\n",
       "    </tr>\n",
       "    <tr>\n",
       "      <th>5</th>\n",
       "      <td>1</td>\n",
       "      <td>7.70</td>\n",
       "      <td>7.06</td>\n",
       "      <td>4.15</td>\n",
       "      <td>5.5</td>\n",
       "      <td>7.3</td>\n",
       "      <td>3.4</td>\n",
       "      <td>3.5</td>\n",
       "    </tr>\n",
       "    <tr>\n",
       "      <th>6</th>\n",
       "      <td>0</td>\n",
       "      <td>5.50</td>\n",
       "      <td>5.30</td>\n",
       "      <td>4.15</td>\n",
       "      <td>5.5</td>\n",
       "      <td>7.3</td>\n",
       "      <td>3.4</td>\n",
       "      <td>3.5</td>\n",
       "    </tr>\n",
       "    <tr>\n",
       "      <th>7</th>\n",
       "      <td>0</td>\n",
       "      <td>4.91</td>\n",
       "      <td>4.48</td>\n",
       "      <td>4.15</td>\n",
       "      <td>5.5</td>\n",
       "      <td>7.3</td>\n",
       "      <td>3.4</td>\n",
       "      <td>3.5</td>\n",
       "    </tr>\n",
       "    <tr>\n",
       "      <th>8</th>\n",
       "      <td>0</td>\n",
       "      <td>3.71</td>\n",
       "      <td>3.76</td>\n",
       "      <td>4.15</td>\n",
       "      <td>5.5</td>\n",
       "      <td>7.3</td>\n",
       "      <td>3.4</td>\n",
       "      <td>3.5</td>\n",
       "    </tr>\n",
       "    <tr>\n",
       "      <th>9</th>\n",
       "      <td>1</td>\n",
       "      <td>3.75</td>\n",
       "      <td>3.60</td>\n",
       "      <td>4.15</td>\n",
       "      <td>5.5</td>\n",
       "      <td>7.3</td>\n",
       "      <td>3.4</td>\n",
       "      <td>3.5</td>\n",
       "    </tr>\n",
       "    <tr>\n",
       "      <th>10</th>\n",
       "      <td>0</td>\n",
       "      <td>2.13</td>\n",
       "      <td>5.40</td>\n",
       "      <td>4.15</td>\n",
       "      <td>5.5</td>\n",
       "      <td>7.3</td>\n",
       "      <td>3.4</td>\n",
       "      <td>3.5</td>\n",
       "    </tr>\n",
       "    <tr>\n",
       "      <th>11</th>\n",
       "      <td>0</td>\n",
       "      <td>2.24</td>\n",
       "      <td>4.22</td>\n",
       "      <td>4.15</td>\n",
       "      <td>5.5</td>\n",
       "      <td>7.3</td>\n",
       "      <td>3.4</td>\n",
       "      <td>3.5</td>\n",
       "    </tr>\n",
       "  </tbody>\n",
       "</table>\n",
       "</div>"
      ],
      "text/plain": [
       "    target     1     2     3    4    5    6    7\n",
       "Id                                              \n",
       "0        1  4.80  5.85  4.15  5.5  7.3  3.4  3.5\n",
       "3        0  5.88  6.84  4.15  5.5  7.3  3.4  3.5\n",
       "4        0  3.20  2.70  4.15  5.5  7.3  3.4  3.5\n",
       "5        1  7.70  7.06  4.15  5.5  7.3  3.4  3.5\n",
       "6        0  5.50  5.30  4.15  5.5  7.3  3.4  3.5\n",
       "7        0  4.91  4.48  4.15  5.5  7.3  3.4  3.5\n",
       "8        0  3.71  3.76  4.15  5.5  7.3  3.4  3.5\n",
       "9        1  3.75  3.60  4.15  5.5  7.3  3.4  3.5\n",
       "10       0  2.13  5.40  4.15  5.5  7.3  3.4  3.5\n",
       "11       0  2.24  4.22  4.15  5.5  7.3  3.4  3.5"
      ]
     },
     "execution_count": 17,
     "metadata": {},
     "output_type": "execute_result"
    }
   ],
   "source": [
    "train.head(10)"
   ]
  },
  {
   "cell_type": "code",
   "execution_count": 18,
   "id": "0d132471",
   "metadata": {},
   "outputs": [
    {
     "data": {
      "text/plain": [
       "<AxesSubplot: xlabel='Id'>"
      ]
     },
     "execution_count": 18,
     "metadata": {},
     "output_type": "execute_result"
    },
    {
     "data": {
      "image/png": "[encoded data removed]",
      "text/plain": [
       "<Figure size 720x576 with 1 Axes>"
      ]
     },
     "metadata": {
      "needs_background": "light"
     },
     "output_type": "display_data"
    }
   ],
   "source": [
    "# scatter plot\n",
    "plt.figure(figsize=(10,8))\n",
    "sns.scatterplot(data=train ,color= 'green')"
   ]
  },
  {
   "cell_type": "code",
   "execution_count": 19,
   "id": "c2e6aae7",
   "metadata": {
    "scrolled": true
   },
   "outputs": [
    {
     "data": {
      "text/plain": [
       "<AxesSubplot: >"
      ]
     },
     "execution_count": 19,
     "metadata": {},
     "output_type": "execute_result"
    },
    {
     "data": {
      "image/png": "[encoded data removed]",
      "text/plain": [
       "<Figure size 432x288 with 1 Axes>"
      ]
     },
     "metadata": {
      "needs_background": "light"
     },
     "output_type": "display_data"
    }
   ],
   "source": [
    "# bar plot\n",
    "sns.barplot(data = train)"
   ]
  },
  {
   "cell_type": "code",
   "execution_count": 20,
   "id": "620cde16",
   "metadata": {
    "scrolled": true
   },
   "outputs": [
    {
     "data": {
      "text/plain": [
       "<AxesSubplot: >"
      ]
     },
     "execution_count": 20,
     "metadata": {},
     "output_type": "execute_result"
    },
    {
     "data": {
      "image/png": "[encoded data removed]",
      "text/plain": [
       "<Figure size 432x288 with 1 Axes>"
      ]
     },
     "metadata": {
      "needs_background": "light"
     },
     "output_type": "display_data"
    }
   ],
   "source": [
    "# outlier chacking\n",
    "sns.boxplot(data=train['1'])"
   ]
  },
  {
   "cell_type": "code",
   "execution_count": 21,
   "id": "5f2aa24a",
   "metadata": {},
   "outputs": [
    {
     "data": {
      "text/plain": [
       "<AxesSubplot: >"
      ]
     },
     "execution_count": 21,
     "metadata": {},
     "output_type": "execute_result"
    },
    {
     "data": {
      "image/png": "[encoded data removed]",
      "text/plain": [
       "<Figure size 432x288 with 1 Axes>"
      ]
     },
     "metadata": {
      "needs_background": "light"
     },
     "output_type": "display_data"
    }
   ],
   "source": [
    "sns.boxplot(data=train['2'])"
   ]
  },
  {
   "cell_type": "code",
   "execution_count": 22,
   "id": "3d933ddc",
   "metadata": {},
   "outputs": [
    {
     "data": {
      "text/plain": [
       "<AxesSubplot: >"
      ]
     },
     "execution_count": 22,
     "metadata": {},
     "output_type": "execute_result"
    },
    {
     "data": {
      "image/png": "[encoded data removed]",
      "text/plain": [
       "<Figure size 432x288 with 1 Axes>"
      ]
     },
     "metadata": {
      "needs_background": "light"
     },
     "output_type": "display_data"
    }
   ],
   "source": [
    "sns.boxplot(data=train['3'])"
   ]
  },
  {
   "cell_type": "code",
   "execution_count": 23,
   "id": "948dae38",
   "metadata": {},
   "outputs": [
    {
     "data": {
      "text/plain": [
       "<AxesSubplot: >"
      ]
     },
     "execution_count": 23,
     "metadata": {},
     "output_type": "execute_result"
    },
    {
     "data": {
      "image/png": "[encoded data removed]",
      "text/plain": [
       "<Figure size 432x288 with 1 Axes>"
      ]
     },
     "metadata": {
      "needs_background": "light"
     },
     "output_type": "display_data"
    }
   ],
   "source": [
    "sns.boxplot(data=train['4'])"
   ]
  },
  {
   "cell_type": "code",
   "execution_count": 24,
   "id": "4a469b89",
   "metadata": {},
   "outputs": [
    {
     "data": {
      "text/plain": [
       "<AxesSubplot: >"
      ]
     },
     "execution_count": 24,
     "metadata": {},
     "output_type": "execute_result"
    },
    {
     "data": {
      "image/png": "[encoded data removed]",
      "text/plain": [
       "<Figure size 432x288 with 1 Axes>"
      ]
     },
     "metadata": {
      "needs_background": "light"
     },
     "output_type": "display_data"
    }
   ],
   "source": [
    "sns.boxplot(data=train['5'])"
   ]
  },
  {
   "cell_type": "code",
   "execution_count": 25,
   "id": "b4bc5312",
   "metadata": {},
   "outputs": [
    {
     "data": {
      "text/plain": [
       "<AxesSubplot: >"
      ]
     },
     "execution_count": 25,
     "metadata": {},
     "output_type": "execute_result"
    },
    {
     "data": {
      "image/png": "[encoded data removed]",
      "text/plain": [
       "<Figure size 432x288 with 1 Axes>"
      ]
     },
     "metadata": {
      "needs_background": "light"
     },
     "output_type": "display_data"
    }
   ],
   "source": [
    "sns.boxplot(data=train['6'])"
   ]
  },
  {
   "cell_type": "code",
   "execution_count": 26,
   "id": "c905605a",
   "metadata": {},
   "outputs": [
    {
     "data": {
      "text/plain": [
       "<AxesSubplot: >"
      ]
     },
     "execution_count": 26,
     "metadata": {},
     "output_type": "execute_result"
    },
    {
     "data": {
      "image/png": "[encoded data removed]",
      "text/plain": [
       "<Figure size 432x288 with 1 Axes>"
      ]
     },
     "metadata": {
      "needs_background": "light"
     },
     "output_type": "display_data"
    }
   ],
   "source": [
    "sns.boxplot(data=train['7'])"
   ]
  },
  {
   "cell_type": "code",
   "execution_count": null,
   "id": "4882c053",
   "metadata": {},
   "outputs": [],
   "source": []
  },
  {
   "cell_type": "code",
   "execution_count": null,
   "id": "e163858e",
   "metadata": {},
   "outputs": [],
   "source": []
  },
  {
   "cell_type": "code",
   "execution_count": 27,
   "id": "449a570b",
   "metadata": {},
   "outputs": [
    {
     "data": {
      "text/plain": [
       "<AxesSubplot: xlabel='Id', ylabel='1'>"
      ]
     },
     "execution_count": 27,
     "metadata": {},
     "output_type": "execute_result"
    },
    {
     "data": {
      "image/png": "[encoded data removed]",
      "text/plain": [
       "<Figure size 432x288 with 1 Axes>"
      ]
     },
     "metadata": {
      "needs_background": "light"
     },
     "output_type": "display_data"
    }
   ],
   "source": [
    "sns.scatterplot(data= train['1'])"
   ]
  },
  {
   "cell_type": "code",
   "execution_count": 28,
   "id": "002654a7",
   "metadata": {},
   "outputs": [
    {
     "data": {
      "text/plain": [
       "<AxesSubplot: xlabel='Id', ylabel='2'>"
      ]
     },
     "execution_count": 28,
     "metadata": {},
     "output_type": "execute_result"
    },
    {
     "data": {
      "image/png": "[encoded data removed]",
      "text/plain": [
       "<Figure size 432x288 with 1 Axes>"
      ]
     },
     "metadata": {
      "needs_background": "light"
     },
     "output_type": "display_data"
    }
   ],
   "source": [
    "sns.scatterplot(data= train['2'])"
   ]
  },
  {
   "cell_type": "code",
   "execution_count": 29,
   "id": "04868bfc",
   "metadata": {},
   "outputs": [
    {
     "data": {
      "text/plain": [
       "<AxesSubplot: xlabel='Id', ylabel='3'>"
      ]
     },
     "execution_count": 29,
     "metadata": {},
     "output_type": "execute_result"
    },
    {
     "data": {
      "image/png": "[encoded data removed]",
      "text/plain": [
       "<Figure size 432x288 with 1 Axes>"
      ]
     },
     "metadata": {
      "needs_background": "light"
     },
     "output_type": "display_data"
    }
   ],
   "source": [
    "sns.scatterplot(data= train['3'])"
   ]
  },
  {
   "cell_type": "code",
   "execution_count": 30,
   "id": "3f1548ba",
   "metadata": {},
   "outputs": [
    {
     "data": {
      "text/plain": [
       "<AxesSubplot: xlabel='Id', ylabel='4'>"
      ]
     },
     "execution_count": 30,
     "metadata": {},
     "output_type": "execute_result"
    },
    {
     "data": {
      "image/png": "[encoded data removed]",
      "text/plain": [
       "<Figure size 432x288 with 1 Axes>"
      ]
     },
     "metadata": {
      "needs_background": "light"
     },
     "output_type": "display_data"
    }
   ],
   "source": [
    "sns.scatterplot(data= train['4'])"
   ]
  },
  {
   "cell_type": "code",
   "execution_count": 31,
   "id": "29573b6c",
   "metadata": {},
   "outputs": [
    {
     "data": {
      "text/plain": [
       "<AxesSubplot: xlabel='Id', ylabel='5'>"
      ]
     },
     "execution_count": 31,
     "metadata": {},
     "output_type": "execute_result"
    },
    {
     "data": {
      "image/png": "[encoded data removed]",
      "text/plain": [
       "<Figure size 432x288 with 1 Axes>"
      ]
     },
     "metadata": {
      "needs_background": "light"
     },
     "output_type": "display_data"
    }
   ],
   "source": [
    "sns.scatterplot(data= train['5'])"
   ]
  },
  {
   "cell_type": "code",
   "execution_count": 32,
   "id": "4c995d54",
   "metadata": {},
   "outputs": [
    {
     "data": {
      "text/plain": [
       "<AxesSubplot: xlabel='Id', ylabel='6'>"
      ]
     },
     "execution_count": 32,
     "metadata": {},
     "output_type": "execute_result"
    },
    {
     "data": {
      "image/png": "[encoded data removed]",
      "text/plain": [
       "<Figure size 432x288 with 1 Axes>"
      ]
     },
     "metadata": {
      "needs_background": "light"
     },
     "output_type": "display_data"
    }
   ],
   "source": [
    "sns.scatterplot(data= train['6'])"
   ]
  },
  {
   "cell_type": "code",
   "execution_count": 33,
   "id": "5edb1a06",
   "metadata": {},
   "outputs": [
    {
     "data": {
      "text/plain": [
       "<AxesSubplot: xlabel='Id', ylabel='7'>"
      ]
     },
     "execution_count": 33,
     "metadata": {},
     "output_type": "execute_result"
    },
    {
     "data": {
      "image/png": "[encoded data removed]",
      "text/plain": [
       "<Figure size 432x288 with 1 Axes>"
      ]
     },
     "metadata": {
      "needs_background": "light"
     },
     "output_type": "display_data"
    }
   ],
   "source": [
    "sns.scatterplot(data= train['7'])"
   ]
  },
  {
   "cell_type": "code",
   "execution_count": 34,
   "id": "c17522c6",
   "metadata": {},
   "outputs": [
    {
     "data": {
      "text/plain": [
       "<AxesSubplot: >"
      ]
     },
     "execution_count": 34,
     "metadata": {},
     "output_type": "execute_result"
    },
    {
     "data": {
      "image/png": "[encoded data removed]",
      "text/plain": [
       "<Figure size 1080x432 with 2 Axes>"
      ]
     },
     "metadata": {
      "needs_background": "light"
     },
     "output_type": "display_data"
    }
   ],
   "source": [
    "# Heatmap \n",
    "plt.figure(figsize=(15,6))\n",
    "sns.heatmap(train.corr(),annot=True)"
   ]
  },
  {
   "cell_type": "code",
   "execution_count": 35,
   "id": "9934b834",
   "metadata": {},
   "outputs": [
    {
     "data": {
      "text/html": [
       "<div>\n",
       "<style scoped>\n",
       "    .dataframe tbody tr th:only-of-type {\n",
       "        vertical-align: middle;\n",
       "    }\n",
       "\n",
       "    .dataframe tbody tr th {\n",
       "        vertical-align: top;\n",
       "    }\n",
       "\n",
       "    .dataframe thead th {\n",
       "        text-align: right;\n",
       "    }\n",
       "</style>\n",
       "<table border=\"1\" class=\"dataframe\">\n",
       "  <thead>\n",
       "    <tr style=\"text-align: right;\">\n",
       "      <th></th>\n",
       "      <th>target</th>\n",
       "      <th>1</th>\n",
       "      <th>2</th>\n",
       "      <th>3</th>\n",
       "      <th>4</th>\n",
       "      <th>5</th>\n",
       "      <th>6</th>\n",
       "      <th>7</th>\n",
       "    </tr>\n",
       "    <tr>\n",
       "      <th>Id</th>\n",
       "      <th></th>\n",
       "      <th></th>\n",
       "      <th></th>\n",
       "      <th></th>\n",
       "      <th></th>\n",
       "      <th></th>\n",
       "      <th></th>\n",
       "      <th></th>\n",
       "    </tr>\n",
       "  </thead>\n",
       "  <tbody>\n",
       "    <tr>\n",
       "      <th>0</th>\n",
       "      <td>1</td>\n",
       "      <td>4.80</td>\n",
       "      <td>5.85</td>\n",
       "      <td>4.15</td>\n",
       "      <td>5.5</td>\n",
       "      <td>7.3</td>\n",
       "      <td>3.4</td>\n",
       "      <td>3.5</td>\n",
       "    </tr>\n",
       "    <tr>\n",
       "      <th>3</th>\n",
       "      <td>0</td>\n",
       "      <td>5.88</td>\n",
       "      <td>6.84</td>\n",
       "      <td>4.15</td>\n",
       "      <td>5.5</td>\n",
       "      <td>7.3</td>\n",
       "      <td>3.4</td>\n",
       "      <td>3.5</td>\n",
       "    </tr>\n",
       "    <tr>\n",
       "      <th>4</th>\n",
       "      <td>0</td>\n",
       "      <td>3.20</td>\n",
       "      <td>2.70</td>\n",
       "      <td>4.15</td>\n",
       "      <td>5.5</td>\n",
       "      <td>7.3</td>\n",
       "      <td>3.4</td>\n",
       "      <td>3.5</td>\n",
       "    </tr>\n",
       "    <tr>\n",
       "      <th>5</th>\n",
       "      <td>1</td>\n",
       "      <td>7.70</td>\n",
       "      <td>7.06</td>\n",
       "      <td>4.15</td>\n",
       "      <td>5.5</td>\n",
       "      <td>7.3</td>\n",
       "      <td>3.4</td>\n",
       "      <td>3.5</td>\n",
       "    </tr>\n",
       "    <tr>\n",
       "      <th>6</th>\n",
       "      <td>0</td>\n",
       "      <td>5.50</td>\n",
       "      <td>5.30</td>\n",
       "      <td>4.15</td>\n",
       "      <td>5.5</td>\n",
       "      <td>7.3</td>\n",
       "      <td>3.4</td>\n",
       "      <td>3.5</td>\n",
       "    </tr>\n",
       "    <tr>\n",
       "      <th>...</th>\n",
       "      <td>...</td>\n",
       "      <td>...</td>\n",
       "      <td>...</td>\n",
       "      <td>...</td>\n",
       "      <td>...</td>\n",
       "      <td>...</td>\n",
       "      <td>...</td>\n",
       "      <td>...</td>\n",
       "    </tr>\n",
       "    <tr>\n",
       "      <th>208</th>\n",
       "      <td>0</td>\n",
       "      <td>5.00</td>\n",
       "      <td>5.80</td>\n",
       "      <td>4.15</td>\n",
       "      <td>5.5</td>\n",
       "      <td>7.3</td>\n",
       "      <td>3.4</td>\n",
       "      <td>3.5</td>\n",
       "    </tr>\n",
       "    <tr>\n",
       "      <th>211</th>\n",
       "      <td>1</td>\n",
       "      <td>8.00</td>\n",
       "      <td>8.00</td>\n",
       "      <td>4.15</td>\n",
       "      <td>5.5</td>\n",
       "      <td>7.3</td>\n",
       "      <td>3.4</td>\n",
       "      <td>3.5</td>\n",
       "    </tr>\n",
       "    <tr>\n",
       "      <th>212</th>\n",
       "      <td>1</td>\n",
       "      <td>6.80</td>\n",
       "      <td>7.20</td>\n",
       "      <td>4.15</td>\n",
       "      <td>5.5</td>\n",
       "      <td>7.3</td>\n",
       "      <td>3.4</td>\n",
       "      <td>3.5</td>\n",
       "    </tr>\n",
       "    <tr>\n",
       "      <th>213</th>\n",
       "      <td>1</td>\n",
       "      <td>5.20</td>\n",
       "      <td>7.80</td>\n",
       "      <td>4.15</td>\n",
       "      <td>5.5</td>\n",
       "      <td>7.3</td>\n",
       "      <td>3.4</td>\n",
       "      <td>3.5</td>\n",
       "    </tr>\n",
       "    <tr>\n",
       "      <th>214</th>\n",
       "      <td>0</td>\n",
       "      <td>3.40</td>\n",
       "      <td>4.10</td>\n",
       "      <td>4.15</td>\n",
       "      <td>5.5</td>\n",
       "      <td>7.3</td>\n",
       "      <td>3.4</td>\n",
       "      <td>3.5</td>\n",
       "    </tr>\n",
       "  </tbody>\n",
       "</table>\n",
       "<p>147 rows × 8 columns</p>\n",
       "</div>"
      ],
      "text/plain": [
       "     target     1     2     3    4    5    6    7\n",
       "Id                                               \n",
       "0         1  4.80  5.85  4.15  5.5  7.3  3.4  3.5\n",
       "3         0  5.88  6.84  4.15  5.5  7.3  3.4  3.5\n",
       "4         0  3.20  2.70  4.15  5.5  7.3  3.4  3.5\n",
       "5         1  7.70  7.06  4.15  5.5  7.3  3.4  3.5\n",
       "6         0  5.50  5.30  4.15  5.5  7.3  3.4  3.5\n",
       "..      ...   ...   ...   ...  ...  ...  ...  ...\n",
       "208       0  5.00  5.80  4.15  5.5  7.3  3.4  3.5\n",
       "211       1  8.00  8.00  4.15  5.5  7.3  3.4  3.5\n",
       "212       1  6.80  7.20  4.15  5.5  7.3  3.4  3.5\n",
       "213       1  5.20  7.80  4.15  5.5  7.3  3.4  3.5\n",
       "214       0  3.40  4.10  4.15  5.5  7.3  3.4  3.5\n",
       "\n",
       "[147 rows x 8 columns]"
      ]
     },
     "execution_count": 35,
     "metadata": {},
     "output_type": "execute_result"
    }
   ],
   "source": [
    "train"
   ]
  },
  {
   "cell_type": "code",
   "execution_count": 36,
   "id": "975e9a50",
   "metadata": {},
   "outputs": [
    {
     "data": {
      "text/plain": [
       "['1', '2', '3', '4', '5', '6', '7']"
      ]
     },
     "execution_count": 36,
     "metadata": {},
     "output_type": "execute_result"
    }
   ],
   "source": [
    "numaric_col = ['1','2','3','4','5','6','7']\n",
    "numaric_col"
   ]
  },
  {
   "cell_type": "code",
   "execution_count": 37,
   "id": "35ecb90d",
   "metadata": {},
   "outputs": [],
   "source": [
    "train_num = train[numaric_col]"
   ]
  },
  {
   "cell_type": "code",
   "execution_count": 38,
   "id": "0a74887b",
   "metadata": {},
   "outputs": [
    {
     "data": {
      "text/html": [
       "<div>\n",
       "<style scoped>\n",
       "    .dataframe tbody tr th:only-of-type {\n",
       "        vertical-align: middle;\n",
       "    }\n",
       "\n",
       "    .dataframe tbody tr th {\n",
       "        vertical-align: top;\n",
       "    }\n",
       "\n",
       "    .dataframe thead th {\n",
       "        text-align: right;\n",
       "    }\n",
       "</style>\n",
       "<table border=\"1\" class=\"dataframe\">\n",
       "  <thead>\n",
       "    <tr style=\"text-align: right;\">\n",
       "      <th></th>\n",
       "      <th>1</th>\n",
       "      <th>2</th>\n",
       "      <th>3</th>\n",
       "      <th>4</th>\n",
       "      <th>5</th>\n",
       "      <th>6</th>\n",
       "      <th>7</th>\n",
       "    </tr>\n",
       "    <tr>\n",
       "      <th>Id</th>\n",
       "      <th></th>\n",
       "      <th></th>\n",
       "      <th></th>\n",
       "      <th></th>\n",
       "      <th></th>\n",
       "      <th></th>\n",
       "      <th></th>\n",
       "    </tr>\n",
       "  </thead>\n",
       "  <tbody>\n",
       "    <tr>\n",
       "      <th>0</th>\n",
       "      <td>4.80</td>\n",
       "      <td>5.85</td>\n",
       "      <td>4.15</td>\n",
       "      <td>5.5</td>\n",
       "      <td>7.3</td>\n",
       "      <td>3.4</td>\n",
       "      <td>3.5</td>\n",
       "    </tr>\n",
       "    <tr>\n",
       "      <th>3</th>\n",
       "      <td>5.88</td>\n",
       "      <td>6.84</td>\n",
       "      <td>4.15</td>\n",
       "      <td>5.5</td>\n",
       "      <td>7.3</td>\n",
       "      <td>3.4</td>\n",
       "      <td>3.5</td>\n",
       "    </tr>\n",
       "    <tr>\n",
       "      <th>4</th>\n",
       "      <td>3.20</td>\n",
       "      <td>2.70</td>\n",
       "      <td>4.15</td>\n",
       "      <td>5.5</td>\n",
       "      <td>7.3</td>\n",
       "      <td>3.4</td>\n",
       "      <td>3.5</td>\n",
       "    </tr>\n",
       "    <tr>\n",
       "      <th>5</th>\n",
       "      <td>7.70</td>\n",
       "      <td>7.06</td>\n",
       "      <td>4.15</td>\n",
       "      <td>5.5</td>\n",
       "      <td>7.3</td>\n",
       "      <td>3.4</td>\n",
       "      <td>3.5</td>\n",
       "    </tr>\n",
       "    <tr>\n",
       "      <th>6</th>\n",
       "      <td>5.50</td>\n",
       "      <td>5.30</td>\n",
       "      <td>4.15</td>\n",
       "      <td>5.5</td>\n",
       "      <td>7.3</td>\n",
       "      <td>3.4</td>\n",
       "      <td>3.5</td>\n",
       "    </tr>\n",
       "    <tr>\n",
       "      <th>...</th>\n",
       "      <td>...</td>\n",
       "      <td>...</td>\n",
       "      <td>...</td>\n",
       "      <td>...</td>\n",
       "      <td>...</td>\n",
       "      <td>...</td>\n",
       "      <td>...</td>\n",
       "    </tr>\n",
       "    <tr>\n",
       "      <th>208</th>\n",
       "      <td>5.00</td>\n",
       "      <td>5.80</td>\n",
       "      <td>4.15</td>\n",
       "      <td>5.5</td>\n",
       "      <td>7.3</td>\n",
       "      <td>3.4</td>\n",
       "      <td>3.5</td>\n",
       "    </tr>\n",
       "    <tr>\n",
       "      <th>211</th>\n",
       "      <td>8.00</td>\n",
       "      <td>8.00</td>\n",
       "      <td>4.15</td>\n",
       "      <td>5.5</td>\n",
       "      <td>7.3</td>\n",
       "      <td>3.4</td>\n",
       "      <td>3.5</td>\n",
       "    </tr>\n",
       "    <tr>\n",
       "      <th>212</th>\n",
       "      <td>6.80</td>\n",
       "      <td>7.20</td>\n",
       "      <td>4.15</td>\n",
       "      <td>5.5</td>\n",
       "      <td>7.3</td>\n",
       "      <td>3.4</td>\n",
       "      <td>3.5</td>\n",
       "    </tr>\n",
       "    <tr>\n",
       "      <th>213</th>\n",
       "      <td>5.20</td>\n",
       "      <td>7.80</td>\n",
       "      <td>4.15</td>\n",
       "      <td>5.5</td>\n",
       "      <td>7.3</td>\n",
       "      <td>3.4</td>\n",
       "      <td>3.5</td>\n",
       "    </tr>\n",
       "    <tr>\n",
       "      <th>214</th>\n",
       "      <td>3.40</td>\n",
       "      <td>4.10</td>\n",
       "      <td>4.15</td>\n",
       "      <td>5.5</td>\n",
       "      <td>7.3</td>\n",
       "      <td>3.4</td>\n",
       "      <td>3.5</td>\n",
       "    </tr>\n",
       "  </tbody>\n",
       "</table>\n",
       "<p>147 rows × 7 columns</p>\n",
       "</div>"
      ],
      "text/plain": [
       "        1     2     3    4    5    6    7\n",
       "Id                                       \n",
       "0    4.80  5.85  4.15  5.5  7.3  3.4  3.5\n",
       "3    5.88  6.84  4.15  5.5  7.3  3.4  3.5\n",
       "4    3.20  2.70  4.15  5.5  7.3  3.4  3.5\n",
       "5    7.70  7.06  4.15  5.5  7.3  3.4  3.5\n",
       "6    5.50  5.30  4.15  5.5  7.3  3.4  3.5\n",
       "..    ...   ...   ...  ...  ...  ...  ...\n",
       "208  5.00  5.80  4.15  5.5  7.3  3.4  3.5\n",
       "211  8.00  8.00  4.15  5.5  7.3  3.4  3.5\n",
       "212  6.80  7.20  4.15  5.5  7.3  3.4  3.5\n",
       "213  5.20  7.80  4.15  5.5  7.3  3.4  3.5\n",
       "214  3.40  4.10  4.15  5.5  7.3  3.4  3.5\n",
       "\n",
       "[147 rows x 7 columns]"
      ]
     },
     "execution_count": 38,
     "metadata": {},
     "output_type": "execute_result"
    }
   ],
   "source": [
    "train_num"
   ]
  },
  {
   "cell_type": "code",
   "execution_count": 39,
   "id": "f8f826fd",
   "metadata": {},
   "outputs": [
    {
     "data": {
      "text/plain": [
       "Id\n",
       "0      1\n",
       "3      0\n",
       "4      0\n",
       "5      1\n",
       "6      0\n",
       "      ..\n",
       "208    0\n",
       "211    1\n",
       "212    1\n",
       "213    1\n",
       "214    0\n",
       "Name: target, Length: 147, dtype: int32"
      ]
     },
     "execution_count": 39,
     "metadata": {},
     "output_type": "execute_result"
    }
   ],
   "source": [
    "train_target = train['target']\n",
    "train_target"
   ]
  },
  {
   "cell_type": "code",
   "execution_count": 40,
   "id": "4e07e767",
   "metadata": {},
   "outputs": [],
   "source": [
    "# Outlier Detetion \n",
    "\n",
    "from sklearn.covariance import EllipticEnvelope\n",
    "model_tr = EllipticEnvelope(contamination=0.05)\n",
    "model_tr.fit(train_num)\n",
    "train_num['outlier_score'] = model_tr.predict(train_num)\n",
    "ee_index =list(train_num[train_num['outlier_score']==-1].index)"
   ]
  },
  {
   "cell_type": "code",
   "execution_count": 41,
   "id": "fb699cba",
   "metadata": {},
   "outputs": [
    {
     "data": {
      "text/plain": [
       "8"
      ]
     },
     "execution_count": 41,
     "metadata": {},
     "output_type": "execute_result"
    }
   ],
   "source": [
    "len(ee_index)"
   ]
  },
  {
   "cell_type": "code",
   "execution_count": 42,
   "id": "b12027d8",
   "metadata": {},
   "outputs": [],
   "source": [
    "train_num.drop(columns='outlier_score',inplace=True)"
   ]
  },
  {
   "cell_type": "code",
   "execution_count": 43,
   "id": "13506053",
   "metadata": {},
   "outputs": [],
   "source": [
    "train_num.drop(ee_index,inplace=True)"
   ]
  },
  {
   "cell_type": "code",
   "execution_count": 44,
   "id": "7704bff7",
   "metadata": {},
   "outputs": [
    {
     "data": {
      "text/html": [
       "<div>\n",
       "<style scoped>\n",
       "    .dataframe tbody tr th:only-of-type {\n",
       "        vertical-align: middle;\n",
       "    }\n",
       "\n",
       "    .dataframe tbody tr th {\n",
       "        vertical-align: top;\n",
       "    }\n",
       "\n",
       "    .dataframe thead th {\n",
       "        text-align: right;\n",
       "    }\n",
       "</style>\n",
       "<table border=\"1\" class=\"dataframe\">\n",
       "  <thead>\n",
       "    <tr style=\"text-align: right;\">\n",
       "      <th></th>\n",
       "      <th>1</th>\n",
       "      <th>2</th>\n",
       "      <th>3</th>\n",
       "      <th>4</th>\n",
       "      <th>5</th>\n",
       "      <th>6</th>\n",
       "      <th>7</th>\n",
       "    </tr>\n",
       "    <tr>\n",
       "      <th>Id</th>\n",
       "      <th></th>\n",
       "      <th></th>\n",
       "      <th></th>\n",
       "      <th></th>\n",
       "      <th></th>\n",
       "      <th></th>\n",
       "      <th></th>\n",
       "    </tr>\n",
       "  </thead>\n",
       "  <tbody>\n",
       "    <tr>\n",
       "      <th>0</th>\n",
       "      <td>4.80</td>\n",
       "      <td>5.85</td>\n",
       "      <td>4.15</td>\n",
       "      <td>5.5</td>\n",
       "      <td>7.3</td>\n",
       "      <td>3.4</td>\n",
       "      <td>3.5</td>\n",
       "    </tr>\n",
       "    <tr>\n",
       "      <th>3</th>\n",
       "      <td>5.88</td>\n",
       "      <td>6.84</td>\n",
       "      <td>4.15</td>\n",
       "      <td>5.5</td>\n",
       "      <td>7.3</td>\n",
       "      <td>3.4</td>\n",
       "      <td>3.5</td>\n",
       "    </tr>\n",
       "    <tr>\n",
       "      <th>4</th>\n",
       "      <td>3.20</td>\n",
       "      <td>2.70</td>\n",
       "      <td>4.15</td>\n",
       "      <td>5.5</td>\n",
       "      <td>7.3</td>\n",
       "      <td>3.4</td>\n",
       "      <td>3.5</td>\n",
       "    </tr>\n",
       "    <tr>\n",
       "      <th>5</th>\n",
       "      <td>7.70</td>\n",
       "      <td>7.06</td>\n",
       "      <td>4.15</td>\n",
       "      <td>5.5</td>\n",
       "      <td>7.3</td>\n",
       "      <td>3.4</td>\n",
       "      <td>3.5</td>\n",
       "    </tr>\n",
       "    <tr>\n",
       "      <th>6</th>\n",
       "      <td>5.50</td>\n",
       "      <td>5.30</td>\n",
       "      <td>4.15</td>\n",
       "      <td>5.5</td>\n",
       "      <td>7.3</td>\n",
       "      <td>3.4</td>\n",
       "      <td>3.5</td>\n",
       "    </tr>\n",
       "    <tr>\n",
       "      <th>...</th>\n",
       "      <td>...</td>\n",
       "      <td>...</td>\n",
       "      <td>...</td>\n",
       "      <td>...</td>\n",
       "      <td>...</td>\n",
       "      <td>...</td>\n",
       "      <td>...</td>\n",
       "    </tr>\n",
       "    <tr>\n",
       "      <th>208</th>\n",
       "      <td>5.00</td>\n",
       "      <td>5.80</td>\n",
       "      <td>4.15</td>\n",
       "      <td>5.5</td>\n",
       "      <td>7.3</td>\n",
       "      <td>3.4</td>\n",
       "      <td>3.5</td>\n",
       "    </tr>\n",
       "    <tr>\n",
       "      <th>211</th>\n",
       "      <td>8.00</td>\n",
       "      <td>8.00</td>\n",
       "      <td>4.15</td>\n",
       "      <td>5.5</td>\n",
       "      <td>7.3</td>\n",
       "      <td>3.4</td>\n",
       "      <td>3.5</td>\n",
       "    </tr>\n",
       "    <tr>\n",
       "      <th>212</th>\n",
       "      <td>6.80</td>\n",
       "      <td>7.20</td>\n",
       "      <td>4.15</td>\n",
       "      <td>5.5</td>\n",
       "      <td>7.3</td>\n",
       "      <td>3.4</td>\n",
       "      <td>3.5</td>\n",
       "    </tr>\n",
       "    <tr>\n",
       "      <th>213</th>\n",
       "      <td>5.20</td>\n",
       "      <td>7.80</td>\n",
       "      <td>4.15</td>\n",
       "      <td>5.5</td>\n",
       "      <td>7.3</td>\n",
       "      <td>3.4</td>\n",
       "      <td>3.5</td>\n",
       "    </tr>\n",
       "    <tr>\n",
       "      <th>214</th>\n",
       "      <td>3.40</td>\n",
       "      <td>4.10</td>\n",
       "      <td>4.15</td>\n",
       "      <td>5.5</td>\n",
       "      <td>7.3</td>\n",
       "      <td>3.4</td>\n",
       "      <td>3.5</td>\n",
       "    </tr>\n",
       "  </tbody>\n",
       "</table>\n",
       "<p>139 rows × 7 columns</p>\n",
       "</div>"
      ],
      "text/plain": [
       "        1     2     3    4    5    6    7\n",
       "Id                                       \n",
       "0    4.80  5.85  4.15  5.5  7.3  3.4  3.5\n",
       "3    5.88  6.84  4.15  5.5  7.3  3.4  3.5\n",
       "4    3.20  2.70  4.15  5.5  7.3  3.4  3.5\n",
       "5    7.70  7.06  4.15  5.5  7.3  3.4  3.5\n",
       "6    5.50  5.30  4.15  5.5  7.3  3.4  3.5\n",
       "..    ...   ...   ...  ...  ...  ...  ...\n",
       "208  5.00  5.80  4.15  5.5  7.3  3.4  3.5\n",
       "211  8.00  8.00  4.15  5.5  7.3  3.4  3.5\n",
       "212  6.80  7.20  4.15  5.5  7.3  3.4  3.5\n",
       "213  5.20  7.80  4.15  5.5  7.3  3.4  3.5\n",
       "214  3.40  4.10  4.15  5.5  7.3  3.4  3.5\n",
       "\n",
       "[139 rows x 7 columns]"
      ]
     },
     "execution_count": 44,
     "metadata": {},
     "output_type": "execute_result"
    }
   ],
   "source": [
    "train_num"
   ]
  },
  {
   "cell_type": "code",
   "execution_count": 45,
   "id": "7b51f10c",
   "metadata": {},
   "outputs": [],
   "source": [
    "# standerdisation\n",
    "from sklearn.preprocessing import StandardScaler\n",
    "sc = StandardScaler()\n",
    "train_std = sc.fit_transform(train_num)"
   ]
  },
  {
   "cell_type": "code",
   "execution_count": 46,
   "id": "7ac6016b",
   "metadata": {},
   "outputs": [
    {
     "data": {
      "text/plain": [
       "array([[-6.81032167e-02,  4.73455867e-01, -7.80674206e-02,\n",
       "         8.06055359e-02,  3.85700249e-02, -1.20624244e-01,\n",
       "        -7.66217902e-02],\n",
       "       [ 4.76715508e-01,  9.72210073e-01, -7.80674206e-02,\n",
       "         8.06055359e-02,  3.85700249e-02, -1.20624244e-01,\n",
       "        -7.66217902e-02],\n",
       "       [-8.75242069e-01, -1.11348933e+00, -7.80674206e-02,\n",
       "         8.06055359e-02,  3.85700249e-02, -1.20624244e-01,\n",
       "        -7.66217902e-02],\n",
       "       [ 1.39483595e+00,  1.08304434e+00, -7.80674206e-02,\n",
       "         8.06055359e-02,  3.85700249e-02, -1.20624244e-01,\n",
       "        -7.66217902e-02],\n",
       "       [ 2.85020031e-01,  1.96370197e-01, -7.80674206e-02,\n",
       "         8.06055359e-02,  3.85700249e-02, -1.20624244e-01,\n",
       "        -7.66217902e-02],\n",
       "       [-1.26124206e-02, -2.16739347e-01, -7.80674206e-02,\n",
       "         8.06055359e-02,  3.85700249e-02, -1.20624244e-01,\n",
       "        -7.66217902e-02],\n",
       "       [-6.17966560e-01, -5.79469678e-01, -7.80674206e-02,\n",
       "         8.06055359e-02,  3.85700249e-02, -1.20624244e-01,\n",
       "        -7.66217902e-02],\n",
       "       [-5.97788088e-01, -6.60076418e-01, -7.80674206e-02,\n",
       "         8.06055359e-02,  3.85700249e-02, -1.20624244e-01,\n",
       "        -7.66217902e-02],\n",
       "       [-1.41501618e+00,  2.46749410e-01, -7.80674206e-02,\n",
       "         8.06055359e-02,  3.85700249e-02, -1.20624244e-01,\n",
       "        -7.66217902e-02],\n",
       "       [-1.35952538e+00, -3.47725300e-01, -7.80674206e-02,\n",
       "         8.06055359e-02,  3.85700249e-02, -1.20624244e-01,\n",
       "        -7.66217902e-02],\n",
       "       [ 3.85912388e-01, -1.15980921e-01, -7.80674206e-02,\n",
       "         8.06055359e-02,  3.85700249e-02, -1.20624244e-01,\n",
       "        -7.66217902e-02],\n",
       "       [ 8.29838756e-01, -1.10341349e+00, -7.80674206e-02,\n",
       "         8.06055359e-02,  3.85700249e-02, -1.20624244e-01,\n",
       "        -7.66217902e-02],\n",
       "       [-1.89929949e+00, -1.73819157e+00, -7.80674206e-02,\n",
       "         8.06055359e-02,  3.85700249e-02, -1.20624244e-01,\n",
       "        -7.66217902e-02],\n",
       "       [ 1.31916669e+00,  1.80850500e+00, -7.80674206e-02,\n",
       "         8.06055359e-02,  3.85700249e-02, -1.20624244e-01,\n",
       "        -7.66217902e-02],\n",
       "       [ 2.09350764e-01, -3.82990749e-01, -7.80674206e-02,\n",
       "         8.06055359e-02,  3.85700249e-02, -1.20624244e-01,\n",
       "        -7.66217902e-02],\n",
       "       [-9.50911336e-01, -5.24052544e-01, -7.80674206e-02,\n",
       "         8.06055359e-02,  3.85700249e-02, -1.20624244e-01,\n",
       "        -7.66217902e-02],\n",
       "       [-1.03415541e-01, -4.04121023e-02, -7.80674206e-02,\n",
       "         8.06055359e-02,  3.85700249e-02, -1.20624244e-01,\n",
       "        -1.79720803e+00],\n",
       "       [-7.23903534e-01, -1.31500618e+00, -7.80674206e-02,\n",
       "         8.06055359e-02,  3.85700249e-02, -1.20624244e-01,\n",
       "         1.12778858e+00],\n",
       "       [-6.81032167e-02, -9.62351694e-01, -7.80674206e-02,\n",
       "         8.06055359e-02,  3.85700249e-02, -1.20624244e-01,\n",
       "        -7.66217902e-02],\n",
       "       [ 1.84127675e-01, -4.23294119e-01, -7.80674206e-02,\n",
       "         8.06055359e-02,  3.85700249e-02, -1.20624244e-01,\n",
       "        -7.66217902e-02],\n",
       "       [ 1.48815350e-01, -5.55258661e-02, -7.80674206e-02,\n",
       "         8.06055359e-02,  3.85700249e-02, -1.20624244e-01,\n",
       "        -7.66217902e-02],\n",
       "       [-5.22118821e-01, -5.55258661e-02, -7.80674206e-02,\n",
       "         8.06055359e-02,  3.85700249e-02, -1.20624244e-01,\n",
       "        -7.66217902e-02],\n",
       "       [ 3.35466209e-01,  1.96370197e-01, -7.80674206e-02,\n",
       "         8.06055359e-02,  3.85700249e-02, -1.20624244e-01,\n",
       "        -7.66217902e-02],\n",
       "       [-2.69887930e-01, -7.10455631e-01, -7.80674206e-02,\n",
       "         8.06055359e-02,  3.85700249e-02, -1.20624244e-01,\n",
       "        -7.66217902e-02],\n",
       "       [ 9.40820348e-01,  1.25433366e+00, -7.80674206e-02,\n",
       "         8.06055359e-02,  3.85700249e-02, -1.20624244e-01,\n",
       "        -7.66217902e-02],\n",
       "       [-8.24795890e-01, -1.01273091e+00, -7.80674206e-02,\n",
       "         8.06055359e-02,  3.85700249e-02, -1.20624244e-01,\n",
       "        -7.66217902e-02],\n",
       "       [ 7.89481814e-01,  4.98645474e-01, -7.80674206e-02,\n",
       "         8.06055359e-02,  3.85700249e-02, -1.20624244e-01,\n",
       "        -7.66217902e-02],\n",
       "       [-6.73457356e-01, -2.06663504e-01, -7.80674206e-02,\n",
       "         8.06055359e-02,  3.85700249e-02, -1.20624244e-01,\n",
       "        -7.66217902e-02],\n",
       "       [-1.18549395e-01, -5.59317993e-01, -7.80674206e-02,\n",
       "         8.06055359e-02,  3.85700249e-02, -1.20624244e-01,\n",
       "        -7.66217902e-02],\n",
       "       [-1.37970385e+00, -7.60834844e-01, -7.80674206e-02,\n",
       "         8.06055359e-02,  3.85700249e-02, -1.20624244e-01,\n",
       "        -7.66217902e-02],\n",
       "       [ 4.28783755e-02,  2.46749410e-01, -7.80674206e-02,\n",
       "         8.06055359e-02,  3.85700249e-02, -1.20624244e-01,\n",
       "        -7.66217902e-02],\n",
       "       [-3.45557197e-01, -6.85266025e-01, -7.80674206e-02,\n",
       "         8.06055359e-02,  3.85700249e-02, -1.20624244e-01,\n",
       "        -7.66217902e-02],\n",
       "       [-7.49126623e-01, -1.11348933e+00, -7.80674206e-02,\n",
       "         8.06055359e-02,  3.85700249e-02, -1.20624244e-01,\n",
       "        -7.66217902e-02],\n",
       "       [ 6.88589457e-01,  4.48266261e-01, -7.80674206e-02,\n",
       "         8.06055359e-02,  3.85700249e-02, -1.20624244e-01,\n",
       "        -7.66217902e-02],\n",
       "       [-1.32925767e+00, -1.46614382e+00, -7.80674206e-02,\n",
       "         8.06055359e-02,  3.85700249e-02, -1.20624244e-01,\n",
       "        -7.66217902e-02],\n",
       "       [ 1.84885156e+00,  5.49024686e-01, -7.80674206e-02,\n",
       "         8.06055359e-02,  3.85700249e-02, -1.20624244e-01,\n",
       "        -7.66217902e-02],\n",
       "       [-4.71672643e-01, -1.03792051e+00, -7.80674206e-02,\n",
       "         8.06055359e-02,  3.85700249e-02, -1.20624244e-01,\n",
       "        -7.66217902e-02],\n",
       "       [-1.27881149e+00, -1.11348933e+00, -7.80674206e-02,\n",
       "         8.06055359e-02,  3.85700249e-02, -1.20624244e-01,\n",
       "        -7.66217902e-02],\n",
       "       [ 7.89481814e-01,  1.10319603e+00, -7.80674206e-02,\n",
       "         8.06055359e-02,  3.85700249e-02, -1.20624244e-01,\n",
       "        -7.66217902e-02],\n",
       "       [-7.23903534e-01,  6.14517663e-01, -7.80674206e-02,\n",
       "         8.06055359e-02,  3.85700249e-02, -1.20624244e-01,\n",
       "        -7.66217902e-02],\n",
       "       [-1.43015003e+00, -1.16386855e+00, -7.80674206e-02,\n",
       "         8.06055359e-02,  3.85700249e-02, -1.20624244e-01,\n",
       "        -1.10897353e+00],\n",
       "       [ 1.19305124e+00,  5.49024686e-01, -7.80674206e-02,\n",
       "         8.06055359e-02,  3.85700249e-02, -1.20624244e-01,\n",
       "        -1.10897353e+00],\n",
       "       [ 3.27891398e-02, -8.11214056e-01, -7.80674206e-02,\n",
       "         8.06055359e-02,  3.85700249e-02, -1.20624244e-01,\n",
       "        -7.66217902e-02],\n",
       "       [-3.70780286e-01,  2.97128623e-01, -7.80674206e-02,\n",
       "         8.06055359e-02,  3.85700249e-02, -1.20624244e-01,\n",
       "        -7.66217902e-02],\n",
       "       [ 8.39927992e-01,  8.51299962e-01, -7.80674206e-02,\n",
       "         8.06055359e-02,  3.85700249e-02, -5.30569720e-01,\n",
       "        -9.36914911e-01],\n",
       "       [-4.21226464e-01, -3.07421930e-01, -7.80674206e-02,\n",
       "         8.06055359e-02,  3.85700249e-02, -1.20624244e-01,\n",
       "        -7.66217902e-02],\n",
       "       [ 5.87697101e-01,  7.35427773e-01, -7.80674206e-02,\n",
       "         8.06055359e-02,  3.85700249e-02, -1.20624244e-01,\n",
       "        -7.66217902e-02],\n",
       "       [-2.69887930e-01, -6.09697206e-01,  4.43015542e+00,\n",
       "         2.60650526e+00,  7.99799928e-01, -1.07716369e+00,\n",
       "        -9.36914911e-01],\n",
       "       [-7.23903534e-01, -6.60076418e-01, -7.80674206e-02,\n",
       "         8.06055359e-02,  3.85700249e-02, -1.20624244e-01,\n",
       "        -7.66217902e-02],\n",
       "       [ 5.12027833e-01,  1.20801378e-01, -7.80674206e-02,\n",
       "         8.06055359e-02,  3.85700249e-02, -1.20624244e-01,\n",
       "        -7.66217902e-02],\n",
       "       [ 1.11738197e+00,  6.49783112e-01, -7.80674206e-02,\n",
       "         8.06055359e-02,  3.85700249e-02, -1.20624244e-01,\n",
       "        -7.66217902e-02],\n",
       "       [-6.81032167e-02, -4.04121023e-02, -7.80674206e-02,\n",
       "         8.06055359e-02, -2.87671362e-01, -8.03866704e-01,\n",
       "        -9.36914911e-01],\n",
       "       [-3.35467961e-01, -3.57801142e-01, -6.31708822e-01,\n",
       "         6.21869763e-01,  3.85700249e-02, -1.20624244e-01,\n",
       "        -7.66217902e-02],\n",
       "       [-2.69887930e-01,  3.97887048e-01, -7.80674206e-02,\n",
       "         8.06055359e-02,  3.85700249e-02, -1.20624244e-01,\n",
       "        -7.66217902e-02],\n",
       "       [ 3.00911366e+00,  4.98645474e-01, -7.80674206e-02,\n",
       "         8.06055359e-02,  3.85700249e-02, -1.20624244e-01,\n",
       "        -7.66217902e-02],\n",
       "       [ 2.34573853e-01,  3.06798532e+00, -7.80674206e-02,\n",
       "         8.06055359e-02,  3.85700249e-02, -1.20624244e-01,\n",
       "        -7.66217902e-02],\n",
       "       [ 1.89773241e-02, -1.51652303e+00,  4.43015542e+00,\n",
       "         1.70439822e+00,  3.85700249e-02, -1.20624244e-01,\n",
       "        -7.66217902e-02],\n",
       "       [-8.24795890e-01, -4.08180355e-01,  4.75573980e-01,\n",
       "         8.06055359e-02,  1.34353557e+00, -1.20624244e-01,\n",
       "        -7.66217902e-02],\n",
       "       [-4.86806496e-01,  9.56117720e-02, -7.80674206e-02,\n",
       "        -3.52782264e+00,  3.85700249e-02,  3.43223655e+00,\n",
       "         2.50425757e+00],\n",
       "       [ 1.49572831e+00,  9.01679175e-01, -7.80674206e-02,\n",
       "         8.06055359e-02, -5.05165620e-01,  1.79245464e+00,\n",
       "        -7.64856287e-01],\n",
       "       [-1.78327328e+00, -1.16386855e+00,  7.91940495e-01,\n",
       "         9.82712581e-01, -1.81013117e+00,  2.33904861e+00,\n",
       "        -7.66217902e-02],\n",
       "       [-1.63193474e+00, -1.61728146e+00, -7.80674206e-02,\n",
       "         8.06055359e-02,  3.85700249e-02, -1.20624244e-01,\n",
       "        -7.66217902e-02],\n",
       "       [ 1.54617449e+00,  1.85888422e+00,  1.74104004e+00,\n",
       "        -1.72360855e+00,  3.85700249e-02, -1.20624244e-01,\n",
       "        -7.66217902e-02],\n",
       "       [ 3.10243120e-01, -5.14665338e-03, -7.80674206e-02,\n",
       "         8.06055359e-02,  3.85700249e-02,  5.21623668e-01,\n",
       "        -1.10897353e+00],\n",
       "       [-1.94218662e-01, -3.32611536e-01, -3.24173257e+00,\n",
       "        -3.88866546e+00, -4.76805308e+00, -2.15668677e+00,\n",
       "        -1.21220871e+00],\n",
       "       [ 8.32353181e-02, -2.82232323e-01, -7.80674206e-02,\n",
       "         8.06055359e-02,  3.85700249e-02, -1.20624244e-01,\n",
       "        -7.66217902e-02],\n",
       "       [ 3.60689298e-01,  7.04221657e-02, -7.80674206e-02,\n",
       "         8.06055359e-02,  3.85700249e-02, -1.20624244e-01,\n",
       "        -7.66217902e-02],\n",
       "       [ 5.87697101e-01,  1.20395445e+00, -7.80674206e-02,\n",
       "         8.06055359e-02,  3.85700249e-02, -3.93921228e-01,\n",
       "         2.67495458e-01],\n",
       "       [-3.20334108e-01,  2.97128623e-01, -7.80674206e-02,\n",
       "         8.06055359e-02,  3.85700249e-02, -1.20624244e-01,\n",
       "        -7.66217902e-02],\n",
       "       [-6.81032167e-02,  3.01187955e-02,  1.42467352e+00,\n",
       "        -4.60658691e-01,  3.85700249e-02, -8.03866704e-01,\n",
       "        -1.62514941e+00],\n",
       "       [ 5.47340158e-01,  3.97887048e-01, -7.80674206e-02,\n",
       "         8.06055359e-02,  3.85700249e-02, -1.20624244e-01,\n",
       "        -7.66217902e-02],\n",
       "       [-1.53104239e+00, -1.16386855e+00, -2.57736289e+00,\n",
       "         6.21869763e-01,  3.85700249e-02, -1.20624244e-01,\n",
       "        -7.66217902e-02],\n",
       "       [-1.18549395e-01, -8.11214056e-01, -7.80674206e-02,\n",
       "         8.06055359e-02, -1.60351162e+00,  2.72166439e+00,\n",
       "         5.25583394e-01],\n",
       "       [ 1.84127675e-01, -5.55258661e-02, -7.80674206e-02,\n",
       "        -3.49173836e+00,  3.85700249e-02, -1.20624244e-01,\n",
       "        -7.66217902e-02],\n",
       "       [-3.70780286e-01,  7.00162324e-01, -7.80674206e-02,\n",
       "         8.06055359e-02, -4.50792055e-01, -8.44861252e-01,\n",
       "        -3.34573565e+00],\n",
       "       [-2.19441751e-01,  5.64138450e-01, -7.80674206e-02,\n",
       "         8.06055359e-02, -1.54913806e+00, -3.40018805e+00,\n",
       "        -2.19294287e+00],\n",
       "       [ 4.86804744e-01,  1.00243760e+00, -4.73525564e-01,\n",
       "        -1.92207210e+00,  3.85700249e-02, -1.20624244e-01,\n",
       "        -7.66217902e-02],\n",
       "       [ 8.32353181e-02,  4.98645474e-01, -7.80674206e-02,\n",
       "         8.06055359e-02,  3.85700249e-02, -1.20624244e-01,\n",
       "        -7.66217902e-02],\n",
       "       [ 8.39927992e-01,  9.52058388e-01, -7.80674206e-02,\n",
       "         8.06055359e-02,  7.02013570e+00,  6.90310824e+00,\n",
       "         4.80984313e+00],\n",
       "       [ 1.14260506e+00,  1.85888422e+00, -7.80674206e-02,\n",
       "         8.06055359e-02,  3.85700249e-02, -1.20624244e-01,\n",
       "        -7.66217902e-02],\n",
       "       [-1.58148856e+00, -1.41576461e+00, -7.80674206e-02,\n",
       "         8.06055359e-02,  3.85700249e-02, -1.20624244e-01,\n",
       "        -7.66217902e-02],\n",
       "       [-1.07702678e+00, -4.58559568e-01, -7.80674206e-02,\n",
       "         8.06055359e-02,  3.85700249e-02, -1.20624244e-01,\n",
       "        -7.66217902e-02],\n",
       "       [-9.15599011e-01, -1.54675056e+00, -7.80674206e-02,\n",
       "         8.06055359e-02,  3.85700249e-02, -1.20624244e-01,\n",
       "        -7.66217902e-02],\n",
       "       [-1.05684831e+00, -8.81744954e-01,  3.60760248e+00,\n",
       "        -1.16430219e+00,  3.85700249e-02,  9.04239445e-01,\n",
       "         1.02455340e+00],\n",
       "       [-5.37252674e-01, -1.67773651e+00, -7.80674206e-02,\n",
       "         8.06055359e-02,  3.85700249e-02, -1.20624244e-01,\n",
       "        -7.66217902e-02],\n",
       "       [ 1.36961286e+00,  8.51299962e-01, -7.80674206e-02,\n",
       "         8.06055359e-02,  3.85700249e-02, -1.20624244e-01,\n",
       "        -7.66217902e-02],\n",
       "       [-7.44082005e-01, -1.47621966e+00, -7.80674206e-02,\n",
       "         8.06055359e-02,  3.85700249e-02, -1.20624244e-01,\n",
       "        -7.66217902e-02],\n",
       "       [-7.03725063e-01,  7.75731143e-01, -7.80674206e-02,\n",
       "         8.06055359e-02,  3.85700249e-02, -1.20624244e-01,\n",
       "        -7.66217902e-02],\n",
       "       [-1.78327328e+00, -1.26462697e+00, -7.80674206e-02,\n",
       "         8.06055359e-02,  4.73558541e-01, -1.20624244e-01,\n",
       "        -7.66217902e-02],\n",
       "       [-1.34439153e+00, -9.92579222e-01, -7.80674206e-02,\n",
       "         8.06055359e-02,  3.85700249e-02, -1.20624244e-01,\n",
       "        -7.66217902e-02],\n",
       "       [-2.03550417e+00, -1.86917752e+00, -7.80674206e-02,\n",
       "         8.06055359e-02,  3.85700249e-02, -1.20624244e-01,\n",
       "        -7.66217902e-02],\n",
       "       [ 1.34438977e+00,  7.50541537e-01, -7.80674206e-02,\n",
       "         8.06055359e-02,  3.85700249e-02,  2.33904861e+00,\n",
       "         2.84837482e+00],\n",
       "       [-8.24795890e-01, -1.05905079e-01, -7.80674206e-02,\n",
       "         8.06055359e-02,  3.85700249e-02, -1.20624244e-01,\n",
       "        -7.66217902e-02],\n",
       "       [ 1.34438977e+00,  2.46749410e-01, -7.80674206e-02,\n",
       "         8.06055359e-02,  3.85700249e-02, -1.20624244e-01,\n",
       "        -7.66217902e-02],\n",
       "       [-1.73282710e+00, -5.59317993e-01, -7.80674206e-02,\n",
       "         8.06055359e-02,  3.85700249e-02, -1.20624244e-01,\n",
       "        -7.66217902e-02],\n",
       "       [-3.70780286e-01, -5.08938780e-01, -7.89892079e-01,\n",
       "         2.42608385e+00,  4.73558541e-01,  6.99266708e-01,\n",
       "         4.39554082e-01],\n",
       "       [ 1.89773241e-02, -4.04121023e-02, -7.80674206e-02,\n",
       "         8.06055359e-02,  1.23478844e+00, -1.21381218e+00,\n",
       "        -7.66217902e-02],\n",
       "       [-8.09662037e-01,  1.02762721e+00,  2.53195633e+00,\n",
       "        -4.60658691e-01, -1.91887830e+00,  5.62618216e-01,\n",
       "         6.11612706e-01],\n",
       "       [ 1.94974391e+00,  1.95964264e+00, -7.80674206e-02,\n",
       "         8.06055359e-02,  3.85700249e-02,  2.89321232e-01,\n",
       "         1.47190583e+00],\n",
       "       [-4.61583407e-01, -4.73673331e-01, -7.80674206e-02,\n",
       "         8.06055359e-02,  3.85700249e-02, -1.20624244e-01,\n",
       "        -7.66217902e-02],\n",
       "       [-9.00465158e-01, -1.36538540e+00, -3.94433935e-01,\n",
       "        -9.11712213e-01, -5.59539184e-01,  1.60242476e-02,\n",
       "         9.54368340e-02],\n",
       "       [ 8.39927992e-01,  4.48266261e-01, -7.80674206e-02,\n",
       "         8.06055359e-02,  3.85700249e-02, -2.57272736e-01,\n",
       "        -7.66217902e-02],\n",
       "       [ 2.37853643e+00,  3.04279571e+00, -7.80674206e-02,\n",
       "         8.06055359e-02,  3.85700249e-02, -1.20624244e-01,\n",
       "        -7.66217902e-02],\n",
       "       [ 1.49572831e+00,  7.00162324e-01, -7.80674206e-02,\n",
       "         8.06055359e-02,  3.85700249e-02, -1.20624244e-01,\n",
       "        -7.66217902e-02],\n",
       "       [ 4.61581655e-01,  9.01679175e-01,  1.10830701e+00,\n",
       "        -6.41080100e-01, -2.24511968e+00,  9.72563691e-01,\n",
       "         6.11612706e-01],\n",
       "       [ 8.29838756e-01, -3.17497772e-01, -3.02027601e+00,\n",
       "        -4.06908687e+00, -3.89807604e+00, -1.20624244e-01,\n",
       "        -7.66217902e-02],\n",
       "       [-1.43772484e-01,  3.52545757e-01, -7.80674206e-02,\n",
       "         8.06055359e-02,  3.85700249e-02, -1.20624244e-01,\n",
       "        -7.66217902e-02],\n",
       "       [-1.02153599e+00, -1.20417192e+00, -2.21354140e+00,\n",
       "         5.85409062e+00,  3.19223676e+00, -1.48710916e+00,\n",
       "        -2.26176632e+00],\n",
       "       [ 9.91266527e-01,  1.90926343e+00, -7.80674206e-02,\n",
       "         8.06055359e-02,  3.85700249e-02, -1.20624244e-01,\n",
       "        -7.66217902e-02],\n",
       "       [-1.07702678e+00,  5.59100529e-01, -7.80674206e-02,\n",
       "         8.06055359e-02,  3.85700249e-02, -1.20624244e-01,\n",
       "        -7.66217902e-02],\n",
       "       [ 1.04171270e+00,  1.45585051e+00, -7.80674206e-02,\n",
       "         8.06055359e-02,  3.85700249e-02, -1.20624244e-01,\n",
       "        -7.66217902e-02],\n",
       "       [ 5.12027833e-01, -1.05905079e-01, -7.80674206e-02,\n",
       "         8.06055359e-02,  3.85700249e-02, -1.20624244e-01,\n",
       "        -7.66217902e-02],\n",
       "       [ 1.09215888e+00,  5.99403899e-01, -7.80674206e-02,\n",
       "         8.06055359e-02,  3.85700249e-02, -1.20624244e-01,\n",
       "        -7.66217902e-02],\n",
       "       [ 7.64258725e-01,  8.00920750e-01, -7.80674206e-02,\n",
       "         8.06055359e-02, -2.24511968e+00, -1.20624244e-01,\n",
       "        -7.66217902e-02],\n",
       "       [-6.81032167e-02, -5.08938780e-01, -7.80674206e-02,\n",
       "         8.06055359e-02,  3.85700249e-02, -1.20624244e-01,\n",
       "        -7.66217902e-02],\n",
       "       [-5.22118821e-01, -4.08180355e-01, -3.00445768e+00,\n",
       "        -3.97887616e+00,  4.40934402e-01,  5.20866694e+00,\n",
       "         3.70866794e+00],\n",
       "       [-7.23903534e-01, -8.11214056e-01, -7.80674206e-02,\n",
       "         8.06055359e-02,  3.85700249e-02, -1.20624244e-01,\n",
       "        -7.66217902e-02],\n",
       "       [ 1.09215888e+00,  2.06040107e+00, -7.80674206e-02,\n",
       "         8.06055359e-02,  3.85700249e-02, -1.20624244e-01,\n",
       "        -7.66217902e-02],\n",
       "       [-4.21226464e-01, -7.60834844e-01, -1.10625859e+00,\n",
       "         1.70439822e+00, -5.37789759e-01, -1.20624244e-01,\n",
       "        -4.20739038e-01],\n",
       "       [-9.50911336e-01, -1.26462697e+00, -7.80674206e-02,\n",
       "         8.06055359e-02,  3.85700249e-02, -1.20624244e-01,\n",
       "        -7.66217902e-02],\n",
       "       [-1.53104239e+00, -1.26462697e+00, -7.80674206e-02,\n",
       "         8.06055359e-02,  3.85700249e-02, -1.20624244e-01,\n",
       "        -7.66217902e-02],\n",
       "       [ 1.84127675e-01, -5.08938780e-01, -7.80674206e-02,\n",
       "         8.06055359e-02,  3.85700249e-02, -1.20624244e-01,\n",
       "        -7.66217902e-02],\n",
       "       [ 7.39035635e-01,  9.52058388e-01, -7.80674206e-02,\n",
       "         8.06055359e-02,  3.85700249e-02, -1.20624244e-01,\n",
       "        -7.66217902e-02],\n",
       "       [-6.73457356e-01, -1.51652303e+00, -7.80674206e-02,\n",
       "         8.06055359e-02,  3.85700249e-02, -1.20624244e-01,\n",
       "        -7.66217902e-02],\n",
       "       [ 3.85912388e-01, -1.36538540e+00, -7.80674206e-02,\n",
       "         8.06055359e-02,  3.85700249e-02, -1.20624244e-01,\n",
       "        -7.66217902e-02],\n",
       "       [ 2.75688277e+00,  1.55660894e+00, -1.57159049e-01,\n",
       "        -8.21501509e-01,  2.15913904e+00, -1.48710916e+00,\n",
       "         1.55793514e+00],\n",
       "       [-2.69887930e-01,  2.46749410e-01,  5.37925496e+00,\n",
       "         8.06055359e-02,  2.48538043e+00, -1.20624244e-01,\n",
       "        -7.66217902e-02],\n",
       "       [ 1.49572831e+00, -5.14665338e-03, -7.80674206e-02,\n",
       "         8.06055359e-02,  3.85700249e-02, -1.20624244e-01,\n",
       "        -7.66217902e-02],\n",
       "       [-6.23011177e-01,  1.45990985e-01, -7.80674206e-02,\n",
       "         8.06055359e-02,  3.85700249e-02, -1.20624244e-01,\n",
       "        -7.66217902e-02],\n",
       "       [ 1.19305124e+00,  4.98645474e-01, -7.80674206e-02,\n",
       "         8.06055359e-02,  3.85700249e-02, -1.20624244e-01,\n",
       "        -7.66217902e-02],\n",
       "       [-1.21827608e+00, -1.60720562e+00,  8.23577147e-01,\n",
       "         1.10900757e+00, -1.67963461e+00, -7.35542458e-01,\n",
       "         6.58204696e+00],\n",
       "       [-3.45557197e-01, -5.55258661e-02, -7.80674206e-02,\n",
       "         8.06055359e-02,  3.85700249e-02, -1.20624244e-01,\n",
       "        -7.66217902e-02],\n",
       "       [ 1.54617449e+00,  1.25433366e+00, -7.80674206e-02,\n",
       "         8.06055359e-02,  3.85700249e-02, -1.20624244e-01,\n",
       "        -7.66217902e-02],\n",
       "       [ 1.69751302e+00,  1.35509209e+00, -7.80674206e-02,\n",
       "         8.06055359e-02,  3.85700249e-02, -1.20624244e-01,\n",
       "        -7.66217902e-02],\n",
       "       [ 3.27891398e-02,  4.48266261e-01, -7.80674206e-02,\n",
       "         8.06055359e-02,  3.85700249e-02, -1.20624244e-01,\n",
       "        -7.66217902e-02],\n",
       "       [ 1.54617449e+00,  1.55660894e+00, -7.80674206e-02,\n",
       "         8.06055359e-02,  3.85700249e-02, -1.20624244e-01,\n",
       "        -7.66217902e-02],\n",
       "       [ 9.40820348e-01,  1.15357524e+00, -7.80674206e-02,\n",
       "         8.06055359e-02,  3.85700249e-02, -1.20624244e-01,\n",
       "        -7.66217902e-02],\n",
       "       [ 1.33681496e-01,  1.45585051e+00, -7.80674206e-02,\n",
       "         8.06055359e-02,  3.85700249e-02, -1.20624244e-01,\n",
       "        -7.66217902e-02],\n",
       "       [-7.74349712e-01, -4.08180355e-01, -7.80674206e-02,\n",
       "         8.06055359e-02,  3.85700249e-02, -1.20624244e-01,\n",
       "        -7.66217902e-02]])"
      ]
     },
     "execution_count": 46,
     "metadata": {},
     "output_type": "execute_result"
    }
   ],
   "source": [
    "train_std"
   ]
  },
  {
   "cell_type": "code",
   "execution_count": 47,
   "id": "32d9ab02",
   "metadata": {},
   "outputs": [],
   "source": [
    "train_df = pd.DataFrame(train_std , columns=numaric_col, index = train_num.index)"
   ]
  },
  {
   "cell_type": "code",
   "execution_count": 48,
   "id": "0095e433",
   "metadata": {},
   "outputs": [
    {
     "data": {
      "text/html": [
       "<div>\n",
       "<style scoped>\n",
       "    .dataframe tbody tr th:only-of-type {\n",
       "        vertical-align: middle;\n",
       "    }\n",
       "\n",
       "    .dataframe tbody tr th {\n",
       "        vertical-align: top;\n",
       "    }\n",
       "\n",
       "    .dataframe thead th {\n",
       "        text-align: right;\n",
       "    }\n",
       "</style>\n",
       "<table border=\"1\" class=\"dataframe\">\n",
       "  <thead>\n",
       "    <tr style=\"text-align: right;\">\n",
       "      <th></th>\n",
       "      <th>1</th>\n",
       "      <th>2</th>\n",
       "      <th>3</th>\n",
       "      <th>4</th>\n",
       "      <th>5</th>\n",
       "      <th>6</th>\n",
       "      <th>7</th>\n",
       "    </tr>\n",
       "    <tr>\n",
       "      <th>Id</th>\n",
       "      <th></th>\n",
       "      <th></th>\n",
       "      <th></th>\n",
       "      <th></th>\n",
       "      <th></th>\n",
       "      <th></th>\n",
       "      <th></th>\n",
       "    </tr>\n",
       "  </thead>\n",
       "  <tbody>\n",
       "    <tr>\n",
       "      <th>0</th>\n",
       "      <td>-0.068103</td>\n",
       "      <td>0.473456</td>\n",
       "      <td>-0.078067</td>\n",
       "      <td>0.080606</td>\n",
       "      <td>0.03857</td>\n",
       "      <td>-0.120624</td>\n",
       "      <td>-0.076622</td>\n",
       "    </tr>\n",
       "    <tr>\n",
       "      <th>3</th>\n",
       "      <td>0.476716</td>\n",
       "      <td>0.972210</td>\n",
       "      <td>-0.078067</td>\n",
       "      <td>0.080606</td>\n",
       "      <td>0.03857</td>\n",
       "      <td>-0.120624</td>\n",
       "      <td>-0.076622</td>\n",
       "    </tr>\n",
       "    <tr>\n",
       "      <th>4</th>\n",
       "      <td>-0.875242</td>\n",
       "      <td>-1.113489</td>\n",
       "      <td>-0.078067</td>\n",
       "      <td>0.080606</td>\n",
       "      <td>0.03857</td>\n",
       "      <td>-0.120624</td>\n",
       "      <td>-0.076622</td>\n",
       "    </tr>\n",
       "    <tr>\n",
       "      <th>5</th>\n",
       "      <td>1.394836</td>\n",
       "      <td>1.083044</td>\n",
       "      <td>-0.078067</td>\n",
       "      <td>0.080606</td>\n",
       "      <td>0.03857</td>\n",
       "      <td>-0.120624</td>\n",
       "      <td>-0.076622</td>\n",
       "    </tr>\n",
       "    <tr>\n",
       "      <th>6</th>\n",
       "      <td>0.285020</td>\n",
       "      <td>0.196370</td>\n",
       "      <td>-0.078067</td>\n",
       "      <td>0.080606</td>\n",
       "      <td>0.03857</td>\n",
       "      <td>-0.120624</td>\n",
       "      <td>-0.076622</td>\n",
       "    </tr>\n",
       "    <tr>\n",
       "      <th>...</th>\n",
       "      <td>...</td>\n",
       "      <td>...</td>\n",
       "      <td>...</td>\n",
       "      <td>...</td>\n",
       "      <td>...</td>\n",
       "      <td>...</td>\n",
       "      <td>...</td>\n",
       "    </tr>\n",
       "    <tr>\n",
       "      <th>208</th>\n",
       "      <td>0.032789</td>\n",
       "      <td>0.448266</td>\n",
       "      <td>-0.078067</td>\n",
       "      <td>0.080606</td>\n",
       "      <td>0.03857</td>\n",
       "      <td>-0.120624</td>\n",
       "      <td>-0.076622</td>\n",
       "    </tr>\n",
       "    <tr>\n",
       "      <th>211</th>\n",
       "      <td>1.546174</td>\n",
       "      <td>1.556609</td>\n",
       "      <td>-0.078067</td>\n",
       "      <td>0.080606</td>\n",
       "      <td>0.03857</td>\n",
       "      <td>-0.120624</td>\n",
       "      <td>-0.076622</td>\n",
       "    </tr>\n",
       "    <tr>\n",
       "      <th>212</th>\n",
       "      <td>0.940820</td>\n",
       "      <td>1.153575</td>\n",
       "      <td>-0.078067</td>\n",
       "      <td>0.080606</td>\n",
       "      <td>0.03857</td>\n",
       "      <td>-0.120624</td>\n",
       "      <td>-0.076622</td>\n",
       "    </tr>\n",
       "    <tr>\n",
       "      <th>213</th>\n",
       "      <td>0.133681</td>\n",
       "      <td>1.455851</td>\n",
       "      <td>-0.078067</td>\n",
       "      <td>0.080606</td>\n",
       "      <td>0.03857</td>\n",
       "      <td>-0.120624</td>\n",
       "      <td>-0.076622</td>\n",
       "    </tr>\n",
       "    <tr>\n",
       "      <th>214</th>\n",
       "      <td>-0.774350</td>\n",
       "      <td>-0.408180</td>\n",
       "      <td>-0.078067</td>\n",
       "      <td>0.080606</td>\n",
       "      <td>0.03857</td>\n",
       "      <td>-0.120624</td>\n",
       "      <td>-0.076622</td>\n",
       "    </tr>\n",
       "  </tbody>\n",
       "</table>\n",
       "<p>139 rows × 7 columns</p>\n",
       "</div>"
      ],
      "text/plain": [
       "            1         2         3         4        5         6         7\n",
       "Id                                                                      \n",
       "0   -0.068103  0.473456 -0.078067  0.080606  0.03857 -0.120624 -0.076622\n",
       "3    0.476716  0.972210 -0.078067  0.080606  0.03857 -0.120624 -0.076622\n",
       "4   -0.875242 -1.113489 -0.078067  0.080606  0.03857 -0.120624 -0.076622\n",
       "5    1.394836  1.083044 -0.078067  0.080606  0.03857 -0.120624 -0.076622\n",
       "6    0.285020  0.196370 -0.078067  0.080606  0.03857 -0.120624 -0.076622\n",
       "..        ...       ...       ...       ...      ...       ...       ...\n",
       "208  0.032789  0.448266 -0.078067  0.080606  0.03857 -0.120624 -0.076622\n",
       "211  1.546174  1.556609 -0.078067  0.080606  0.03857 -0.120624 -0.076622\n",
       "212  0.940820  1.153575 -0.078067  0.080606  0.03857 -0.120624 -0.076622\n",
       "213  0.133681  1.455851 -0.078067  0.080606  0.03857 -0.120624 -0.076622\n",
       "214 -0.774350 -0.408180 -0.078067  0.080606  0.03857 -0.120624 -0.076622\n",
       "\n",
       "[139 rows x 7 columns]"
      ]
     },
     "execution_count": 48,
     "metadata": {},
     "output_type": "execute_result"
    }
   ],
   "source": [
    "train_df"
   ]
  },
  {
   "cell_type": "code",
   "execution_count": 49,
   "id": "08d1da84",
   "metadata": {},
   "outputs": [
    {
     "data": {
      "text/html": [
       "<div>\n",
       "<style scoped>\n",
       "    .dataframe tbody tr th:only-of-type {\n",
       "        vertical-align: middle;\n",
       "    }\n",
       "\n",
       "    .dataframe tbody tr th {\n",
       "        vertical-align: top;\n",
       "    }\n",
       "\n",
       "    .dataframe thead th {\n",
       "        text-align: right;\n",
       "    }\n",
       "</style>\n",
       "<table border=\"1\" class=\"dataframe\">\n",
       "  <thead>\n",
       "    <tr style=\"text-align: right;\">\n",
       "      <th></th>\n",
       "      <th>1</th>\n",
       "      <th>2</th>\n",
       "      <th>3</th>\n",
       "      <th>4</th>\n",
       "      <th>5</th>\n",
       "      <th>6</th>\n",
       "      <th>7</th>\n",
       "      <th>target</th>\n",
       "    </tr>\n",
       "    <tr>\n",
       "      <th>Id</th>\n",
       "      <th></th>\n",
       "      <th></th>\n",
       "      <th></th>\n",
       "      <th></th>\n",
       "      <th></th>\n",
       "      <th></th>\n",
       "      <th></th>\n",
       "      <th></th>\n",
       "    </tr>\n",
       "  </thead>\n",
       "  <tbody>\n",
       "    <tr>\n",
       "      <th>0</th>\n",
       "      <td>-0.068103</td>\n",
       "      <td>0.473456</td>\n",
       "      <td>-0.078067</td>\n",
       "      <td>0.080606</td>\n",
       "      <td>0.03857</td>\n",
       "      <td>-0.120624</td>\n",
       "      <td>-0.076622</td>\n",
       "      <td>1</td>\n",
       "    </tr>\n",
       "    <tr>\n",
       "      <th>3</th>\n",
       "      <td>0.476716</td>\n",
       "      <td>0.972210</td>\n",
       "      <td>-0.078067</td>\n",
       "      <td>0.080606</td>\n",
       "      <td>0.03857</td>\n",
       "      <td>-0.120624</td>\n",
       "      <td>-0.076622</td>\n",
       "      <td>0</td>\n",
       "    </tr>\n",
       "    <tr>\n",
       "      <th>4</th>\n",
       "      <td>-0.875242</td>\n",
       "      <td>-1.113489</td>\n",
       "      <td>-0.078067</td>\n",
       "      <td>0.080606</td>\n",
       "      <td>0.03857</td>\n",
       "      <td>-0.120624</td>\n",
       "      <td>-0.076622</td>\n",
       "      <td>0</td>\n",
       "    </tr>\n",
       "    <tr>\n",
       "      <th>5</th>\n",
       "      <td>1.394836</td>\n",
       "      <td>1.083044</td>\n",
       "      <td>-0.078067</td>\n",
       "      <td>0.080606</td>\n",
       "      <td>0.03857</td>\n",
       "      <td>-0.120624</td>\n",
       "      <td>-0.076622</td>\n",
       "      <td>1</td>\n",
       "    </tr>\n",
       "    <tr>\n",
       "      <th>6</th>\n",
       "      <td>0.285020</td>\n",
       "      <td>0.196370</td>\n",
       "      <td>-0.078067</td>\n",
       "      <td>0.080606</td>\n",
       "      <td>0.03857</td>\n",
       "      <td>-0.120624</td>\n",
       "      <td>-0.076622</td>\n",
       "      <td>0</td>\n",
       "    </tr>\n",
       "    <tr>\n",
       "      <th>...</th>\n",
       "      <td>...</td>\n",
       "      <td>...</td>\n",
       "      <td>...</td>\n",
       "      <td>...</td>\n",
       "      <td>...</td>\n",
       "      <td>...</td>\n",
       "      <td>...</td>\n",
       "      <td>...</td>\n",
       "    </tr>\n",
       "    <tr>\n",
       "      <th>208</th>\n",
       "      <td>0.032789</td>\n",
       "      <td>0.448266</td>\n",
       "      <td>-0.078067</td>\n",
       "      <td>0.080606</td>\n",
       "      <td>0.03857</td>\n",
       "      <td>-0.120624</td>\n",
       "      <td>-0.076622</td>\n",
       "      <td>0</td>\n",
       "    </tr>\n",
       "    <tr>\n",
       "      <th>211</th>\n",
       "      <td>1.546174</td>\n",
       "      <td>1.556609</td>\n",
       "      <td>-0.078067</td>\n",
       "      <td>0.080606</td>\n",
       "      <td>0.03857</td>\n",
       "      <td>-0.120624</td>\n",
       "      <td>-0.076622</td>\n",
       "      <td>1</td>\n",
       "    </tr>\n",
       "    <tr>\n",
       "      <th>212</th>\n",
       "      <td>0.940820</td>\n",
       "      <td>1.153575</td>\n",
       "      <td>-0.078067</td>\n",
       "      <td>0.080606</td>\n",
       "      <td>0.03857</td>\n",
       "      <td>-0.120624</td>\n",
       "      <td>-0.076622</td>\n",
       "      <td>1</td>\n",
       "    </tr>\n",
       "    <tr>\n",
       "      <th>213</th>\n",
       "      <td>0.133681</td>\n",
       "      <td>1.455851</td>\n",
       "      <td>-0.078067</td>\n",
       "      <td>0.080606</td>\n",
       "      <td>0.03857</td>\n",
       "      <td>-0.120624</td>\n",
       "      <td>-0.076622</td>\n",
       "      <td>1</td>\n",
       "    </tr>\n",
       "    <tr>\n",
       "      <th>214</th>\n",
       "      <td>-0.774350</td>\n",
       "      <td>-0.408180</td>\n",
       "      <td>-0.078067</td>\n",
       "      <td>0.080606</td>\n",
       "      <td>0.03857</td>\n",
       "      <td>-0.120624</td>\n",
       "      <td>-0.076622</td>\n",
       "      <td>0</td>\n",
       "    </tr>\n",
       "  </tbody>\n",
       "</table>\n",
       "<p>139 rows × 8 columns</p>\n",
       "</div>"
      ],
      "text/plain": [
       "            1         2         3         4        5         6         7  \\\n",
       "Id                                                                         \n",
       "0   -0.068103  0.473456 -0.078067  0.080606  0.03857 -0.120624 -0.076622   \n",
       "3    0.476716  0.972210 -0.078067  0.080606  0.03857 -0.120624 -0.076622   \n",
       "4   -0.875242 -1.113489 -0.078067  0.080606  0.03857 -0.120624 -0.076622   \n",
       "5    1.394836  1.083044 -0.078067  0.080606  0.03857 -0.120624 -0.076622   \n",
       "6    0.285020  0.196370 -0.078067  0.080606  0.03857 -0.120624 -0.076622   \n",
       "..        ...       ...       ...       ...      ...       ...       ...   \n",
       "208  0.032789  0.448266 -0.078067  0.080606  0.03857 -0.120624 -0.076622   \n",
       "211  1.546174  1.556609 -0.078067  0.080606  0.03857 -0.120624 -0.076622   \n",
       "212  0.940820  1.153575 -0.078067  0.080606  0.03857 -0.120624 -0.076622   \n",
       "213  0.133681  1.455851 -0.078067  0.080606  0.03857 -0.120624 -0.076622   \n",
       "214 -0.774350 -0.408180 -0.078067  0.080606  0.03857 -0.120624 -0.076622   \n",
       "\n",
       "     target  \n",
       "Id           \n",
       "0         1  \n",
       "3         0  \n",
       "4         0  \n",
       "5         1  \n",
       "6         0  \n",
       "..      ...  \n",
       "208       0  \n",
       "211       1  \n",
       "212       1  \n",
       "213       1  \n",
       "214       0  \n",
       "\n",
       "[139 rows x 8 columns]"
      ]
     },
     "execution_count": 49,
     "metadata": {},
     "output_type": "execute_result"
    }
   ],
   "source": [
    "train_1 = train_df.merge(train_target,on='Id',how='inner')\n",
    "train_1"
   ]
  },
  {
   "cell_type": "markdown",
   "id": "af3cee9a",
   "metadata": {},
   "source": [
    "# Testing data preprocessing"
   ]
  },
  {
   "cell_type": "code",
   "execution_count": 50,
   "id": "da86a93e",
   "metadata": {},
   "outputs": [
    {
     "data": {
      "text/html": [
       "<div>\n",
       "<style scoped>\n",
       "    .dataframe tbody tr th:only-of-type {\n",
       "        vertical-align: middle;\n",
       "    }\n",
       "\n",
       "    .dataframe tbody tr th {\n",
       "        vertical-align: top;\n",
       "    }\n",
       "\n",
       "    .dataframe thead th {\n",
       "        text-align: right;\n",
       "    }\n",
       "</style>\n",
       "<table border=\"1\" class=\"dataframe\">\n",
       "  <thead>\n",
       "    <tr style=\"text-align: right;\">\n",
       "      <th></th>\n",
       "      <th>Id</th>\n",
       "      <th>1</th>\n",
       "      <th>2</th>\n",
       "      <th>3</th>\n",
       "      <th>4</th>\n",
       "      <th>5</th>\n",
       "      <th>6</th>\n",
       "      <th>7</th>\n",
       "    </tr>\n",
       "  </thead>\n",
       "  <tbody>\n",
       "    <tr>\n",
       "      <th>0</th>\n",
       "      <td>1</td>\n",
       "      <td>6.80</td>\n",
       "      <td>5.40</td>\n",
       "      <td>NaN</td>\n",
       "      <td>NaN</td>\n",
       "      <td>NaN</td>\n",
       "      <td>NaN</td>\n",
       "      <td>NaN</td>\n",
       "    </tr>\n",
       "    <tr>\n",
       "      <th>1</th>\n",
       "      <td>2</td>\n",
       "      <td>4.71</td>\n",
       "      <td>4.20</td>\n",
       "      <td>NaN</td>\n",
       "      <td>NaN</td>\n",
       "      <td>NaN</td>\n",
       "      <td>NaN</td>\n",
       "      <td>NaN</td>\n",
       "    </tr>\n",
       "    <tr>\n",
       "      <th>2</th>\n",
       "      <td>32</td>\n",
       "      <td>2.10</td>\n",
       "      <td>3.40</td>\n",
       "      <td>NaN</td>\n",
       "      <td>NaN</td>\n",
       "      <td>NaN</td>\n",
       "      <td>NaN</td>\n",
       "      <td>NaN</td>\n",
       "    </tr>\n",
       "    <tr>\n",
       "      <th>3</th>\n",
       "      <td>40</td>\n",
       "      <td>5.35</td>\n",
       "      <td>5.85</td>\n",
       "      <td>NaN</td>\n",
       "      <td>NaN</td>\n",
       "      <td>NaN</td>\n",
       "      <td>NaN</td>\n",
       "      <td>NaN</td>\n",
       "    </tr>\n",
       "    <tr>\n",
       "      <th>4</th>\n",
       "      <td>43</td>\n",
       "      <td>4.80</td>\n",
       "      <td>5.30</td>\n",
       "      <td>NaN</td>\n",
       "      <td>NaN</td>\n",
       "      <td>NaN</td>\n",
       "      <td>NaN</td>\n",
       "      <td>NaN</td>\n",
       "    </tr>\n",
       "    <tr>\n",
       "      <th>...</th>\n",
       "      <td>...</td>\n",
       "      <td>...</td>\n",
       "      <td>...</td>\n",
       "      <td>...</td>\n",
       "      <td>...</td>\n",
       "      <td>...</td>\n",
       "      <td>...</td>\n",
       "      <td>...</td>\n",
       "    </tr>\n",
       "    <tr>\n",
       "      <th>58</th>\n",
       "      <td>206</td>\n",
       "      <td>5.80</td>\n",
       "      <td>6.60</td>\n",
       "      <td>1.75</td>\n",
       "      <td>5.3</td>\n",
       "      <td>15.1</td>\n",
       "      <td>4.6</td>\n",
       "      <td>15.6</td>\n",
       "    </tr>\n",
       "    <tr>\n",
       "      <th>59</th>\n",
       "      <td>209</td>\n",
       "      <td>3.68</td>\n",
       "      <td>4.85</td>\n",
       "      <td>NaN</td>\n",
       "      <td>NaN</td>\n",
       "      <td>NaN</td>\n",
       "      <td>NaN</td>\n",
       "      <td>NaN</td>\n",
       "    </tr>\n",
       "    <tr>\n",
       "      <th>60</th>\n",
       "      <td>210</td>\n",
       "      <td>7.50</td>\n",
       "      <td>4.80</td>\n",
       "      <td>NaN</td>\n",
       "      <td>NaN</td>\n",
       "      <td>NaN</td>\n",
       "      <td>NaN</td>\n",
       "      <td>NaN</td>\n",
       "    </tr>\n",
       "    <tr>\n",
       "      <th>61</th>\n",
       "      <td>215</td>\n",
       "      <td>8.00</td>\n",
       "      <td>6.80</td>\n",
       "      <td>NaN</td>\n",
       "      <td>NaN</td>\n",
       "      <td>NaN</td>\n",
       "      <td>NaN</td>\n",
       "      <td>NaN</td>\n",
       "    </tr>\n",
       "    <tr>\n",
       "      <th>62</th>\n",
       "      <td>216</td>\n",
       "      <td>4.00</td>\n",
       "      <td>5.00</td>\n",
       "      <td>NaN</td>\n",
       "      <td>NaN</td>\n",
       "      <td>NaN</td>\n",
       "      <td>NaN</td>\n",
       "      <td>NaN</td>\n",
       "    </tr>\n",
       "  </tbody>\n",
       "</table>\n",
       "<p>63 rows × 8 columns</p>\n",
       "</div>"
      ],
      "text/plain": [
       "     Id     1     2     3    4     5    6     7\n",
       "0     1  6.80  5.40   NaN  NaN   NaN  NaN   NaN\n",
       "1     2  4.71  4.20   NaN  NaN   NaN  NaN   NaN\n",
       "2    32  2.10  3.40   NaN  NaN   NaN  NaN   NaN\n",
       "3    40  5.35  5.85   NaN  NaN   NaN  NaN   NaN\n",
       "4    43  4.80  5.30   NaN  NaN   NaN  NaN   NaN\n",
       "..  ...   ...   ...   ...  ...   ...  ...   ...\n",
       "58  206  5.80  6.60  1.75  5.3  15.1  4.6  15.6\n",
       "59  209  3.68  4.85   NaN  NaN   NaN  NaN   NaN\n",
       "60  210  7.50  4.80   NaN  NaN   NaN  NaN   NaN\n",
       "61  215  8.00  6.80   NaN  NaN   NaN  NaN   NaN\n",
       "62  216  4.00  5.00   NaN  NaN   NaN  NaN   NaN\n",
       "\n",
       "[63 rows x 8 columns]"
      ]
     },
     "execution_count": 50,
     "metadata": {},
     "output_type": "execute_result"
    }
   ],
   "source": [
    "test"
   ]
  },
  {
   "cell_type": "code",
   "execution_count": 51,
   "id": "dc88c3b7",
   "metadata": {},
   "outputs": [
    {
     "data": {
      "text/plain": [
       "(63, 8)"
      ]
     },
     "execution_count": 51,
     "metadata": {},
     "output_type": "execute_result"
    }
   ],
   "source": [
    "test.shape"
   ]
  },
  {
   "cell_type": "code",
   "execution_count": 52,
   "id": "3e9aceff",
   "metadata": {},
   "outputs": [
    {
     "name": "stdout",
     "output_type": "stream",
     "text": [
      "<class 'pandas.core.frame.DataFrame'>\n",
      "RangeIndex: 63 entries, 0 to 62\n",
      "Data columns (total 8 columns):\n",
      " #   Column  Non-Null Count  Dtype  \n",
      "---  ------  --------------  -----  \n",
      " 0   Id      63 non-null     int64  \n",
      " 1   1       63 non-null     float64\n",
      " 2   2       63 non-null     float64\n",
      " 3   3       15 non-null     float64\n",
      " 4   4       15 non-null     float64\n",
      " 5   5       16 non-null     float64\n",
      " 6   6       14 non-null     float64\n",
      " 7   7       14 non-null     float64\n",
      "dtypes: float64(7), int64(1)\n",
      "memory usage: 4.1 KB\n"
     ]
    }
   ],
   "source": [
    "test.info()"
   ]
  },
  {
   "cell_type": "code",
   "execution_count": 53,
   "id": "4eda62b3",
   "metadata": {},
   "outputs": [
    {
     "data": {
      "text/html": [
       "<div>\n",
       "<style scoped>\n",
       "    .dataframe tbody tr th:only-of-type {\n",
       "        vertical-align: middle;\n",
       "    }\n",
       "\n",
       "    .dataframe tbody tr th {\n",
       "        vertical-align: top;\n",
       "    }\n",
       "\n",
       "    .dataframe thead th {\n",
       "        text-align: right;\n",
       "    }\n",
       "</style>\n",
       "<table border=\"1\" class=\"dataframe\">\n",
       "  <thead>\n",
       "    <tr style=\"text-align: right;\">\n",
       "      <th></th>\n",
       "      <th>count</th>\n",
       "      <th>mean</th>\n",
       "      <th>std</th>\n",
       "      <th>min</th>\n",
       "      <th>25%</th>\n",
       "      <th>50%</th>\n",
       "      <th>75%</th>\n",
       "      <th>max</th>\n",
       "    </tr>\n",
       "  </thead>\n",
       "  <tbody>\n",
       "    <tr>\n",
       "      <th>Id</th>\n",
       "      <td>63.0</td>\n",
       "      <td>124.968254</td>\n",
       "      <td>55.778643</td>\n",
       "      <td>1.00</td>\n",
       "      <td>84.5000</td>\n",
       "      <td>126.000</td>\n",
       "      <td>176.0000</td>\n",
       "      <td>216.00</td>\n",
       "    </tr>\n",
       "    <tr>\n",
       "      <th>1</th>\n",
       "      <td>63.0</td>\n",
       "      <td>5.223651</td>\n",
       "      <td>1.906450</td>\n",
       "      <td>0.62</td>\n",
       "      <td>3.9750</td>\n",
       "      <td>4.800</td>\n",
       "      <td>6.4000</td>\n",
       "      <td>9.80</td>\n",
       "    </tr>\n",
       "    <tr>\n",
       "      <th>2</th>\n",
       "      <td>63.0</td>\n",
       "      <td>5.051429</td>\n",
       "      <td>1.739643</td>\n",
       "      <td>0.63</td>\n",
       "      <td>4.0000</td>\n",
       "      <td>4.800</td>\n",
       "      <td>6.0500</td>\n",
       "      <td>11.10</td>\n",
       "    </tr>\n",
       "    <tr>\n",
       "      <th>3</th>\n",
       "      <td>15.0</td>\n",
       "      <td>4.439333</td>\n",
       "      <td>2.060931</td>\n",
       "      <td>1.75</td>\n",
       "      <td>3.4500</td>\n",
       "      <td>4.050</td>\n",
       "      <td>4.7200</td>\n",
       "      <td>9.59</td>\n",
       "    </tr>\n",
       "    <tr>\n",
       "      <th>4</th>\n",
       "      <td>15.0</td>\n",
       "      <td>6.046667</td>\n",
       "      <td>2.221575</td>\n",
       "      <td>2.62</td>\n",
       "      <td>4.8800</td>\n",
       "      <td>6.060</td>\n",
       "      <td>6.7000</td>\n",
       "      <td>11.60</td>\n",
       "    </tr>\n",
       "    <tr>\n",
       "      <th>5</th>\n",
       "      <td>16.0</td>\n",
       "      <td>7.562500</td>\n",
       "      <td>4.526378</td>\n",
       "      <td>3.30</td>\n",
       "      <td>4.4625</td>\n",
       "      <td>5.735</td>\n",
       "      <td>9.3875</td>\n",
       "      <td>18.50</td>\n",
       "    </tr>\n",
       "    <tr>\n",
       "      <th>6</th>\n",
       "      <td>14.0</td>\n",
       "      <td>4.198571</td>\n",
       "      <td>1.709340</td>\n",
       "      <td>2.43</td>\n",
       "      <td>2.8625</td>\n",
       "      <td>4.300</td>\n",
       "      <td>4.6750</td>\n",
       "      <td>9.20</td>\n",
       "    </tr>\n",
       "    <tr>\n",
       "      <th>7</th>\n",
       "      <td>14.0</td>\n",
       "      <td>5.190714</td>\n",
       "      <td>4.079520</td>\n",
       "      <td>1.30</td>\n",
       "      <td>2.9250</td>\n",
       "      <td>4.215</td>\n",
       "      <td>5.2600</td>\n",
       "      <td>15.60</td>\n",
       "    </tr>\n",
       "  </tbody>\n",
       "</table>\n",
       "</div>"
      ],
      "text/plain": [
       "    count        mean        std   min      25%      50%       75%     max\n",
       "Id   63.0  124.968254  55.778643  1.00  84.5000  126.000  176.0000  216.00\n",
       "1    63.0    5.223651   1.906450  0.62   3.9750    4.800    6.4000    9.80\n",
       "2    63.0    5.051429   1.739643  0.63   4.0000    4.800    6.0500   11.10\n",
       "3    15.0    4.439333   2.060931  1.75   3.4500    4.050    4.7200    9.59\n",
       "4    15.0    6.046667   2.221575  2.62   4.8800    6.060    6.7000   11.60\n",
       "5    16.0    7.562500   4.526378  3.30   4.4625    5.735    9.3875   18.50\n",
       "6    14.0    4.198571   1.709340  2.43   2.8625    4.300    4.6750    9.20\n",
       "7    14.0    5.190714   4.079520  1.30   2.9250    4.215    5.2600   15.60"
      ]
     },
     "execution_count": 53,
     "metadata": {},
     "output_type": "execute_result"
    }
   ],
   "source": [
    "test.describe().T"
   ]
  },
  {
   "cell_type": "code",
   "execution_count": 54,
   "id": "00c9cf05",
   "metadata": {},
   "outputs": [
    {
     "data": {
      "text/plain": [
       "Id     0\n",
       "1      0\n",
       "2      0\n",
       "3     48\n",
       "4     48\n",
       "5     47\n",
       "6     49\n",
       "7     49\n",
       "dtype: int64"
      ]
     },
     "execution_count": 54,
     "metadata": {},
     "output_type": "execute_result"
    }
   ],
   "source": [
    "# missing values\n",
    "test.isnull().sum()"
   ]
  },
  {
   "cell_type": "code",
   "execution_count": 55,
   "id": "f4e6c322",
   "metadata": {},
   "outputs": [],
   "source": [
    "# missing values inputations\n",
    "test['1'].fillna(test['1'].mean(),inplace=True)\n",
    "test['2'].fillna(test['2'].median(),inplace=True)\n",
    "test['3'].fillna(test['3'].mean(),inplace=True)\n",
    "test['4'].fillna(test['4'].median(),inplace=True)\n",
    "test['5'].fillna(test['5'].mean(),inplace=True)\n",
    "test['6'].fillna(test['6'].median(),inplace=True)\n",
    "test['7'].fillna(test['7'].mean(),inplace=True)"
   ]
  },
  {
   "cell_type": "code",
   "execution_count": 56,
   "id": "e96f2f07",
   "metadata": {},
   "outputs": [
    {
     "data": {
      "text/html": [
       "<div>\n",
       "<style scoped>\n",
       "    .dataframe tbody tr th:only-of-type {\n",
       "        vertical-align: middle;\n",
       "    }\n",
       "\n",
       "    .dataframe tbody tr th {\n",
       "        vertical-align: top;\n",
       "    }\n",
       "\n",
       "    .dataframe thead th {\n",
       "        text-align: right;\n",
       "    }\n",
       "</style>\n",
       "<table border=\"1\" class=\"dataframe\">\n",
       "  <thead>\n",
       "    <tr style=\"text-align: right;\">\n",
       "      <th></th>\n",
       "      <th>Id</th>\n",
       "      <th>1</th>\n",
       "      <th>2</th>\n",
       "      <th>3</th>\n",
       "      <th>4</th>\n",
       "      <th>5</th>\n",
       "      <th>6</th>\n",
       "      <th>7</th>\n",
       "    </tr>\n",
       "  </thead>\n",
       "  <tbody>\n",
       "    <tr>\n",
       "      <th>0</th>\n",
       "      <td>1</td>\n",
       "      <td>6.80</td>\n",
       "      <td>5.40</td>\n",
       "      <td>4.439333</td>\n",
       "      <td>6.06</td>\n",
       "      <td>7.5625</td>\n",
       "      <td>4.3</td>\n",
       "      <td>5.190714</td>\n",
       "    </tr>\n",
       "    <tr>\n",
       "      <th>1</th>\n",
       "      <td>2</td>\n",
       "      <td>4.71</td>\n",
       "      <td>4.20</td>\n",
       "      <td>4.439333</td>\n",
       "      <td>6.06</td>\n",
       "      <td>7.5625</td>\n",
       "      <td>4.3</td>\n",
       "      <td>5.190714</td>\n",
       "    </tr>\n",
       "    <tr>\n",
       "      <th>2</th>\n",
       "      <td>32</td>\n",
       "      <td>2.10</td>\n",
       "      <td>3.40</td>\n",
       "      <td>4.439333</td>\n",
       "      <td>6.06</td>\n",
       "      <td>7.5625</td>\n",
       "      <td>4.3</td>\n",
       "      <td>5.190714</td>\n",
       "    </tr>\n",
       "    <tr>\n",
       "      <th>3</th>\n",
       "      <td>40</td>\n",
       "      <td>5.35</td>\n",
       "      <td>5.85</td>\n",
       "      <td>4.439333</td>\n",
       "      <td>6.06</td>\n",
       "      <td>7.5625</td>\n",
       "      <td>4.3</td>\n",
       "      <td>5.190714</td>\n",
       "    </tr>\n",
       "    <tr>\n",
       "      <th>4</th>\n",
       "      <td>43</td>\n",
       "      <td>4.80</td>\n",
       "      <td>5.30</td>\n",
       "      <td>4.439333</td>\n",
       "      <td>6.06</td>\n",
       "      <td>7.5625</td>\n",
       "      <td>4.3</td>\n",
       "      <td>5.190714</td>\n",
       "    </tr>\n",
       "    <tr>\n",
       "      <th>...</th>\n",
       "      <td>...</td>\n",
       "      <td>...</td>\n",
       "      <td>...</td>\n",
       "      <td>...</td>\n",
       "      <td>...</td>\n",
       "      <td>...</td>\n",
       "      <td>...</td>\n",
       "      <td>...</td>\n",
       "    </tr>\n",
       "    <tr>\n",
       "      <th>58</th>\n",
       "      <td>206</td>\n",
       "      <td>5.80</td>\n",
       "      <td>6.60</td>\n",
       "      <td>1.750000</td>\n",
       "      <td>5.30</td>\n",
       "      <td>15.1000</td>\n",
       "      <td>4.6</td>\n",
       "      <td>15.600000</td>\n",
       "    </tr>\n",
       "    <tr>\n",
       "      <th>59</th>\n",
       "      <td>209</td>\n",
       "      <td>3.68</td>\n",
       "      <td>4.85</td>\n",
       "      <td>4.439333</td>\n",
       "      <td>6.06</td>\n",
       "      <td>7.5625</td>\n",
       "      <td>4.3</td>\n",
       "      <td>5.190714</td>\n",
       "    </tr>\n",
       "    <tr>\n",
       "      <th>60</th>\n",
       "      <td>210</td>\n",
       "      <td>7.50</td>\n",
       "      <td>4.80</td>\n",
       "      <td>4.439333</td>\n",
       "      <td>6.06</td>\n",
       "      <td>7.5625</td>\n",
       "      <td>4.3</td>\n",
       "      <td>5.190714</td>\n",
       "    </tr>\n",
       "    <tr>\n",
       "      <th>61</th>\n",
       "      <td>215</td>\n",
       "      <td>8.00</td>\n",
       "      <td>6.80</td>\n",
       "      <td>4.439333</td>\n",
       "      <td>6.06</td>\n",
       "      <td>7.5625</td>\n",
       "      <td>4.3</td>\n",
       "      <td>5.190714</td>\n",
       "    </tr>\n",
       "    <tr>\n",
       "      <th>62</th>\n",
       "      <td>216</td>\n",
       "      <td>4.00</td>\n",
       "      <td>5.00</td>\n",
       "      <td>4.439333</td>\n",
       "      <td>6.06</td>\n",
       "      <td>7.5625</td>\n",
       "      <td>4.3</td>\n",
       "      <td>5.190714</td>\n",
       "    </tr>\n",
       "  </tbody>\n",
       "</table>\n",
       "<p>63 rows × 8 columns</p>\n",
       "</div>"
      ],
      "text/plain": [
       "     Id     1     2         3     4        5    6          7\n",
       "0     1  6.80  5.40  4.439333  6.06   7.5625  4.3   5.190714\n",
       "1     2  4.71  4.20  4.439333  6.06   7.5625  4.3   5.190714\n",
       "2    32  2.10  3.40  4.439333  6.06   7.5625  4.3   5.190714\n",
       "3    40  5.35  5.85  4.439333  6.06   7.5625  4.3   5.190714\n",
       "4    43  4.80  5.30  4.439333  6.06   7.5625  4.3   5.190714\n",
       "..  ...   ...   ...       ...   ...      ...  ...        ...\n",
       "58  206  5.80  6.60  1.750000  5.30  15.1000  4.6  15.600000\n",
       "59  209  3.68  4.85  4.439333  6.06   7.5625  4.3   5.190714\n",
       "60  210  7.50  4.80  4.439333  6.06   7.5625  4.3   5.190714\n",
       "61  215  8.00  6.80  4.439333  6.06   7.5625  4.3   5.190714\n",
       "62  216  4.00  5.00  4.439333  6.06   7.5625  4.3   5.190714\n",
       "\n",
       "[63 rows x 8 columns]"
      ]
     },
     "execution_count": 56,
     "metadata": {},
     "output_type": "execute_result"
    }
   ],
   "source": [
    "test"
   ]
  },
  {
   "cell_type": "code",
   "execution_count": 57,
   "id": "098d7569",
   "metadata": {},
   "outputs": [
    {
     "name": "stdout",
     "output_type": "stream",
     "text": [
      "<class 'pandas.core.frame.DataFrame'>\n",
      "RangeIndex: 63 entries, 0 to 62\n",
      "Data columns (total 8 columns):\n",
      " #   Column  Non-Null Count  Dtype  \n",
      "---  ------  --------------  -----  \n",
      " 0   Id      63 non-null     int64  \n",
      " 1   1       63 non-null     float64\n",
      " 2   2       63 non-null     float64\n",
      " 3   3       63 non-null     float64\n",
      " 4   4       63 non-null     float64\n",
      " 5   5       63 non-null     float64\n",
      " 6   6       63 non-null     float64\n",
      " 7   7       63 non-null     float64\n",
      "dtypes: float64(7), int64(1)\n",
      "memory usage: 4.1 KB\n"
     ]
    }
   ],
   "source": [
    "test.info()"
   ]
  },
  {
   "cell_type": "code",
   "execution_count": 58,
   "id": "2590b0c0",
   "metadata": {},
   "outputs": [
    {
     "data": {
      "text/html": [
       "<div>\n",
       "<style scoped>\n",
       "    .dataframe tbody tr th:only-of-type {\n",
       "        vertical-align: middle;\n",
       "    }\n",
       "\n",
       "    .dataframe tbody tr th {\n",
       "        vertical-align: top;\n",
       "    }\n",
       "\n",
       "    .dataframe thead th {\n",
       "        text-align: right;\n",
       "    }\n",
       "</style>\n",
       "<table border=\"1\" class=\"dataframe\">\n",
       "  <thead>\n",
       "    <tr style=\"text-align: right;\">\n",
       "      <th></th>\n",
       "      <th>count</th>\n",
       "      <th>mean</th>\n",
       "      <th>std</th>\n",
       "      <th>min</th>\n",
       "      <th>25%</th>\n",
       "      <th>50%</th>\n",
       "      <th>75%</th>\n",
       "      <th>max</th>\n",
       "    </tr>\n",
       "  </thead>\n",
       "  <tbody>\n",
       "    <tr>\n",
       "      <th>Id</th>\n",
       "      <td>63.0</td>\n",
       "      <td>124.968254</td>\n",
       "      <td>55.778643</td>\n",
       "      <td>1.00</td>\n",
       "      <td>84.500000</td>\n",
       "      <td>126.000000</td>\n",
       "      <td>176.000000</td>\n",
       "      <td>216.00</td>\n",
       "    </tr>\n",
       "    <tr>\n",
       "      <th>1</th>\n",
       "      <td>63.0</td>\n",
       "      <td>5.223651</td>\n",
       "      <td>1.906450</td>\n",
       "      <td>0.62</td>\n",
       "      <td>3.975000</td>\n",
       "      <td>4.800000</td>\n",
       "      <td>6.400000</td>\n",
       "      <td>9.80</td>\n",
       "    </tr>\n",
       "    <tr>\n",
       "      <th>2</th>\n",
       "      <td>63.0</td>\n",
       "      <td>5.051429</td>\n",
       "      <td>1.739643</td>\n",
       "      <td>0.63</td>\n",
       "      <td>4.000000</td>\n",
       "      <td>4.800000</td>\n",
       "      <td>6.050000</td>\n",
       "      <td>11.10</td>\n",
       "    </tr>\n",
       "    <tr>\n",
       "      <th>3</th>\n",
       "      <td>63.0</td>\n",
       "      <td>4.439333</td>\n",
       "      <td>0.979336</td>\n",
       "      <td>1.75</td>\n",
       "      <td>4.439333</td>\n",
       "      <td>4.439333</td>\n",
       "      <td>4.439333</td>\n",
       "      <td>9.59</td>\n",
       "    </tr>\n",
       "    <tr>\n",
       "      <th>4</th>\n",
       "      <td>63.0</td>\n",
       "      <td>6.056825</td>\n",
       "      <td>1.055688</td>\n",
       "      <td>2.62</td>\n",
       "      <td>6.060000</td>\n",
       "      <td>6.060000</td>\n",
       "      <td>6.060000</td>\n",
       "      <td>11.60</td>\n",
       "    </tr>\n",
       "    <tr>\n",
       "      <th>5</th>\n",
       "      <td>63.0</td>\n",
       "      <td>7.562500</td>\n",
       "      <td>2.226387</td>\n",
       "      <td>3.30</td>\n",
       "      <td>7.562500</td>\n",
       "      <td>7.562500</td>\n",
       "      <td>7.562500</td>\n",
       "      <td>18.50</td>\n",
       "    </tr>\n",
       "    <tr>\n",
       "      <th>6</th>\n",
       "      <td>63.0</td>\n",
       "      <td>4.277460</td>\n",
       "      <td>0.783870</td>\n",
       "      <td>2.43</td>\n",
       "      <td>4.300000</td>\n",
       "      <td>4.300000</td>\n",
       "      <td>4.300000</td>\n",
       "      <td>9.20</td>\n",
       "    </tr>\n",
       "    <tr>\n",
       "      <th>7</th>\n",
       "      <td>63.0</td>\n",
       "      <td>5.190714</td>\n",
       "      <td>1.868035</td>\n",
       "      <td>1.30</td>\n",
       "      <td>5.190714</td>\n",
       "      <td>5.190714</td>\n",
       "      <td>5.190714</td>\n",
       "      <td>15.60</td>\n",
       "    </tr>\n",
       "  </tbody>\n",
       "</table>\n",
       "</div>"
      ],
      "text/plain": [
       "    count        mean        std   min        25%         50%         75%  \\\n",
       "Id   63.0  124.968254  55.778643  1.00  84.500000  126.000000  176.000000   \n",
       "1    63.0    5.223651   1.906450  0.62   3.975000    4.800000    6.400000   \n",
       "2    63.0    5.051429   1.739643  0.63   4.000000    4.800000    6.050000   \n",
       "3    63.0    4.439333   0.979336  1.75   4.439333    4.439333    4.439333   \n",
       "4    63.0    6.056825   1.055688  2.62   6.060000    6.060000    6.060000   \n",
       "5    63.0    7.562500   2.226387  3.30   7.562500    7.562500    7.562500   \n",
       "6    63.0    4.277460   0.783870  2.43   4.300000    4.300000    4.300000   \n",
       "7    63.0    5.190714   1.868035  1.30   5.190714    5.190714    5.190714   \n",
       "\n",
       "       max  \n",
       "Id  216.00  \n",
       "1     9.80  \n",
       "2    11.10  \n",
       "3     9.59  \n",
       "4    11.60  \n",
       "5    18.50  \n",
       "6     9.20  \n",
       "7    15.60  "
      ]
     },
     "execution_count": 58,
     "metadata": {},
     "output_type": "execute_result"
    }
   ],
   "source": [
    "test.describe().T"
   ]
  },
  {
   "cell_type": "code",
   "execution_count": 59,
   "id": "d1cc63e3",
   "metadata": {},
   "outputs": [
    {
     "data": {
      "text/plain": [
       "0"
      ]
     },
     "execution_count": 59,
     "metadata": {},
     "output_type": "execute_result"
    }
   ],
   "source": [
    "test.duplicated().sum()"
   ]
  },
  {
   "cell_type": "code",
   "execution_count": 60,
   "id": "8cd359b5",
   "metadata": {},
   "outputs": [
    {
     "data": {
      "text/plain": [
       "Id    0\n",
       "1     0\n",
       "2     0\n",
       "3     0\n",
       "4     0\n",
       "5     0\n",
       "6     0\n",
       "7     0\n",
       "dtype: int64"
      ]
     },
     "execution_count": 60,
     "metadata": {},
     "output_type": "execute_result"
    }
   ],
   "source": [
    "test.isnull().sum()"
   ]
  },
  {
   "cell_type": "code",
   "execution_count": 61,
   "id": "849917f6",
   "metadata": {},
   "outputs": [],
   "source": [
    "test.set_index('Id',inplace=True)"
   ]
  },
  {
   "cell_type": "code",
   "execution_count": 62,
   "id": "7f5303dd",
   "metadata": {},
   "outputs": [
    {
     "data": {
      "text/html": [
       "<div>\n",
       "<style scoped>\n",
       "    .dataframe tbody tr th:only-of-type {\n",
       "        vertical-align: middle;\n",
       "    }\n",
       "\n",
       "    .dataframe tbody tr th {\n",
       "        vertical-align: top;\n",
       "    }\n",
       "\n",
       "    .dataframe thead th {\n",
       "        text-align: right;\n",
       "    }\n",
       "</style>\n",
       "<table border=\"1\" class=\"dataframe\">\n",
       "  <thead>\n",
       "    <tr style=\"text-align: right;\">\n",
       "      <th></th>\n",
       "      <th>1</th>\n",
       "      <th>2</th>\n",
       "      <th>3</th>\n",
       "      <th>4</th>\n",
       "      <th>5</th>\n",
       "      <th>6</th>\n",
       "      <th>7</th>\n",
       "    </tr>\n",
       "    <tr>\n",
       "      <th>Id</th>\n",
       "      <th></th>\n",
       "      <th></th>\n",
       "      <th></th>\n",
       "      <th></th>\n",
       "      <th></th>\n",
       "      <th></th>\n",
       "      <th></th>\n",
       "    </tr>\n",
       "  </thead>\n",
       "  <tbody>\n",
       "    <tr>\n",
       "      <th>1</th>\n",
       "      <td>6.80</td>\n",
       "      <td>5.40</td>\n",
       "      <td>4.439333</td>\n",
       "      <td>6.06</td>\n",
       "      <td>7.5625</td>\n",
       "      <td>4.3</td>\n",
       "      <td>5.190714</td>\n",
       "    </tr>\n",
       "    <tr>\n",
       "      <th>2</th>\n",
       "      <td>4.71</td>\n",
       "      <td>4.20</td>\n",
       "      <td>4.439333</td>\n",
       "      <td>6.06</td>\n",
       "      <td>7.5625</td>\n",
       "      <td>4.3</td>\n",
       "      <td>5.190714</td>\n",
       "    </tr>\n",
       "    <tr>\n",
       "      <th>32</th>\n",
       "      <td>2.10</td>\n",
       "      <td>3.40</td>\n",
       "      <td>4.439333</td>\n",
       "      <td>6.06</td>\n",
       "      <td>7.5625</td>\n",
       "      <td>4.3</td>\n",
       "      <td>5.190714</td>\n",
       "    </tr>\n",
       "    <tr>\n",
       "      <th>40</th>\n",
       "      <td>5.35</td>\n",
       "      <td>5.85</td>\n",
       "      <td>4.439333</td>\n",
       "      <td>6.06</td>\n",
       "      <td>7.5625</td>\n",
       "      <td>4.3</td>\n",
       "      <td>5.190714</td>\n",
       "    </tr>\n",
       "  </tbody>\n",
       "</table>\n",
       "</div>"
      ],
      "text/plain": [
       "       1     2         3     4       5    6         7\n",
       "Id                                                   \n",
       "1   6.80  5.40  4.439333  6.06  7.5625  4.3  5.190714\n",
       "2   4.71  4.20  4.439333  6.06  7.5625  4.3  5.190714\n",
       "32  2.10  3.40  4.439333  6.06  7.5625  4.3  5.190714\n",
       "40  5.35  5.85  4.439333  6.06  7.5625  4.3  5.190714"
      ]
     },
     "execution_count": 62,
     "metadata": {},
     "output_type": "execute_result"
    }
   ],
   "source": [
    "test.head(4)"
   ]
  },
  {
   "cell_type": "code",
   "execution_count": 63,
   "id": "53808a9d",
   "metadata": {},
   "outputs": [
    {
     "data": {
      "text/plain": [
       "<AxesSubplot: xlabel='1'>"
      ]
     },
     "execution_count": 63,
     "metadata": {},
     "output_type": "execute_result"
    },
    {
     "data": {
      "image/png": "[encoded data removed]",
      "text/plain": [
       "<Figure size 432x288 with 1 Axes>"
      ]
     },
     "metadata": {
      "needs_background": "light"
     },
     "output_type": "display_data"
    }
   ],
   "source": [
    "# boxplot\n",
    "sns.boxplot(data=test,x='1')"
   ]
  },
  {
   "cell_type": "code",
   "execution_count": 64,
   "id": "d34eb2be",
   "metadata": {},
   "outputs": [
    {
     "data": {
      "text/plain": [
       "<AxesSubplot: xlabel='2'>"
      ]
     },
     "execution_count": 64,
     "metadata": {},
     "output_type": "execute_result"
    },
    {
     "data": {
      "image/png": "[encoded data removed]",
      "text/plain": [
       "<Figure size 432x288 with 1 Axes>"
      ]
     },
     "metadata": {
      "needs_background": "light"
     },
     "output_type": "display_data"
    }
   ],
   "source": [
    "sns.boxplot(data=test,x='2')"
   ]
  },
  {
   "cell_type": "code",
   "execution_count": 65,
   "id": "b7e417ad",
   "metadata": {},
   "outputs": [
    {
     "data": {
      "text/plain": [
       "<AxesSubplot: xlabel='3'>"
      ]
     },
     "execution_count": 65,
     "metadata": {},
     "output_type": "execute_result"
    },
    {
     "data": {
      "image/png": "[encoded data removed]",
      "text/plain": [
       "<Figure size 432x288 with 1 Axes>"
      ]
     },
     "metadata": {
      "needs_background": "light"
     },
     "output_type": "display_data"
    }
   ],
   "source": [
    "sns.boxplot(data=test,x='3')"
   ]
  },
  {
   "cell_type": "code",
   "execution_count": 66,
   "id": "84637771",
   "metadata": {},
   "outputs": [
    {
     "data": {
      "text/plain": [
       "<AxesSubplot: xlabel='4'>"
      ]
     },
     "execution_count": 66,
     "metadata": {},
     "output_type": "execute_result"
    },
    {
     "data": {
      "image/png": "[encoded data removed]",
      "text/plain": [
       "<Figure size 432x288 with 1 Axes>"
      ]
     },
     "metadata": {
      "needs_background": "light"
     },
     "output_type": "display_data"
    }
   ],
   "source": [
    "sns.boxplot(data=test,x='4')"
   ]
  },
  {
   "cell_type": "code",
   "execution_count": 67,
   "id": "7ef2281f",
   "metadata": {},
   "outputs": [
    {
     "data": {
      "text/plain": [
       "<AxesSubplot: xlabel='5'>"
      ]
     },
     "execution_count": 67,
     "metadata": {},
     "output_type": "execute_result"
    },
    {
     "data": {
      "image/png": "[encoded data removed]",
      "text/plain": [
       "<Figure size 432x288 with 1 Axes>"
      ]
     },
     "metadata": {
      "needs_background": "light"
     },
     "output_type": "display_data"
    }
   ],
   "source": [
    "sns.boxplot(data=test,x='5')"
   ]
  },
  {
   "cell_type": "code",
   "execution_count": 68,
   "id": "8ec3fb9d",
   "metadata": {},
   "outputs": [
    {
     "data": {
      "text/plain": [
       "<AxesSubplot: xlabel='6'>"
      ]
     },
     "execution_count": 68,
     "metadata": {},
     "output_type": "execute_result"
    },
    {
     "data": {
      "image/png": "[encoded data removed]",
      "text/plain": [
       "<Figure size 432x288 with 1 Axes>"
      ]
     },
     "metadata": {
      "needs_background": "light"
     },
     "output_type": "display_data"
    }
   ],
   "source": [
    "sns.boxplot(data=test,x='6')"
   ]
  },
  {
   "cell_type": "code",
   "execution_count": 69,
   "id": "afff2831",
   "metadata": {},
   "outputs": [
    {
     "data": {
      "text/plain": [
       "<AxesSubplot: xlabel='7'>"
      ]
     },
     "execution_count": 69,
     "metadata": {},
     "output_type": "execute_result"
    },
    {
     "data": {
      "image/png": "[encoded data removed]",
      "text/plain": [
       "<Figure size 432x288 with 1 Axes>"
      ]
     },
     "metadata": {
      "needs_background": "light"
     },
     "output_type": "display_data"
    }
   ],
   "source": [
    "sns.boxplot(data=test,x='7')"
   ]
  },
  {
   "cell_type": "code",
   "execution_count": 70,
   "id": "187a03bb",
   "metadata": {},
   "outputs": [
    {
     "data": {
      "text/plain": [
       "<AxesSubplot: xlabel='1', ylabel='Count'>"
      ]
     },
     "execution_count": 70,
     "metadata": {},
     "output_type": "execute_result"
    },
    {
     "data": {
      "image/png": "[encoded data removed]",
      "text/plain": [
       "<Figure size 432x288 with 1 Axes>"
      ]
     },
     "metadata": {
      "needs_background": "light"
     },
     "output_type": "display_data"
    }
   ],
   "source": [
    "sns.histplot(data=test,x='1')"
   ]
  },
  {
   "cell_type": "code",
   "execution_count": 71,
   "id": "fa2af0ce",
   "metadata": {},
   "outputs": [
    {
     "data": {
      "text/plain": [
       "<AxesSubplot: >"
      ]
     },
     "execution_count": 71,
     "metadata": {},
     "output_type": "execute_result"
    },
    {
     "data": {
      "image/png": "[encoded data removed]",
      "text/plain": [
       "<Figure size 432x288 with 1 Axes>"
      ]
     },
     "metadata": {
      "needs_background": "light"
     },
     "output_type": "display_data"
    }
   ],
   "source": [
    "sns.barplot(data=test)"
   ]
  },
  {
   "cell_type": "code",
   "execution_count": 72,
   "id": "888cf2e3",
   "metadata": {},
   "outputs": [],
   "source": [
    "numaric_c = ['1','2','3','4','5','6','7']\n"
   ]
  },
  {
   "cell_type": "code",
   "execution_count": 73,
   "id": "d84cc1bc",
   "metadata": {},
   "outputs": [
    {
     "data": {
      "text/html": [
       "<div>\n",
       "<style scoped>\n",
       "    .dataframe tbody tr th:only-of-type {\n",
       "        vertical-align: middle;\n",
       "    }\n",
       "\n",
       "    .dataframe tbody tr th {\n",
       "        vertical-align: top;\n",
       "    }\n",
       "\n",
       "    .dataframe thead th {\n",
       "        text-align: right;\n",
       "    }\n",
       "</style>\n",
       "<table border=\"1\" class=\"dataframe\">\n",
       "  <thead>\n",
       "    <tr style=\"text-align: right;\">\n",
       "      <th></th>\n",
       "      <th>1</th>\n",
       "      <th>2</th>\n",
       "      <th>3</th>\n",
       "      <th>4</th>\n",
       "      <th>5</th>\n",
       "      <th>6</th>\n",
       "      <th>7</th>\n",
       "    </tr>\n",
       "    <tr>\n",
       "      <th>Id</th>\n",
       "      <th></th>\n",
       "      <th></th>\n",
       "      <th></th>\n",
       "      <th></th>\n",
       "      <th></th>\n",
       "      <th></th>\n",
       "      <th></th>\n",
       "    </tr>\n",
       "  </thead>\n",
       "  <tbody>\n",
       "    <tr>\n",
       "      <th>1</th>\n",
       "      <td>6.80</td>\n",
       "      <td>5.40</td>\n",
       "      <td>4.439333</td>\n",
       "      <td>6.06</td>\n",
       "      <td>7.5625</td>\n",
       "      <td>4.3</td>\n",
       "      <td>5.190714</td>\n",
       "    </tr>\n",
       "    <tr>\n",
       "      <th>2</th>\n",
       "      <td>4.71</td>\n",
       "      <td>4.20</td>\n",
       "      <td>4.439333</td>\n",
       "      <td>6.06</td>\n",
       "      <td>7.5625</td>\n",
       "      <td>4.3</td>\n",
       "      <td>5.190714</td>\n",
       "    </tr>\n",
       "    <tr>\n",
       "      <th>32</th>\n",
       "      <td>2.10</td>\n",
       "      <td>3.40</td>\n",
       "      <td>4.439333</td>\n",
       "      <td>6.06</td>\n",
       "      <td>7.5625</td>\n",
       "      <td>4.3</td>\n",
       "      <td>5.190714</td>\n",
       "    </tr>\n",
       "    <tr>\n",
       "      <th>40</th>\n",
       "      <td>5.35</td>\n",
       "      <td>5.85</td>\n",
       "      <td>4.439333</td>\n",
       "      <td>6.06</td>\n",
       "      <td>7.5625</td>\n",
       "      <td>4.3</td>\n",
       "      <td>5.190714</td>\n",
       "    </tr>\n",
       "    <tr>\n",
       "      <th>43</th>\n",
       "      <td>4.80</td>\n",
       "      <td>5.30</td>\n",
       "      <td>4.439333</td>\n",
       "      <td>6.06</td>\n",
       "      <td>7.5625</td>\n",
       "      <td>4.3</td>\n",
       "      <td>5.190714</td>\n",
       "    </tr>\n",
       "    <tr>\n",
       "      <th>...</th>\n",
       "      <td>...</td>\n",
       "      <td>...</td>\n",
       "      <td>...</td>\n",
       "      <td>...</td>\n",
       "      <td>...</td>\n",
       "      <td>...</td>\n",
       "      <td>...</td>\n",
       "    </tr>\n",
       "    <tr>\n",
       "      <th>206</th>\n",
       "      <td>5.80</td>\n",
       "      <td>6.60</td>\n",
       "      <td>1.750000</td>\n",
       "      <td>5.30</td>\n",
       "      <td>15.1000</td>\n",
       "      <td>4.6</td>\n",
       "      <td>15.600000</td>\n",
       "    </tr>\n",
       "    <tr>\n",
       "      <th>209</th>\n",
       "      <td>3.68</td>\n",
       "      <td>4.85</td>\n",
       "      <td>4.439333</td>\n",
       "      <td>6.06</td>\n",
       "      <td>7.5625</td>\n",
       "      <td>4.3</td>\n",
       "      <td>5.190714</td>\n",
       "    </tr>\n",
       "    <tr>\n",
       "      <th>210</th>\n",
       "      <td>7.50</td>\n",
       "      <td>4.80</td>\n",
       "      <td>4.439333</td>\n",
       "      <td>6.06</td>\n",
       "      <td>7.5625</td>\n",
       "      <td>4.3</td>\n",
       "      <td>5.190714</td>\n",
       "    </tr>\n",
       "    <tr>\n",
       "      <th>215</th>\n",
       "      <td>8.00</td>\n",
       "      <td>6.80</td>\n",
       "      <td>4.439333</td>\n",
       "      <td>6.06</td>\n",
       "      <td>7.5625</td>\n",
       "      <td>4.3</td>\n",
       "      <td>5.190714</td>\n",
       "    </tr>\n",
       "    <tr>\n",
       "      <th>216</th>\n",
       "      <td>4.00</td>\n",
       "      <td>5.00</td>\n",
       "      <td>4.439333</td>\n",
       "      <td>6.06</td>\n",
       "      <td>7.5625</td>\n",
       "      <td>4.3</td>\n",
       "      <td>5.190714</td>\n",
       "    </tr>\n",
       "  </tbody>\n",
       "</table>\n",
       "<p>63 rows × 7 columns</p>\n",
       "</div>"
      ],
      "text/plain": [
       "        1     2         3     4        5    6          7\n",
       "Id                                                      \n",
       "1    6.80  5.40  4.439333  6.06   7.5625  4.3   5.190714\n",
       "2    4.71  4.20  4.439333  6.06   7.5625  4.3   5.190714\n",
       "32   2.10  3.40  4.439333  6.06   7.5625  4.3   5.190714\n",
       "40   5.35  5.85  4.439333  6.06   7.5625  4.3   5.190714\n",
       "43   4.80  5.30  4.439333  6.06   7.5625  4.3   5.190714\n",
       "..    ...   ...       ...   ...      ...  ...        ...\n",
       "206  5.80  6.60  1.750000  5.30  15.1000  4.6  15.600000\n",
       "209  3.68  4.85  4.439333  6.06   7.5625  4.3   5.190714\n",
       "210  7.50  4.80  4.439333  6.06   7.5625  4.3   5.190714\n",
       "215  8.00  6.80  4.439333  6.06   7.5625  4.3   5.190714\n",
       "216  4.00  5.00  4.439333  6.06   7.5625  4.3   5.190714\n",
       "\n",
       "[63 rows x 7 columns]"
      ]
     },
     "execution_count": 73,
     "metadata": {},
     "output_type": "execute_result"
    }
   ],
   "source": [
    "test_num = test[numaric_c]\n",
    "test_num"
   ]
  },
  {
   "cell_type": "code",
   "execution_count": null,
   "id": "db9141fd",
   "metadata": {},
   "outputs": [],
   "source": []
  },
  {
   "cell_type": "code",
   "execution_count": 74,
   "id": "3eab9470",
   "metadata": {},
   "outputs": [
    {
     "data": {
      "text/plain": [
       "EllipticEnvelope(contamination=0.05)"
      ]
     },
     "execution_count": 74,
     "metadata": {},
     "output_type": "execute_result"
    }
   ],
   "source": [
    "# outlier detection \n",
    "\n",
    "from sklearn.covariance import EllipticEnvelope\n",
    "model = EllipticEnvelope(contamination=0.05)\n",
    "model.fit(test_num)\n"
   ]
  },
  {
   "cell_type": "code",
   "execution_count": 75,
   "id": "c9613bfe",
   "metadata": {},
   "outputs": [],
   "source": [
    "test['outlier_score'] = model.predict(test_num)"
   ]
  },
  {
   "cell_type": "code",
   "execution_count": 76,
   "id": "ebbc76e7",
   "metadata": {},
   "outputs": [],
   "source": [
    "ee_index =list(test[test['outlier_score']==-1].index)"
   ]
  },
  {
   "cell_type": "code",
   "execution_count": 77,
   "id": "6ccabfb3",
   "metadata": {},
   "outputs": [
    {
     "data": {
      "text/plain": [
       "4"
      ]
     },
     "execution_count": 77,
     "metadata": {},
     "output_type": "execute_result"
    }
   ],
   "source": [
    "len(ee_index)"
   ]
  },
  {
   "cell_type": "code",
   "execution_count": 78,
   "id": "79cf952e",
   "metadata": {},
   "outputs": [],
   "source": [
    "test.drop(ee_index,inplace=True)\n",
    "del test['outlier_score']"
   ]
  },
  {
   "cell_type": "code",
   "execution_count": 79,
   "id": "533cb850",
   "metadata": {},
   "outputs": [
    {
     "data": {
      "text/plain": [
       "(59, 7)"
      ]
     },
     "execution_count": 79,
     "metadata": {},
     "output_type": "execute_result"
    }
   ],
   "source": [
    "test.shape"
   ]
  },
  {
   "cell_type": "code",
   "execution_count": 80,
   "id": "bfc518e3",
   "metadata": {},
   "outputs": [
    {
     "data": {
      "text/plain": [
       "array([[ 8.33491901e-01,  2.01978943e-01,  2.74261183e-15,\n",
       "         3.03129602e-03,  0.00000000e+00,  2.89853412e-02,\n",
       "        -1.43784144e-15],\n",
       "       [-2.71591964e-01, -4.93358401e-01,  2.74261183e-15,\n",
       "         3.03129602e-03,  0.00000000e+00,  2.89853412e-02,\n",
       "        -1.43784144e-15],\n",
       "       [-1.65162492e+00, -9.56916629e-01,  2.74261183e-15,\n",
       "         3.03129602e-03,  0.00000000e+00,  2.89853412e-02,\n",
       "        -1.43784144e-15],\n",
       "       [ 6.68069231e-02,  4.62730446e-01,  2.74261183e-15,\n",
       "         3.03129602e-03,  0.00000000e+00,  2.89853412e-02,\n",
       "        -1.43784144e-15],\n",
       "       [-2.24004620e-01,  1.44034164e-01,  2.74261183e-15,\n",
       "         3.03129602e-03,  0.00000000e+00,  2.89853412e-02,\n",
       "        -1.43784144e-15],\n",
       "       [-4.09066511e-01, -7.83082294e-01,  2.74261183e-15,\n",
       "         3.03129602e-03,  0.00000000e+00,  2.89853412e-02,\n",
       "        -1.43784144e-15],\n",
       "       [ 1.09106784e-01, -3.94852277e-01,  2.74261183e-15,\n",
       "         3.03129602e-03,  0.00000000e+00,  2.89853412e-02,\n",
       "        -1.43784144e-15],\n",
       "       [-6.73440642e-01, -7.54109904e-01,  2.63569967e+00,\n",
       "         8.05112223e-01, -1.29604266e+00,  2.89853412e-02,\n",
       "        -1.43784144e-15],\n",
       "       [-1.97567207e-01, -8.98971851e-01,  2.74261183e-15,\n",
       "         3.03129602e-03,  0.00000000e+00,  2.89853412e-02,\n",
       "        -1.43784144e-15],\n",
       "       [ 6.21992597e-01,  9.55261064e-01, -8.63927593e-01,\n",
       "         1.18705552e+00, -8.88553267e-01,  2.89853412e-02,\n",
       "        -1.43784144e-15],\n",
       "       [ 1.09786603e+00, -5.51303179e-01, -7.60997379e-01,\n",
       "        -2.05946252e+00,  0.00000000e+00,  2.89853412e-02,\n",
       "        -1.43784144e-15],\n",
       "       [-6.73440642e-01,  1.73006553e-01,  2.74261183e-15,\n",
       "         3.03129602e-03,  0.00000000e+00,  2.89853412e-02,\n",
       "        -1.43784144e-15],\n",
       "       [-1.02392520e-01, -7.07754082e-01,  2.74261183e-15,\n",
       "         3.03129602e-03,  2.32608530e+00,  2.89853412e-02,\n",
       "        -1.43784144e-15],\n",
       "       [ 4.03695100e-02,  3.50483132e+00,  2.06546629e-01,\n",
       "         3.03129602e-03, -1.70353206e+00,  1.07062052e+00,\n",
       "        -1.51132661e+00],\n",
       "       [ 2.51868814e-01, -1.07280619e+00,  2.74261183e-15,\n",
       "         3.03129602e-03,  0.00000000e+00,  5.43373086e-01,\n",
       "        -1.43784144e-15],\n",
       "       [-9.64252185e-01, -1.30458530e+00, -2.36053290e-01,\n",
       "        -1.14279860e+00,  0.00000000e+00,  2.89853412e-02,\n",
       "        -1.43784144e-15],\n",
       "       [ 5.16242944e-01, -4.35413622e-01,  2.74261183e-15,\n",
       "         3.03129602e-03, -7.66306448e-01,  4.14776150e-01,\n",
       "        -1.43784144e-15],\n",
       "       [-6.09990850e-01, -2.98001719e-02, -4.00741632e-01,\n",
       "        -1.10460427e+00, -1.36848522e+00, -1.96426717e+00,\n",
       "        -5.18422417e-01],\n",
       "       [ 2.26111220e+00,  3.09921787e+00,  2.74261183e-15,\n",
       "         3.03129602e-03,  0.00000000e+00,  2.89853412e-02,\n",
       "        -1.43784144e-15],\n",
       "       [ 2.51868814e-01,  4.91702836e-01,  2.74261183e-15,\n",
       "         3.03129602e-03,  0.00000000e+00,  2.89853412e-02,\n",
       "        -1.43784144e-15],\n",
       "       [-1.12287666e+00, -2.03634508e-01,  2.74261183e-15,\n",
       "         3.03129602e-03,  0.00000000e+00,  2.89853412e-02,\n",
       "        -1.43784144e-15],\n",
       "       [ 1.98993988e-01,  4.91702836e-01,  2.74261183e-15,\n",
       "         3.03129602e-03, -1.84841718e+00, -2.02856564e+00,\n",
       "        -1.68940182e+00],\n",
       "       [-1.12287666e+00, -1.45689729e-01,  3.71234970e-01,\n",
       "         1.84454363e-01,  1.42055331e+00,  5.56232780e-01,\n",
       "        -5.13026198e-01],\n",
       "       [-3.29754272e-01,  8.39371507e-01,  2.74261183e-15,\n",
       "         3.03129602e-03,  0.00000000e+00,  2.89853412e-02,\n",
       "        -1.43784144e-15],\n",
       "       [ 2.20823738e+00,  1.36087451e+00,  2.74261183e-15,\n",
       "         3.03129602e-03,  0.00000000e+00,  2.89853412e-02,\n",
       "        -1.43784144e-15],\n",
       "       [-1.33437597e+00, -1.01486141e+00,  2.74261183e-15,\n",
       "         3.03129602e-03,  0.00000000e+00,  2.89853412e-02,\n",
       "        -1.43784144e-15],\n",
       "       [ 5.69117771e-01,  1.12909540e+00,  2.74261183e-15,\n",
       "         3.03129602e-03,  0.00000000e+00,  2.89853412e-02,\n",
       "        -1.43784144e-15],\n",
       "       [-4.88378750e-01, -1.01486141e+00,  5.30159220e+00,\n",
       "         2.96309186e+00,  2.61472363e-01, -2.05428503e+00,\n",
       "         1.50708673e-01],\n",
       "       [-8.74364981e-01, -5.51303179e-01,  2.74261183e-15,\n",
       "         3.03129602e-03,  0.00000000e+00,  2.89853412e-02,\n",
       "        -1.43784144e-15],\n",
       "       [ 3.73480914e-01, -3.31113021e-01,  2.74261183e-15,\n",
       "         3.03129602e-03,  0.00000000e+00,  2.89853412e-02,\n",
       "        -1.43784144e-15],\n",
       "       [-6.47003229e-01, -1.45689729e-01,  2.74261183e-15,\n",
       "         3.03129602e-03,  0.00000000e+00,  2.89853412e-02,\n",
       "        -1.43784144e-15],\n",
       "       [ 2.14856436e-01, -9.56916629e-01,  2.74261183e-15,\n",
       "         3.03129602e-03,  0.00000000e+00,  2.89853412e-02,\n",
       "        -1.43784144e-15],\n",
       "       [-5.83553437e-01, -1.43206381e+00,  2.74261183e-15,\n",
       "         3.03129602e-03, -4.85591531e-01,  2.89853412e-02,\n",
       "        -1.43784144e-15],\n",
       "       [-1.22862632e+00, -4.93358401e-01,  2.74261183e-15,\n",
       "         3.03129602e-03,  0.00000000e+00,  2.89853412e-02,\n",
       "        -1.43784144e-15],\n",
       "       [-1.17575149e+00,  8.10399118e-01,  2.74261183e-15,\n",
       "         3.03129602e-03,  0.00000000e+00,  2.89853412e-02,\n",
       "        -1.43784144e-15],\n",
       "       [ 1.98993988e-01, -1.43206381e+00,  2.74261183e-15,\n",
       "         3.03129602e-03,  0.00000000e+00,  2.89853412e-02,\n",
       "        -1.43784144e-15],\n",
       "       [-9.11377359e-01, -4.93358401e-01,  2.74261183e-15,\n",
       "         3.03129602e-03,  0.00000000e+00,  2.89853412e-02,\n",
       "        -1.43784144e-15],\n",
       "       [-9.64252185e-01, -4.06441233e-01, -3.49276525e-01,\n",
       "        -8.18146796e-01, -1.20548946e+00,  1.57582277e-01,\n",
       "        -5.34611072e-01],\n",
       "       [ 2.20823738e+00,  8.60893854e-02, -1.89322973e+00,\n",
       "         4.23168924e-01,  0.00000000e+00,  2.89853412e-02,\n",
       "        -7.50459811e-01],\n",
       "       [-4.35503924e-01,  4.91702836e-01,  2.74261183e-15,\n",
       "         3.03129602e-03,  0.00000000e+00,  2.89853412e-02,\n",
       "        -1.43784144e-15],\n",
       "       [-6.31140781e-01, -2.32606897e-01,  2.74261183e-15,\n",
       "         3.03129602e-03,  0.00000000e+00,  2.89853412e-02,\n",
       "        -1.43784144e-15],\n",
       "       [ 8.86366727e-01,  8.39371507e-01, -2.09909016e+00,\n",
       "        -3.28168107e+00, -1.50884268e+00, -2.37577737e+00,\n",
       "        -1.29008166e+00],\n",
       "       [-2.43417235e+00, -2.56198700e+00,  2.74261183e-15,\n",
       "         3.03129602e-03,  0.00000000e+00,  2.89853412e-02,\n",
       "        -1.43784144e-15],\n",
       "       [ 8.33491901e-01,  6.65537171e-01,  2.74261183e-15,\n",
       "         3.03129602e-03,  0.00000000e+00,  2.89853412e-02,\n",
       "        -1.43784144e-15],\n",
       "       [ 1.24062806e+00, -2.98001719e-02,  2.74261183e-15,\n",
       "         3.03129602e-03,  0.00000000e+00,  2.89853412e-02,\n",
       "        -1.43784144e-15],\n",
       "       [-1.07000184e+00, -1.36253008e+00,  2.74261183e-15,\n",
       "         3.03129602e-03,  0.00000000e+00, -9.99790149e-01,\n",
       "        -1.56875780e-01],\n",
       "       [-2.24004620e-01,  2.81446067e-02, -1.06978802e+00,\n",
       "        -2.25043416e+00, -1.92991506e+00, -1.38558096e+00,\n",
       "        -1.02027073e+00],\n",
       "       [ 2.41973668e+00,  1.65059841e+00,  2.74261183e-15,\n",
       "         3.03129602e-03,  0.00000000e+00,  2.89853412e-02,\n",
       "        -1.43784144e-15],\n",
       "       [-3.82629098e-01,  2.01978943e-01,  2.74261183e-15,\n",
       "         3.03129602e-03,  0.00000000e+00,  2.89853412e-02,\n",
       "        -1.43784144e-15],\n",
       "       [ 8.33491901e-01,  7.81426729e-01,  2.74261183e-15,\n",
       "         3.03129602e-03,  0.00000000e+00,  2.89853412e-02,\n",
       "        -1.43784144e-15],\n",
       "       [-3.82629098e-01, -3.77468843e-01, -9.66857806e-01,\n",
       "         5.29294598e+00,  4.95212808e+00, -9.96115951e-02,\n",
       "         1.02142707e-01],\n",
       "       [ 9.39241553e-01,  8.97316286e-01,  2.74261183e-15,\n",
       "         3.03129602e-03,  0.00000000e+00,  2.89853412e-02,\n",
       "        -1.43784144e-15],\n",
       "       [-3.82629098e-01, -6.67192736e-01,  2.74261183e-15,\n",
       "         3.03129602e-03,  0.00000000e+00,  2.89853412e-02,\n",
       "         4.21406118e+00],\n",
       "       [-5.41253576e-01,  6.65537171e-01,  2.74261183e-15,\n",
       "         3.03129602e-03,  0.00000000e+00,  2.89853412e-02,\n",
       "        -1.43784144e-15],\n",
       "       [ 6.21992597e-01,  4.33758057e-01,  2.89302520e+00,\n",
       "         3.75426012e-01,  6.28212819e-01,  6.33023522e+00,\n",
       "        -2.09951443e+00],\n",
       "       [ 1.67948912e+00, -2.03634508e-01,  2.74261183e-15,\n",
       "         3.03129602e-03,  0.00000000e+00,  2.89853412e-02,\n",
       "        -1.43784144e-15],\n",
       "       [-9.37814772e-01, -8.58410506e-01,  2.74261183e-15,\n",
       "         3.03129602e-03,  0.00000000e+00,  2.89853412e-02,\n",
       "        -1.43784144e-15],\n",
       "       [ 9.92116379e-01,  1.27395735e+00,  2.74261183e-15,\n",
       "         3.03129602e-03,  0.00000000e+00,  2.89853412e-02,\n",
       "        -1.43784144e-15],\n",
       "       [ 3.04743640e-01,  8.97316286e-01, -2.76813654e+00,\n",
       "        -7.22660971e-01,  3.41272369e+00,  4.14776150e-01,\n",
       "         5.61707798e+00],\n",
       "       [-8.16202672e-01, -1.16717340e-01,  2.74261183e-15,\n",
       "         3.03129602e-03,  0.00000000e+00,  2.89853412e-02,\n",
       "        -1.43784144e-15],\n",
       "       [ 1.20361568e+00, -1.45689729e-01,  2.74261183e-15,\n",
       "         3.03129602e-03,  0.00000000e+00,  2.89853412e-02,\n",
       "        -1.43784144e-15],\n",
       "       [ 1.46798981e+00,  1.01320584e+00,  2.74261183e-15,\n",
       "         3.03129602e-03,  0.00000000e+00,  2.89853412e-02,\n",
       "        -1.43784144e-15],\n",
       "       [-6.47003229e-01, -2.98001719e-02,  2.74261183e-15,\n",
       "         3.03129602e-03,  0.00000000e+00,  2.89853412e-02,\n",
       "        -1.43784144e-15]])"
      ]
     },
     "execution_count": 80,
     "metadata": {},
     "output_type": "execute_result"
    }
   ],
   "source": [
    "# sandarddisation \n",
    "from sklearn.preprocessing import StandardScaler\n",
    "sc = StandardScaler()\n",
    "test_std = sc.fit_transform(test_num)\n",
    "test_std"
   ]
  },
  {
   "cell_type": "code",
   "execution_count": 81,
   "id": "56fdd29a",
   "metadata": {},
   "outputs": [],
   "source": [
    "test_df = pd.DataFrame(test_std,columns=numaric_c ,index=test_num.index)"
   ]
  },
  {
   "cell_type": "code",
   "execution_count": 82,
   "id": "f7a9fb24",
   "metadata": {},
   "outputs": [
    {
     "data": {
      "text/html": [
       "<div>\n",
       "<style scoped>\n",
       "    .dataframe tbody tr th:only-of-type {\n",
       "        vertical-align: middle;\n",
       "    }\n",
       "\n",
       "    .dataframe tbody tr th {\n",
       "        vertical-align: top;\n",
       "    }\n",
       "\n",
       "    .dataframe thead th {\n",
       "        text-align: right;\n",
       "    }\n",
       "</style>\n",
       "<table border=\"1\" class=\"dataframe\">\n",
       "  <thead>\n",
       "    <tr style=\"text-align: right;\">\n",
       "      <th></th>\n",
       "      <th>1</th>\n",
       "      <th>2</th>\n",
       "      <th>3</th>\n",
       "      <th>4</th>\n",
       "      <th>5</th>\n",
       "      <th>6</th>\n",
       "      <th>7</th>\n",
       "    </tr>\n",
       "    <tr>\n",
       "      <th>Id</th>\n",
       "      <th></th>\n",
       "      <th></th>\n",
       "      <th></th>\n",
       "      <th></th>\n",
       "      <th></th>\n",
       "      <th></th>\n",
       "      <th></th>\n",
       "    </tr>\n",
       "  </thead>\n",
       "  <tbody>\n",
       "    <tr>\n",
       "      <th>1</th>\n",
       "      <td>0.833492</td>\n",
       "      <td>0.201979</td>\n",
       "      <td>2.742612e-15</td>\n",
       "      <td>0.003031</td>\n",
       "      <td>0.000000</td>\n",
       "      <td>0.028985</td>\n",
       "      <td>-1.437841e-15</td>\n",
       "    </tr>\n",
       "    <tr>\n",
       "      <th>2</th>\n",
       "      <td>-0.271592</td>\n",
       "      <td>-0.493358</td>\n",
       "      <td>2.742612e-15</td>\n",
       "      <td>0.003031</td>\n",
       "      <td>0.000000</td>\n",
       "      <td>0.028985</td>\n",
       "      <td>-1.437841e-15</td>\n",
       "    </tr>\n",
       "    <tr>\n",
       "      <th>32</th>\n",
       "      <td>-1.651625</td>\n",
       "      <td>-0.956917</td>\n",
       "      <td>2.742612e-15</td>\n",
       "      <td>0.003031</td>\n",
       "      <td>0.000000</td>\n",
       "      <td>0.028985</td>\n",
       "      <td>-1.437841e-15</td>\n",
       "    </tr>\n",
       "    <tr>\n",
       "      <th>40</th>\n",
       "      <td>0.066807</td>\n",
       "      <td>0.462730</td>\n",
       "      <td>2.742612e-15</td>\n",
       "      <td>0.003031</td>\n",
       "      <td>0.000000</td>\n",
       "      <td>0.028985</td>\n",
       "      <td>-1.437841e-15</td>\n",
       "    </tr>\n",
       "    <tr>\n",
       "      <th>43</th>\n",
       "      <td>-0.224005</td>\n",
       "      <td>0.144034</td>\n",
       "      <td>2.742612e-15</td>\n",
       "      <td>0.003031</td>\n",
       "      <td>0.000000</td>\n",
       "      <td>0.028985</td>\n",
       "      <td>-1.437841e-15</td>\n",
       "    </tr>\n",
       "    <tr>\n",
       "      <th>...</th>\n",
       "      <td>...</td>\n",
       "      <td>...</td>\n",
       "      <td>...</td>\n",
       "      <td>...</td>\n",
       "      <td>...</td>\n",
       "      <td>...</td>\n",
       "      <td>...</td>\n",
       "    </tr>\n",
       "    <tr>\n",
       "      <th>206</th>\n",
       "      <td>0.304744</td>\n",
       "      <td>0.897316</td>\n",
       "      <td>-2.768137e+00</td>\n",
       "      <td>-0.722661</td>\n",
       "      <td>3.412724</td>\n",
       "      <td>0.414776</td>\n",
       "      <td>5.617078e+00</td>\n",
       "    </tr>\n",
       "    <tr>\n",
       "      <th>209</th>\n",
       "      <td>-0.816203</td>\n",
       "      <td>-0.116717</td>\n",
       "      <td>2.742612e-15</td>\n",
       "      <td>0.003031</td>\n",
       "      <td>0.000000</td>\n",
       "      <td>0.028985</td>\n",
       "      <td>-1.437841e-15</td>\n",
       "    </tr>\n",
       "    <tr>\n",
       "      <th>210</th>\n",
       "      <td>1.203616</td>\n",
       "      <td>-0.145690</td>\n",
       "      <td>2.742612e-15</td>\n",
       "      <td>0.003031</td>\n",
       "      <td>0.000000</td>\n",
       "      <td>0.028985</td>\n",
       "      <td>-1.437841e-15</td>\n",
       "    </tr>\n",
       "    <tr>\n",
       "      <th>215</th>\n",
       "      <td>1.467990</td>\n",
       "      <td>1.013206</td>\n",
       "      <td>2.742612e-15</td>\n",
       "      <td>0.003031</td>\n",
       "      <td>0.000000</td>\n",
       "      <td>0.028985</td>\n",
       "      <td>-1.437841e-15</td>\n",
       "    </tr>\n",
       "    <tr>\n",
       "      <th>216</th>\n",
       "      <td>-0.647003</td>\n",
       "      <td>-0.029800</td>\n",
       "      <td>2.742612e-15</td>\n",
       "      <td>0.003031</td>\n",
       "      <td>0.000000</td>\n",
       "      <td>0.028985</td>\n",
       "      <td>-1.437841e-15</td>\n",
       "    </tr>\n",
       "  </tbody>\n",
       "</table>\n",
       "<p>63 rows × 7 columns</p>\n",
       "</div>"
      ],
      "text/plain": [
       "            1         2             3         4         5         6  \\\n",
       "Id                                                                    \n",
       "1    0.833492  0.201979  2.742612e-15  0.003031  0.000000  0.028985   \n",
       "2   -0.271592 -0.493358  2.742612e-15  0.003031  0.000000  0.028985   \n",
       "32  -1.651625 -0.956917  2.742612e-15  0.003031  0.000000  0.028985   \n",
       "40   0.066807  0.462730  2.742612e-15  0.003031  0.000000  0.028985   \n",
       "43  -0.224005  0.144034  2.742612e-15  0.003031  0.000000  0.028985   \n",
       "..        ...       ...           ...       ...       ...       ...   \n",
       "206  0.304744  0.897316 -2.768137e+00 -0.722661  3.412724  0.414776   \n",
       "209 -0.816203 -0.116717  2.742612e-15  0.003031  0.000000  0.028985   \n",
       "210  1.203616 -0.145690  2.742612e-15  0.003031  0.000000  0.028985   \n",
       "215  1.467990  1.013206  2.742612e-15  0.003031  0.000000  0.028985   \n",
       "216 -0.647003 -0.029800  2.742612e-15  0.003031  0.000000  0.028985   \n",
       "\n",
       "                7  \n",
       "Id                 \n",
       "1   -1.437841e-15  \n",
       "2   -1.437841e-15  \n",
       "32  -1.437841e-15  \n",
       "40  -1.437841e-15  \n",
       "43  -1.437841e-15  \n",
       "..            ...  \n",
       "206  5.617078e+00  \n",
       "209 -1.437841e-15  \n",
       "210 -1.437841e-15  \n",
       "215 -1.437841e-15  \n",
       "216 -1.437841e-15  \n",
       "\n",
       "[63 rows x 7 columns]"
      ]
     },
     "execution_count": 82,
     "metadata": {},
     "output_type": "execute_result"
    }
   ],
   "source": [
    "test_df "
   ]
  },
  {
   "cell_type": "code",
   "execution_count": 83,
   "id": "5c9cbaa8",
   "metadata": {},
   "outputs": [
    {
     "data": {
      "text/plain": [
       "(139, 8)"
      ]
     },
     "execution_count": 83,
     "metadata": {},
     "output_type": "execute_result"
    }
   ],
   "source": [
    "# Both coloumns TRAIN_1 & TEST_DF\n",
    "train_1.shape"
   ]
  },
  {
   "cell_type": "code",
   "execution_count": 84,
   "id": "344ffabe",
   "metadata": {},
   "outputs": [
    {
     "data": {
      "text/plain": [
       "(63, 7)"
      ]
     },
     "execution_count": 84,
     "metadata": {},
     "output_type": "execute_result"
    }
   ],
   "source": [
    "test_df.shape"
   ]
  },
  {
   "cell_type": "markdown",
   "id": "f71f6532",
   "metadata": {},
   "source": [
    "## Model appyling"
   ]
  },
  {
   "cell_type": "code",
   "execution_count": 85,
   "id": "456fcbe0",
   "metadata": {},
   "outputs": [
    {
     "data": {
      "text/html": [
       "<div>\n",
       "<style scoped>\n",
       "    .dataframe tbody tr th:only-of-type {\n",
       "        vertical-align: middle;\n",
       "    }\n",
       "\n",
       "    .dataframe tbody tr th {\n",
       "        vertical-align: top;\n",
       "    }\n",
       "\n",
       "    .dataframe thead th {\n",
       "        text-align: right;\n",
       "    }\n",
       "</style>\n",
       "<table border=\"1\" class=\"dataframe\">\n",
       "  <thead>\n",
       "    <tr style=\"text-align: right;\">\n",
       "      <th></th>\n",
       "      <th>1</th>\n",
       "      <th>2</th>\n",
       "      <th>3</th>\n",
       "      <th>4</th>\n",
       "      <th>5</th>\n",
       "      <th>6</th>\n",
       "      <th>7</th>\n",
       "      <th>target</th>\n",
       "    </tr>\n",
       "    <tr>\n",
       "      <th>Id</th>\n",
       "      <th></th>\n",
       "      <th></th>\n",
       "      <th></th>\n",
       "      <th></th>\n",
       "      <th></th>\n",
       "      <th></th>\n",
       "      <th></th>\n",
       "      <th></th>\n",
       "    </tr>\n",
       "  </thead>\n",
       "  <tbody>\n",
       "    <tr>\n",
       "      <th>0</th>\n",
       "      <td>-0.068103</td>\n",
       "      <td>0.473456</td>\n",
       "      <td>-0.078067</td>\n",
       "      <td>0.080606</td>\n",
       "      <td>0.03857</td>\n",
       "      <td>-0.120624</td>\n",
       "      <td>-0.076622</td>\n",
       "      <td>1</td>\n",
       "    </tr>\n",
       "    <tr>\n",
       "      <th>3</th>\n",
       "      <td>0.476716</td>\n",
       "      <td>0.972210</td>\n",
       "      <td>-0.078067</td>\n",
       "      <td>0.080606</td>\n",
       "      <td>0.03857</td>\n",
       "      <td>-0.120624</td>\n",
       "      <td>-0.076622</td>\n",
       "      <td>0</td>\n",
       "    </tr>\n",
       "    <tr>\n",
       "      <th>4</th>\n",
       "      <td>-0.875242</td>\n",
       "      <td>-1.113489</td>\n",
       "      <td>-0.078067</td>\n",
       "      <td>0.080606</td>\n",
       "      <td>0.03857</td>\n",
       "      <td>-0.120624</td>\n",
       "      <td>-0.076622</td>\n",
       "      <td>0</td>\n",
       "    </tr>\n",
       "    <tr>\n",
       "      <th>5</th>\n",
       "      <td>1.394836</td>\n",
       "      <td>1.083044</td>\n",
       "      <td>-0.078067</td>\n",
       "      <td>0.080606</td>\n",
       "      <td>0.03857</td>\n",
       "      <td>-0.120624</td>\n",
       "      <td>-0.076622</td>\n",
       "      <td>1</td>\n",
       "    </tr>\n",
       "    <tr>\n",
       "      <th>6</th>\n",
       "      <td>0.285020</td>\n",
       "      <td>0.196370</td>\n",
       "      <td>-0.078067</td>\n",
       "      <td>0.080606</td>\n",
       "      <td>0.03857</td>\n",
       "      <td>-0.120624</td>\n",
       "      <td>-0.076622</td>\n",
       "      <td>0</td>\n",
       "    </tr>\n",
       "    <tr>\n",
       "      <th>...</th>\n",
       "      <td>...</td>\n",
       "      <td>...</td>\n",
       "      <td>...</td>\n",
       "      <td>...</td>\n",
       "      <td>...</td>\n",
       "      <td>...</td>\n",
       "      <td>...</td>\n",
       "      <td>...</td>\n",
       "    </tr>\n",
       "    <tr>\n",
       "      <th>208</th>\n",
       "      <td>0.032789</td>\n",
       "      <td>0.448266</td>\n",
       "      <td>-0.078067</td>\n",
       "      <td>0.080606</td>\n",
       "      <td>0.03857</td>\n",
       "      <td>-0.120624</td>\n",
       "      <td>-0.076622</td>\n",
       "      <td>0</td>\n",
       "    </tr>\n",
       "    <tr>\n",
       "      <th>211</th>\n",
       "      <td>1.546174</td>\n",
       "      <td>1.556609</td>\n",
       "      <td>-0.078067</td>\n",
       "      <td>0.080606</td>\n",
       "      <td>0.03857</td>\n",
       "      <td>-0.120624</td>\n",
       "      <td>-0.076622</td>\n",
       "      <td>1</td>\n",
       "    </tr>\n",
       "    <tr>\n",
       "      <th>212</th>\n",
       "      <td>0.940820</td>\n",
       "      <td>1.153575</td>\n",
       "      <td>-0.078067</td>\n",
       "      <td>0.080606</td>\n",
       "      <td>0.03857</td>\n",
       "      <td>-0.120624</td>\n",
       "      <td>-0.076622</td>\n",
       "      <td>1</td>\n",
       "    </tr>\n",
       "    <tr>\n",
       "      <th>213</th>\n",
       "      <td>0.133681</td>\n",
       "      <td>1.455851</td>\n",
       "      <td>-0.078067</td>\n",
       "      <td>0.080606</td>\n",
       "      <td>0.03857</td>\n",
       "      <td>-0.120624</td>\n",
       "      <td>-0.076622</td>\n",
       "      <td>1</td>\n",
       "    </tr>\n",
       "    <tr>\n",
       "      <th>214</th>\n",
       "      <td>-0.774350</td>\n",
       "      <td>-0.408180</td>\n",
       "      <td>-0.078067</td>\n",
       "      <td>0.080606</td>\n",
       "      <td>0.03857</td>\n",
       "      <td>-0.120624</td>\n",
       "      <td>-0.076622</td>\n",
       "      <td>0</td>\n",
       "    </tr>\n",
       "  </tbody>\n",
       "</table>\n",
       "<p>139 rows × 8 columns</p>\n",
       "</div>"
      ],
      "text/plain": [
       "            1         2         3         4        5         6         7  \\\n",
       "Id                                                                         \n",
       "0   -0.068103  0.473456 -0.078067  0.080606  0.03857 -0.120624 -0.076622   \n",
       "3    0.476716  0.972210 -0.078067  0.080606  0.03857 -0.120624 -0.076622   \n",
       "4   -0.875242 -1.113489 -0.078067  0.080606  0.03857 -0.120624 -0.076622   \n",
       "5    1.394836  1.083044 -0.078067  0.080606  0.03857 -0.120624 -0.076622   \n",
       "6    0.285020  0.196370 -0.078067  0.080606  0.03857 -0.120624 -0.076622   \n",
       "..        ...       ...       ...       ...      ...       ...       ...   \n",
       "208  0.032789  0.448266 -0.078067  0.080606  0.03857 -0.120624 -0.076622   \n",
       "211  1.546174  1.556609 -0.078067  0.080606  0.03857 -0.120624 -0.076622   \n",
       "212  0.940820  1.153575 -0.078067  0.080606  0.03857 -0.120624 -0.076622   \n",
       "213  0.133681  1.455851 -0.078067  0.080606  0.03857 -0.120624 -0.076622   \n",
       "214 -0.774350 -0.408180 -0.078067  0.080606  0.03857 -0.120624 -0.076622   \n",
       "\n",
       "     target  \n",
       "Id           \n",
       "0         1  \n",
       "3         0  \n",
       "4         0  \n",
       "5         1  \n",
       "6         0  \n",
       "..      ...  \n",
       "208       0  \n",
       "211       1  \n",
       "212       1  \n",
       "213       1  \n",
       "214       0  \n",
       "\n",
       "[139 rows x 8 columns]"
      ]
     },
     "execution_count": 85,
     "metadata": {},
     "output_type": "execute_result"
    }
   ],
   "source": [
    "train_1 "
   ]
  },
  {
   "cell_type": "code",
   "execution_count": 86,
   "id": "d2b49d9c",
   "metadata": {},
   "outputs": [],
   "source": [
    "x = train_1.drop(columns=['target'])\n",
    "y = train_1['target']"
   ]
  },
  {
   "cell_type": "code",
   "execution_count": 87,
   "id": "74ff1d49",
   "metadata": {},
   "outputs": [
    {
     "data": {
      "text/html": [
       "<div>\n",
       "<style scoped>\n",
       "    .dataframe tbody tr th:only-of-type {\n",
       "        vertical-align: middle;\n",
       "    }\n",
       "\n",
       "    .dataframe tbody tr th {\n",
       "        vertical-align: top;\n",
       "    }\n",
       "\n",
       "    .dataframe thead th {\n",
       "        text-align: right;\n",
       "    }\n",
       "</style>\n",
       "<table border=\"1\" class=\"dataframe\">\n",
       "  <thead>\n",
       "    <tr style=\"text-align: right;\">\n",
       "      <th></th>\n",
       "      <th>1</th>\n",
       "      <th>2</th>\n",
       "      <th>3</th>\n",
       "      <th>4</th>\n",
       "      <th>5</th>\n",
       "      <th>6</th>\n",
       "      <th>7</th>\n",
       "    </tr>\n",
       "    <tr>\n",
       "      <th>Id</th>\n",
       "      <th></th>\n",
       "      <th></th>\n",
       "      <th></th>\n",
       "      <th></th>\n",
       "      <th></th>\n",
       "      <th></th>\n",
       "      <th></th>\n",
       "    </tr>\n",
       "  </thead>\n",
       "  <tbody>\n",
       "    <tr>\n",
       "      <th>0</th>\n",
       "      <td>-0.068103</td>\n",
       "      <td>0.473456</td>\n",
       "      <td>-0.078067</td>\n",
       "      <td>0.080606</td>\n",
       "      <td>0.03857</td>\n",
       "      <td>-0.120624</td>\n",
       "      <td>-0.076622</td>\n",
       "    </tr>\n",
       "    <tr>\n",
       "      <th>3</th>\n",
       "      <td>0.476716</td>\n",
       "      <td>0.972210</td>\n",
       "      <td>-0.078067</td>\n",
       "      <td>0.080606</td>\n",
       "      <td>0.03857</td>\n",
       "      <td>-0.120624</td>\n",
       "      <td>-0.076622</td>\n",
       "    </tr>\n",
       "    <tr>\n",
       "      <th>4</th>\n",
       "      <td>-0.875242</td>\n",
       "      <td>-1.113489</td>\n",
       "      <td>-0.078067</td>\n",
       "      <td>0.080606</td>\n",
       "      <td>0.03857</td>\n",
       "      <td>-0.120624</td>\n",
       "      <td>-0.076622</td>\n",
       "    </tr>\n",
       "    <tr>\n",
       "      <th>5</th>\n",
       "      <td>1.394836</td>\n",
       "      <td>1.083044</td>\n",
       "      <td>-0.078067</td>\n",
       "      <td>0.080606</td>\n",
       "      <td>0.03857</td>\n",
       "      <td>-0.120624</td>\n",
       "      <td>-0.076622</td>\n",
       "    </tr>\n",
       "    <tr>\n",
       "      <th>6</th>\n",
       "      <td>0.285020</td>\n",
       "      <td>0.196370</td>\n",
       "      <td>-0.078067</td>\n",
       "      <td>0.080606</td>\n",
       "      <td>0.03857</td>\n",
       "      <td>-0.120624</td>\n",
       "      <td>-0.076622</td>\n",
       "    </tr>\n",
       "    <tr>\n",
       "      <th>...</th>\n",
       "      <td>...</td>\n",
       "      <td>...</td>\n",
       "      <td>...</td>\n",
       "      <td>...</td>\n",
       "      <td>...</td>\n",
       "      <td>...</td>\n",
       "      <td>...</td>\n",
       "    </tr>\n",
       "    <tr>\n",
       "      <th>208</th>\n",
       "      <td>0.032789</td>\n",
       "      <td>0.448266</td>\n",
       "      <td>-0.078067</td>\n",
       "      <td>0.080606</td>\n",
       "      <td>0.03857</td>\n",
       "      <td>-0.120624</td>\n",
       "      <td>-0.076622</td>\n",
       "    </tr>\n",
       "    <tr>\n",
       "      <th>211</th>\n",
       "      <td>1.546174</td>\n",
       "      <td>1.556609</td>\n",
       "      <td>-0.078067</td>\n",
       "      <td>0.080606</td>\n",
       "      <td>0.03857</td>\n",
       "      <td>-0.120624</td>\n",
       "      <td>-0.076622</td>\n",
       "    </tr>\n",
       "    <tr>\n",
       "      <th>212</th>\n",
       "      <td>0.940820</td>\n",
       "      <td>1.153575</td>\n",
       "      <td>-0.078067</td>\n",
       "      <td>0.080606</td>\n",
       "      <td>0.03857</td>\n",
       "      <td>-0.120624</td>\n",
       "      <td>-0.076622</td>\n",
       "    </tr>\n",
       "    <tr>\n",
       "      <th>213</th>\n",
       "      <td>0.133681</td>\n",
       "      <td>1.455851</td>\n",
       "      <td>-0.078067</td>\n",
       "      <td>0.080606</td>\n",
       "      <td>0.03857</td>\n",
       "      <td>-0.120624</td>\n",
       "      <td>-0.076622</td>\n",
       "    </tr>\n",
       "    <tr>\n",
       "      <th>214</th>\n",
       "      <td>-0.774350</td>\n",
       "      <td>-0.408180</td>\n",
       "      <td>-0.078067</td>\n",
       "      <td>0.080606</td>\n",
       "      <td>0.03857</td>\n",
       "      <td>-0.120624</td>\n",
       "      <td>-0.076622</td>\n",
       "    </tr>\n",
       "  </tbody>\n",
       "</table>\n",
       "<p>139 rows × 7 columns</p>\n",
       "</div>"
      ],
      "text/plain": [
       "            1         2         3         4        5         6         7\n",
       "Id                                                                      \n",
       "0   -0.068103  0.473456 -0.078067  0.080606  0.03857 -0.120624 -0.076622\n",
       "3    0.476716  0.972210 -0.078067  0.080606  0.03857 -0.120624 -0.076622\n",
       "4   -0.875242 -1.113489 -0.078067  0.080606  0.03857 -0.120624 -0.076622\n",
       "5    1.394836  1.083044 -0.078067  0.080606  0.03857 -0.120624 -0.076622\n",
       "6    0.285020  0.196370 -0.078067  0.080606  0.03857 -0.120624 -0.076622\n",
       "..        ...       ...       ...       ...      ...       ...       ...\n",
       "208  0.032789  0.448266 -0.078067  0.080606  0.03857 -0.120624 -0.076622\n",
       "211  1.546174  1.556609 -0.078067  0.080606  0.03857 -0.120624 -0.076622\n",
       "212  0.940820  1.153575 -0.078067  0.080606  0.03857 -0.120624 -0.076622\n",
       "213  0.133681  1.455851 -0.078067  0.080606  0.03857 -0.120624 -0.076622\n",
       "214 -0.774350 -0.408180 -0.078067  0.080606  0.03857 -0.120624 -0.076622\n",
       "\n",
       "[139 rows x 7 columns]"
      ]
     },
     "execution_count": 87,
     "metadata": {},
     "output_type": "execute_result"
    }
   ],
   "source": [
    "x"
   ]
  },
  {
   "cell_type": "code",
   "execution_count": 88,
   "id": "e08fe479",
   "metadata": {},
   "outputs": [
    {
     "data": {
      "text/plain": [
       "Id\n",
       "0      1\n",
       "3      0\n",
       "4      0\n",
       "5      1\n",
       "6      0\n",
       "      ..\n",
       "208    0\n",
       "211    1\n",
       "212    1\n",
       "213    1\n",
       "214    0\n",
       "Name: target, Length: 139, dtype: int32"
      ]
     },
     "execution_count": 88,
     "metadata": {},
     "output_type": "execute_result"
    }
   ],
   "source": [
    "y"
   ]
  },
  {
   "cell_type": "code",
   "execution_count": 89,
   "id": "9c0db376",
   "metadata": {},
   "outputs": [],
   "source": [
    "# train test split\n",
    "from sklearn.model_selection import train_test_split\n",
    "x_train,x_test,y_train,y_test = train_test_split(x,y,test_size=0.2,random_state=42)"
   ]
  },
  {
   "cell_type": "code",
   "execution_count": 90,
   "id": "48308670",
   "metadata": {},
   "outputs": [
    {
     "data": {
      "text/plain": [
       "((111, 7), (28, 7))"
      ]
     },
     "execution_count": 90,
     "metadata": {},
     "output_type": "execute_result"
    }
   ],
   "source": [
    "x_train.shape , x_test.shape"
   ]
  },
  {
   "cell_type": "code",
   "execution_count": 91,
   "id": "ce610f9a",
   "metadata": {},
   "outputs": [
    {
     "data": {
      "text/plain": [
       "((111,), (28,))"
      ]
     },
     "execution_count": 91,
     "metadata": {},
     "output_type": "execute_result"
    }
   ],
   "source": [
    "y_train.shape , y_test.shape"
   ]
  },
  {
   "cell_type": "code",
   "execution_count": 92,
   "id": "07e41dd3",
   "metadata": {},
   "outputs": [],
   "source": [
    "# naiye_bayes\n",
    "# random forest\n",
    "# KNN \n",
    "# XGBoost"
   ]
  },
  {
   "cell_type": "markdown",
   "id": "ec7e37e9",
   "metadata": {},
   "source": [
    "#### 1.Naiye bayes"
   ]
  },
  {
   "cell_type": "code",
   "execution_count": 93,
   "id": "c1d6dd65",
   "metadata": {},
   "outputs": [
    {
     "data": {
      "text/plain": [
       "GaussianNB()"
      ]
     },
     "execution_count": 93,
     "metadata": {},
     "output_type": "execute_result"
    }
   ],
   "source": [
    "from sklearn.naive_bayes import GaussianNB\n",
    "nb = GaussianNB()\n",
    "nb.fit(x_train,y_train)"
   ]
  },
  {
   "cell_type": "code",
   "execution_count": 94,
   "id": "4c1954f7",
   "metadata": {},
   "outputs": [],
   "source": [
    "y_pred = nb.predict(x_test)"
   ]
  },
  {
   "cell_type": "code",
   "execution_count": 95,
   "id": "d3e619b7",
   "metadata": {},
   "outputs": [
    {
     "data": {
      "text/plain": [
       "array([1, 1, 0, 0, 0, 0, 0, 1, 0, 1, 1, 0, 0, 1, 0, 0, 1, 0, 1, 0, 0, 1,\n",
       "       0, 1, 0, 1, 1, 0])"
      ]
     },
     "execution_count": 95,
     "metadata": {},
     "output_type": "execute_result"
    }
   ],
   "source": [
    "# predictions of train dataset\n",
    "y_pred"
   ]
  },
  {
   "cell_type": "code",
   "execution_count": 96,
   "id": "1992e752",
   "metadata": {},
   "outputs": [],
   "source": [
    "from sklearn.metrics import confusion_matrix,accuracy_score,precision_score,recall_score,f1_score\n",
    "from sklearn import metrics"
   ]
  },
  {
   "cell_type": "code",
   "execution_count": 97,
   "id": "bfacde28",
   "metadata": {},
   "outputs": [
    {
     "data": {
      "text/html": [
       "<div>\n",
       "<style scoped>\n",
       "    .dataframe tbody tr th:only-of-type {\n",
       "        vertical-align: middle;\n",
       "    }\n",
       "\n",
       "    .dataframe tbody tr th {\n",
       "        vertical-align: top;\n",
       "    }\n",
       "\n",
       "    .dataframe thead th {\n",
       "        text-align: right;\n",
       "    }\n",
       "</style>\n",
       "<table border=\"1\" class=\"dataframe\">\n",
       "  <thead>\n",
       "    <tr style=\"text-align: right;\">\n",
       "      <th></th>\n",
       "      <th>Model</th>\n",
       "      <th>accuracy</th>\n",
       "      <th>precision</th>\n",
       "      <th>recall</th>\n",
       "      <th>fi_score</th>\n",
       "    </tr>\n",
       "  </thead>\n",
       "  <tbody>\n",
       "  </tbody>\n",
       "</table>\n",
       "</div>"
      ],
      "text/plain": [
       "Empty DataFrame\n",
       "Columns: [Model, accuracy, precision, recall, fi_score]\n",
       "Index: []"
      ]
     },
     "execution_count": 97,
     "metadata": {},
     "output_type": "execute_result"
    }
   ],
   "source": [
    "metric_df = pd.DataFrame(columns=['Model','accuracy','precision','recall','fi_score'])\n",
    "metric_df"
   ]
  },
  {
   "cell_type": "code",
   "execution_count": 98,
   "id": "844534bd",
   "metadata": {
    "scrolled": true
   },
   "outputs": [
    {
     "name": "stderr",
     "output_type": "stream",
     "text": [
      "C:\\Users\\hp\\anaconda3\\lib\\site-packages\\sklearn\\utils\\deprecation.py:87: FutureWarning: Function plot_confusion_matrix is deprecated; Function `plot_confusion_matrix` is deprecated in 1.0 and will be removed in 1.2. Use one of the class methods: ConfusionMatrixDisplay.from_predictions or ConfusionMatrixDisplay.from_estimator.\n",
      "  warnings.warn(msg, category=FutureWarning)\n"
     ]
    },
    {
     "data": {
      "text/plain": [
       "<sklearn.metrics._plot.confusion_matrix.ConfusionMatrixDisplay at 0x27cf1767f10>"
      ]
     },
     "execution_count": 98,
     "metadata": {},
     "output_type": "execute_result"
    },
    {
     "data": {
      "image/png": "[encoded data removed]",
      "text/plain": [
       "<Figure size 432x288 with 2 Axes>"
      ]
     },
     "metadata": {
      "needs_background": "light"
     },
     "output_type": "display_data"
    }
   ],
   "source": [
    "metrics.plot_confusion_matrix(nb,x_test,y_test)"
   ]
  },
  {
   "cell_type": "code",
   "execution_count": 99,
   "id": "1e845070",
   "metadata": {},
   "outputs": [
    {
     "name": "stdout",
     "output_type": "stream",
     "text": [
      "Accuracy_score: 0.6428571428571429\n",
      "Precision_score: 0.5833333333333334\n",
      "Recall_score: 0.5833333333333334\n",
      "F1_score: 0.5833333333333334\n"
     ]
    }
   ],
   "source": [
    "print('Accuracy_score:',metrics.accuracy_score(y_test,y_pred))\n",
    "print('Precision_score:',metrics.precision_score(y_test,y_pred))\n",
    "print('Recall_score:',metrics.recall_score(y_test,y_pred))\n",
    "print('F1_score:',metrics.f1_score(y_test,y_pred))"
   ]
  },
  {
   "cell_type": "code",
   "execution_count": 100,
   "id": "0de8a86b",
   "metadata": {},
   "outputs": [
    {
     "data": {
      "text/html": [
       "<div>\n",
       "<style scoped>\n",
       "    .dataframe tbody tr th:only-of-type {\n",
       "        vertical-align: middle;\n",
       "    }\n",
       "\n",
       "    .dataframe tbody tr th {\n",
       "        vertical-align: top;\n",
       "    }\n",
       "\n",
       "    .dataframe thead th {\n",
       "        text-align: right;\n",
       "    }\n",
       "</style>\n",
       "<table border=\"1\" class=\"dataframe\">\n",
       "  <thead>\n",
       "    <tr style=\"text-align: right;\">\n",
       "      <th></th>\n",
       "      <th>Model</th>\n",
       "      <th>accuracy</th>\n",
       "      <th>precision</th>\n",
       "      <th>recall</th>\n",
       "      <th>fi_score</th>\n",
       "    </tr>\n",
       "  </thead>\n",
       "  <tbody>\n",
       "    <tr>\n",
       "      <th>0</th>\n",
       "      <td>Naive Bayes</td>\n",
       "      <td>0.642857</td>\n",
       "      <td>0.583333</td>\n",
       "      <td>0.583333</td>\n",
       "      <td>0.583333</td>\n",
       "    </tr>\n",
       "  </tbody>\n",
       "</table>\n",
       "</div>"
      ],
      "text/plain": [
       "         Model  accuracy  precision    recall  fi_score\n",
       "0  Naive Bayes  0.642857   0.583333  0.583333  0.583333"
      ]
     },
     "execution_count": 100,
     "metadata": {},
     "output_type": "execute_result"
    }
   ],
   "source": [
    "metric_df.loc[len(metric_df)] = (['Naive Bayes',metrics.accuracy_score(y_test,y_pred),metrics.precision_score(y_test,y_pred)\n",
    "                 ,metrics.recall_score(y_test,y_pred),metrics.f1_score(y_test,y_pred)])\n",
    "metric_df"
   ]
  },
  {
   "cell_type": "markdown",
   "id": "0de359d2",
   "metadata": {},
   "source": [
    "#### 1 naiye bayes prediction of test dataset"
   ]
  },
  {
   "cell_type": "code",
   "execution_count": 101,
   "id": "ad04eefe",
   "metadata": {},
   "outputs": [],
   "source": [
    "y_pred = nb.predict(test_df)"
   ]
  },
  {
   "cell_type": "code",
   "execution_count": 102,
   "id": "20cfca77",
   "metadata": {
    "scrolled": true
   },
   "outputs": [
    {
     "data": {
      "text/plain": [
       "array([1, 0, 0, 1, 1, 0, 1, 0, 0, 1, 0, 0, 0, 1, 0, 0, 1, 0, 1, 1, 0, 1,\n",
       "       0, 1, 1, 0, 1, 0, 0, 1, 0, 0, 0, 0, 1, 0, 0, 0, 1, 1, 0, 0, 0, 1,\n",
       "       1, 0, 0, 1, 1, 1, 0, 1, 0, 1, 0, 1, 0, 1, 0, 0, 1, 1, 0])"
      ]
     },
     "execution_count": 102,
     "metadata": {},
     "output_type": "execute_result"
    }
   ],
   "source": [
    "y_pred"
   ]
  },
  {
   "cell_type": "markdown",
   "id": "9097c895",
   "metadata": {},
   "source": [
    "#### 2.KNN"
   ]
  },
  {
   "cell_type": "code",
   "execution_count": 103,
   "id": "29db86c3",
   "metadata": {},
   "outputs": [
    {
     "data": {
      "text/plain": [
       "array([1, 1, 0, 0, 0, 0, 0, 1, 0, 1, 1, 0, 0, 0, 0, 0, 0, 0, 1, 0, 0, 1,\n",
       "       1, 1, 0, 1, 1, 0])"
      ]
     },
     "execution_count": 103,
     "metadata": {},
     "output_type": "execute_result"
    }
   ],
   "source": [
    "from sklearn.neighbors import KNeighborsClassifier\n",
    "kn = KNeighborsClassifier(n_neighbors=5,p=2)\n",
    "kn.fit(x_train,y_train)\n",
    "y_pred = kn.predict(x_test)\n",
    "y_pred"
   ]
  },
  {
   "cell_type": "code",
   "execution_count": 104,
   "id": "c45f62d7",
   "metadata": {},
   "outputs": [],
   "source": [
    "from sklearn.metrics import confusion_matrix,accuracy_score,precision_score,recall_score,f1_score"
   ]
  },
  {
   "cell_type": "code",
   "execution_count": 105,
   "id": "4493140c",
   "metadata": {},
   "outputs": [
    {
     "name": "stderr",
     "output_type": "stream",
     "text": [
      "C:\\Users\\hp\\anaconda3\\lib\\site-packages\\sklearn\\utils\\deprecation.py:87: FutureWarning: Function plot_confusion_matrix is deprecated; Function `plot_confusion_matrix` is deprecated in 1.0 and will be removed in 1.2. Use one of the class methods: ConfusionMatrixDisplay.from_predictions or ConfusionMatrixDisplay.from_estimator.\n",
      "  warnings.warn(msg, category=FutureWarning)\n"
     ]
    },
    {
     "data": {
      "text/plain": [
       "<sklearn.metrics._plot.confusion_matrix.ConfusionMatrixDisplay at 0x27ceede8c70>"
      ]
     },
     "execution_count": 105,
     "metadata": {},
     "output_type": "execute_result"
    },
    {
     "data": {
      "image/png": "[encoded data removed]",
      "text/plain": [
       "<Figure size 432x288 with 2 Axes>"
      ]
     },
     "metadata": {
      "needs_background": "light"
     },
     "output_type": "display_data"
    }
   ],
   "source": [
    "metrics.plot_confusion_matrix(kn,x_test,y_test)"
   ]
  },
  {
   "cell_type": "code",
   "execution_count": 106,
   "id": "40c0220e",
   "metadata": {},
   "outputs": [
    {
     "name": "stdout",
     "output_type": "stream",
     "text": [
      "Accuracy_score: 0.6785714285714286\n",
      "precision_score: 0.6363636363636364\n",
      "recall_score: 0.5833333333333334\n",
      "f1_score: 0.6086956521739131\n"
     ]
    }
   ],
   "source": [
    "print('Accuracy_score:',metrics.accuracy_score(y_test,y_pred))\n",
    "print('precision_score:',metrics.precision_score(y_test,y_pred))\n",
    "print('recall_score:',metrics.recall_score(y_test,y_pred))\n",
    "print('f1_score:',metrics.f1_score(y_test,y_pred))"
   ]
  },
  {
   "cell_type": "code",
   "execution_count": 107,
   "id": "3a059441",
   "metadata": {},
   "outputs": [
    {
     "data": {
      "text/html": [
       "<div>\n",
       "<style scoped>\n",
       "    .dataframe tbody tr th:only-of-type {\n",
       "        vertical-align: middle;\n",
       "    }\n",
       "\n",
       "    .dataframe tbody tr th {\n",
       "        vertical-align: top;\n",
       "    }\n",
       "\n",
       "    .dataframe thead th {\n",
       "        text-align: right;\n",
       "    }\n",
       "</style>\n",
       "<table border=\"1\" class=\"dataframe\">\n",
       "  <thead>\n",
       "    <tr style=\"text-align: right;\">\n",
       "      <th></th>\n",
       "      <th>Model</th>\n",
       "      <th>accuracy</th>\n",
       "      <th>precision</th>\n",
       "      <th>recall</th>\n",
       "      <th>fi_score</th>\n",
       "    </tr>\n",
       "  </thead>\n",
       "  <tbody>\n",
       "    <tr>\n",
       "      <th>0</th>\n",
       "      <td>Naive Bayes</td>\n",
       "      <td>0.642857</td>\n",
       "      <td>0.583333</td>\n",
       "      <td>0.583333</td>\n",
       "      <td>0.583333</td>\n",
       "    </tr>\n",
       "    <tr>\n",
       "      <th>1</th>\n",
       "      <td>knn:</td>\n",
       "      <td>0.678571</td>\n",
       "      <td>0.636364</td>\n",
       "      <td>0.583333</td>\n",
       "      <td>0.608696</td>\n",
       "    </tr>\n",
       "  </tbody>\n",
       "</table>\n",
       "</div>"
      ],
      "text/plain": [
       "         Model  accuracy  precision    recall  fi_score\n",
       "0  Naive Bayes  0.642857   0.583333  0.583333  0.583333\n",
       "1         knn:  0.678571   0.636364  0.583333  0.608696"
      ]
     },
     "execution_count": 107,
     "metadata": {},
     "output_type": "execute_result"
    }
   ],
   "source": [
    "metric_df.loc[len(metric_df)] = (['knn:',metrics.accuracy_score(y_test,y_pred),metrics.precision_score(y_test,y_pred),metrics.recall_score(y_test,y_pred)\n",
    "                                 ,metrics.f1_score(y_test,y_pred)])    \n",
    "metric_df"
   ]
  },
  {
   "cell_type": "markdown",
   "id": "dfb3d0da",
   "metadata": {},
   "source": [
    "#### 2.KNN predict of test dataset"
   ]
  },
  {
   "cell_type": "code",
   "execution_count": 108,
   "id": "5b6ae863",
   "metadata": {},
   "outputs": [
    {
     "data": {
      "text/plain": [
       "array([1, 0, 0, 1, 0, 0, 0, 0, 0, 1, 1, 0, 0, 1, 0, 0, 0, 0, 1, 1, 0, 1,\n",
       "       0, 1, 1, 0, 1, 0, 0, 0, 0, 0, 0, 0, 0, 0, 0, 0, 1, 0, 0, 1, 0, 1,\n",
       "       1, 0, 0, 1, 0, 1, 0, 1, 0, 0, 0, 1, 0, 1, 1, 0, 1, 1, 0])"
      ]
     },
     "execution_count": 108,
     "metadata": {},
     "output_type": "execute_result"
    }
   ],
   "source": [
    "y_pred = kn.predict(test_df)\n",
    "y_pred"
   ]
  },
  {
   "cell_type": "markdown",
   "id": "f37b485d",
   "metadata": {},
   "source": [
    "#### Haperparametr tunnig on KNN"
   ]
  },
  {
   "cell_type": "code",
   "execution_count": 109,
   "id": "636c8257",
   "metadata": {},
   "outputs": [
    {
     "name": "stdout",
     "output_type": "stream",
     "text": [
      "Fitting 3 folds for each of 36 candidates, totalling 108 fits\n"
     ]
    },
    {
     "data": {
      "text/plain": [
       "{'metric': 'manhattan', 'n_neighbors': 11, 'weights': 'uniform'}"
      ]
     },
     "execution_count": 109,
     "metadata": {},
     "output_type": "execute_result"
    }
   ],
   "source": [
    "from sklearn.model_selection import GridSearchCV\n",
    "grid_params = { 'n_neighbors' : [5,7,9,11,13,15],\n",
    "               'weights' : ['uniform','distance'],\n",
    "               'metric' : ['minkowski','euclidean','manhattan']}\n",
    "gs = GridSearchCV(KNeighborsClassifier(), grid_params, verbose = 1, cv=3, n_jobs = -1)\n",
    "g_res = gs.fit(x_train, y_train)\n",
    "g_res.best_params_"
   ]
  },
  {
   "cell_type": "code",
   "execution_count": 110,
   "id": "c8da8f6b",
   "metadata": {},
   "outputs": [],
   "source": [
    "knn_gs = KNeighborsClassifier(metric= 'manhattan', n_neighbors= 11, weights= 'distance')"
   ]
  },
  {
   "cell_type": "code",
   "execution_count": 111,
   "id": "6a2397f2",
   "metadata": {},
   "outputs": [
    {
     "data": {
      "text/plain": [
       "KNeighborsClassifier(metric='manhattan', n_neighbors=11, weights='distance')"
      ]
     },
     "execution_count": 111,
     "metadata": {},
     "output_type": "execute_result"
    }
   ],
   "source": [
    "knn_gs.fit(x_train,y_train)"
   ]
  },
  {
   "cell_type": "code",
   "execution_count": 112,
   "id": "b6a1d5fb",
   "metadata": {},
   "outputs": [],
   "source": [
    "y_gs_pred = knn_gs.predict(x_test)"
   ]
  },
  {
   "cell_type": "code",
   "execution_count": 113,
   "id": "bb58bee5",
   "metadata": {},
   "outputs": [
    {
     "name": "stderr",
     "output_type": "stream",
     "text": [
      "C:\\Users\\hp\\anaconda3\\lib\\site-packages\\sklearn\\utils\\deprecation.py:87: FutureWarning: Function plot_confusion_matrix is deprecated; Function `plot_confusion_matrix` is deprecated in 1.0 and will be removed in 1.2. Use one of the class methods: ConfusionMatrixDisplay.from_predictions or ConfusionMatrixDisplay.from_estimator.\n",
      "  warnings.warn(msg, category=FutureWarning)\n"
     ]
    },
    {
     "data": {
      "text/plain": [
       "<sklearn.metrics._plot.confusion_matrix.ConfusionMatrixDisplay at 0x27cf1770e50>"
      ]
     },
     "execution_count": 113,
     "metadata": {},
     "output_type": "execute_result"
    },
    {
     "data": {
      "image/png": "[encoded data removed]",
      "text/plain": [
       "<Figure size 432x288 with 2 Axes>"
      ]
     },
     "metadata": {
      "needs_background": "light"
     },
     "output_type": "display_data"
    }
   ],
   "source": [
    "from sklearn import metrics\n",
    "metrics.plot_confusion_matrix(knn_gs,x_test,y_test)"
   ]
  },
  {
   "cell_type": "code",
   "execution_count": 114,
   "id": "1908d8d4",
   "metadata": {},
   "outputs": [
    {
     "name": "stdout",
     "output_type": "stream",
     "text": [
      "Accuracy :  0.6428571428571429\n",
      "Precision :  0.6\n",
      "Recall :  0.5\n",
      "F1_score :  0.5454545454545454\n"
     ]
    }
   ],
   "source": [
    "print(\"Accuracy : \",metrics.accuracy_score(y_test,y_gs_pred))\n",
    "print(\"Precision : \",metrics.precision_score(y_test,y_gs_pred))\n",
    "print(\"Recall : \",metrics.recall_score(y_test,y_gs_pred))\n",
    "print(\"F1_score : \",metrics.f1_score(y_test,y_gs_pred))"
   ]
  },
  {
   "cell_type": "code",
   "execution_count": 115,
   "id": "e31adfc7",
   "metadata": {},
   "outputs": [
    {
     "data": {
      "text/html": [
       "<div>\n",
       "<style scoped>\n",
       "    .dataframe tbody tr th:only-of-type {\n",
       "        vertical-align: middle;\n",
       "    }\n",
       "\n",
       "    .dataframe tbody tr th {\n",
       "        vertical-align: top;\n",
       "    }\n",
       "\n",
       "    .dataframe thead th {\n",
       "        text-align: right;\n",
       "    }\n",
       "</style>\n",
       "<table border=\"1\" class=\"dataframe\">\n",
       "  <thead>\n",
       "    <tr style=\"text-align: right;\">\n",
       "      <th></th>\n",
       "      <th>Model</th>\n",
       "      <th>accuracy</th>\n",
       "      <th>precision</th>\n",
       "      <th>recall</th>\n",
       "      <th>fi_score</th>\n",
       "    </tr>\n",
       "  </thead>\n",
       "  <tbody>\n",
       "    <tr>\n",
       "      <th>0</th>\n",
       "      <td>Naive Bayes</td>\n",
       "      <td>0.642857</td>\n",
       "      <td>0.583333</td>\n",
       "      <td>0.583333</td>\n",
       "      <td>0.583333</td>\n",
       "    </tr>\n",
       "    <tr>\n",
       "      <th>1</th>\n",
       "      <td>knn:</td>\n",
       "      <td>0.678571</td>\n",
       "      <td>0.636364</td>\n",
       "      <td>0.583333</td>\n",
       "      <td>0.608696</td>\n",
       "    </tr>\n",
       "    <tr>\n",
       "      <th>2</th>\n",
       "      <td>KNN_HP_tuning:</td>\n",
       "      <td>0.642857</td>\n",
       "      <td>0.600000</td>\n",
       "      <td>0.500000</td>\n",
       "      <td>0.545455</td>\n",
       "    </tr>\n",
       "  </tbody>\n",
       "</table>\n",
       "</div>"
      ],
      "text/plain": [
       "            Model  accuracy  precision    recall  fi_score\n",
       "0     Naive Bayes  0.642857   0.583333  0.583333  0.583333\n",
       "1            knn:  0.678571   0.636364  0.583333  0.608696\n",
       "2  KNN_HP_tuning:  0.642857   0.600000  0.500000  0.545455"
      ]
     },
     "execution_count": 115,
     "metadata": {},
     "output_type": "execute_result"
    }
   ],
   "source": [
    "metric_df.loc[len(metric_df)] = (['KNN_HP_tuning:',metrics.accuracy_score(y_test,y_gs_pred)\n",
    "                                  ,metrics.precision_score(y_test,y_gs_pred),metrics.recall_score(y_test,y_gs_pred)\n",
    "                                 ,metrics.f1_score(y_test,y_gs_pred)])\n",
    "                                 \n",
    "metric_df"
   ]
  },
  {
   "cell_type": "markdown",
   "id": "4dcdaac4",
   "metadata": {},
   "source": [
    "#### 3.Random forest"
   ]
  },
  {
   "cell_type": "code",
   "execution_count": 116,
   "id": "2276be9f",
   "metadata": {},
   "outputs": [
    {
     "data": {
      "text/plain": [
       "RandomForestClassifier()"
      ]
     },
     "execution_count": 116,
     "metadata": {},
     "output_type": "execute_result"
    }
   ],
   "source": [
    "from sklearn.ensemble import RandomForestClassifier\n",
    "rf = RandomForestClassifier()\n",
    "rf.fit(x_train,y_train)"
   ]
  },
  {
   "cell_type": "code",
   "execution_count": 117,
   "id": "1b137407",
   "metadata": {},
   "outputs": [
    {
     "data": {
      "text/plain": [
       "array([1, 0, 0, 0, 0, 0, 0, 0, 0, 1, 1, 0, 0, 0, 0, 0, 1, 0, 1, 0, 0, 1,\n",
       "       1, 1, 1, 1, 1, 0])"
      ]
     },
     "execution_count": 117,
     "metadata": {},
     "output_type": "execute_result"
    }
   ],
   "source": [
    "y_pred = rf.predict(x_test)\n",
    "y_pred"
   ]
  },
  {
   "cell_type": "code",
   "execution_count": 118,
   "id": "28730547",
   "metadata": {},
   "outputs": [
    {
     "name": "stdout",
     "output_type": "stream",
     "text": [
      "Accuracy_score: 0.6785714285714286\n",
      "precision_score: 0.6363636363636364\n",
      "recall_score: 0.5833333333333334\n",
      "f1_score: 0.6086956521739131\n"
     ]
    }
   ],
   "source": [
    "print('Accuracy_score:',metrics.accuracy_score(y_test,y_pred))\n",
    "print('precision_score:',metrics.precision_score(y_test,y_pred))\n",
    "print('recall_score:',metrics.recall_score(y_test,y_pred))\n",
    "print('f1_score:',metrics.f1_score(y_test,y_pred))"
   ]
  },
  {
   "cell_type": "code",
   "execution_count": 119,
   "id": "3ad971ec",
   "metadata": {},
   "outputs": [
    {
     "data": {
      "text/html": [
       "<div>\n",
       "<style scoped>\n",
       "    .dataframe tbody tr th:only-of-type {\n",
       "        vertical-align: middle;\n",
       "    }\n",
       "\n",
       "    .dataframe tbody tr th {\n",
       "        vertical-align: top;\n",
       "    }\n",
       "\n",
       "    .dataframe thead th {\n",
       "        text-align: right;\n",
       "    }\n",
       "</style>\n",
       "<table border=\"1\" class=\"dataframe\">\n",
       "  <thead>\n",
       "    <tr style=\"text-align: right;\">\n",
       "      <th></th>\n",
       "      <th>Model</th>\n",
       "      <th>accuracy</th>\n",
       "      <th>precision</th>\n",
       "      <th>recall</th>\n",
       "      <th>fi_score</th>\n",
       "    </tr>\n",
       "  </thead>\n",
       "  <tbody>\n",
       "    <tr>\n",
       "      <th>0</th>\n",
       "      <td>Naive Bayes</td>\n",
       "      <td>0.642857</td>\n",
       "      <td>0.583333</td>\n",
       "      <td>0.583333</td>\n",
       "      <td>0.583333</td>\n",
       "    </tr>\n",
       "    <tr>\n",
       "      <th>1</th>\n",
       "      <td>knn:</td>\n",
       "      <td>0.678571</td>\n",
       "      <td>0.636364</td>\n",
       "      <td>0.583333</td>\n",
       "      <td>0.608696</td>\n",
       "    </tr>\n",
       "    <tr>\n",
       "      <th>2</th>\n",
       "      <td>KNN_HP_tuning:</td>\n",
       "      <td>0.642857</td>\n",
       "      <td>0.600000</td>\n",
       "      <td>0.500000</td>\n",
       "      <td>0.545455</td>\n",
       "    </tr>\n",
       "    <tr>\n",
       "      <th>3</th>\n",
       "      <td>R_forest:</td>\n",
       "      <td>0.678571</td>\n",
       "      <td>0.636364</td>\n",
       "      <td>0.583333</td>\n",
       "      <td>0.608696</td>\n",
       "    </tr>\n",
       "  </tbody>\n",
       "</table>\n",
       "</div>"
      ],
      "text/plain": [
       "            Model  accuracy  precision    recall  fi_score\n",
       "0     Naive Bayes  0.642857   0.583333  0.583333  0.583333\n",
       "1            knn:  0.678571   0.636364  0.583333  0.608696\n",
       "2  KNN_HP_tuning:  0.642857   0.600000  0.500000  0.545455\n",
       "3       R_forest:  0.678571   0.636364  0.583333  0.608696"
      ]
     },
     "execution_count": 119,
     "metadata": {},
     "output_type": "execute_result"
    }
   ],
   "source": [
    "metric_df.loc[len(metric_df)] = (['R_forest:',metrics.accuracy_score(y_test,y_pred)\n",
    "                                  ,metrics.precision_score(y_test,y_pred)\n",
    "                                 ,metrics.recall_score(y_test,y_pred)\n",
    "                                ,metrics.f1_score(y_test,y_pred)])\n",
    "                                 \n",
    "metric_df"
   ]
  },
  {
   "cell_type": "markdown",
   "id": "35648b1a",
   "metadata": {},
   "source": [
    "#### 3.Randon forest prediction on test dataset "
   ]
  },
  {
   "cell_type": "code",
   "execution_count": 120,
   "id": "505588ac",
   "metadata": {},
   "outputs": [
    {
     "data": {
      "text/plain": [
       "array([1, 0, 0, 0, 0, 0, 0, 0, 0, 1, 1, 1, 0, 1, 0, 0, 0, 0, 1, 0, 0, 1,\n",
       "       0, 1, 1, 0, 1, 0, 0, 0, 0, 0, 0, 0, 0, 0, 0, 0, 1, 0, 0, 1, 0, 1,\n",
       "       1, 0, 0, 1, 0, 1, 0, 1, 0, 0, 0, 1, 0, 1, 0, 0, 1, 1, 0])"
      ]
     },
     "execution_count": 120,
     "metadata": {},
     "output_type": "execute_result"
    }
   ],
   "source": [
    "y_pred = rf.predict(test_df)\n",
    "y_pred"
   ]
  },
  {
   "cell_type": "markdown",
   "id": "7b3a557b",
   "metadata": {},
   "source": [
    "#### 3.Haperparametr tunnig on Random forest"
   ]
  },
  {
   "cell_type": "code",
   "execution_count": 122,
   "id": "2fb533af",
   "metadata": {},
   "outputs": [
    {
     "name": "stdout",
     "output_type": "stream",
     "text": [
      "Fitting 3 folds for each of 10 candidates, totalling 30 fits\n"
     ]
    },
    {
     "data": {
      "text/plain": [
       "{'random_state': 42,\n",
       " 'n_estimators': 800,\n",
       " 'min_samples_split': 10,\n",
       " 'min_samples_leaf': 1,\n",
       " 'max_features': 'auto',\n",
       " 'max_depth': 110,\n",
       " 'bootstrap': True}"
      ]
     },
     "execution_count": 122,
     "metadata": {},
     "output_type": "execute_result"
    }
   ],
   "source": [
    "from sklearn.model_selection import RandomizedSearchCV\n",
    "\n",
    "grid_params = {'n_estimators': [int(x) for x in np.linspace(start = 200, stop = 2000, num = 10)],\n",
    "               'max_features': ['auto', 'sqrt'],\n",
    "               'max_depth': [int(x) for x in np.linspace(10, 110, num = 11)],\n",
    "               'min_samples_split':  [2, 5, 10],\n",
    "               'min_samples_leaf': [1, 2, 4],\n",
    "               'bootstrap': [True, False],\n",
    "               'random_state':[42]}\n",
    "\n",
    "rf_gs = RandomizedSearchCV(RandomForestClassifier(), grid_params,verbose=3, n_jobs = -1,scoring='f1',cv=3)\n",
    "rf_gs.fit(x_train, y_train)\n",
    "rf_gs.best_params_"
   ]
  },
  {
   "cell_type": "code",
   "execution_count": 123,
   "id": "c4ab6daa",
   "metadata": {},
   "outputs": [],
   "source": [
    "rf_gs = RandomForestClassifier(random_state = 42,\n",
    " n_estimators = 800,\n",
    " min_samples_split = 10,\n",
    " min_samples_leaf = 1,\n",
    " max_features = 'auto',\n",
    " max_depth = 110,\n",
    " bootstrap = True)"
   ]
  },
  {
   "cell_type": "code",
   "execution_count": 127,
   "id": "287d7255",
   "metadata": {},
   "outputs": [],
   "source": [
    "rf_gs.fit(x_train,y_train)\n",
    "y_gs_pred = rf_gs.predict(x_test)"
   ]
  },
  {
   "cell_type": "code",
   "execution_count": 128,
   "id": "79973a6c",
   "metadata": {},
   "outputs": [
    {
     "name": "stdout",
     "output_type": "stream",
     "text": [
      "Accuracy :  0.7142857142857143\n",
      "Precision :  0.7\n",
      "Recall :  0.5833333333333334\n",
      "f1 score :  0.6363636363636365\n"
     ]
    }
   ],
   "source": [
    "print(\"Accuracy : \",accuracy_score(y_test,y_gs_pred))\n",
    "print(\"Precision : \",precision_score(y_test,y_gs_pred))\n",
    "print(\"Recall : \",recall_score(y_test,y_gs_pred))\n",
    "print(\"f1 score : \",f1_score(y_test,y_sgs_pred))"
   ]
  },
  {
   "cell_type": "code",
   "execution_count": 129,
   "id": "cf8f2f88",
   "metadata": {},
   "outputs": [
    {
     "data": {
      "text/html": [
       "<div>\n",
       "<style scoped>\n",
       "    .dataframe tbody tr th:only-of-type {\n",
       "        vertical-align: middle;\n",
       "    }\n",
       "\n",
       "    .dataframe tbody tr th {\n",
       "        vertical-align: top;\n",
       "    }\n",
       "\n",
       "    .dataframe thead th {\n",
       "        text-align: right;\n",
       "    }\n",
       "</style>\n",
       "<table border=\"1\" class=\"dataframe\">\n",
       "  <thead>\n",
       "    <tr style=\"text-align: right;\">\n",
       "      <th></th>\n",
       "      <th>Model</th>\n",
       "      <th>accuracy</th>\n",
       "      <th>precision</th>\n",
       "      <th>recall</th>\n",
       "      <th>fi_score</th>\n",
       "    </tr>\n",
       "  </thead>\n",
       "  <tbody>\n",
       "    <tr>\n",
       "      <th>0</th>\n",
       "      <td>Naive Bayes</td>\n",
       "      <td>0.642857</td>\n",
       "      <td>0.583333</td>\n",
       "      <td>0.583333</td>\n",
       "      <td>0.583333</td>\n",
       "    </tr>\n",
       "    <tr>\n",
       "      <th>1</th>\n",
       "      <td>knn:</td>\n",
       "      <td>0.678571</td>\n",
       "      <td>0.636364</td>\n",
       "      <td>0.583333</td>\n",
       "      <td>0.608696</td>\n",
       "    </tr>\n",
       "    <tr>\n",
       "      <th>2</th>\n",
       "      <td>KNN_HP_tuning:</td>\n",
       "      <td>0.642857</td>\n",
       "      <td>0.600000</td>\n",
       "      <td>0.500000</td>\n",
       "      <td>0.545455</td>\n",
       "    </tr>\n",
       "    <tr>\n",
       "      <th>3</th>\n",
       "      <td>R_forest:</td>\n",
       "      <td>0.678571</td>\n",
       "      <td>0.636364</td>\n",
       "      <td>0.583333</td>\n",
       "      <td>0.608696</td>\n",
       "    </tr>\n",
       "    <tr>\n",
       "      <th>4</th>\n",
       "      <td>Rf_HP_tuning:</td>\n",
       "      <td>0.714286</td>\n",
       "      <td>0.700000</td>\n",
       "      <td>0.583333</td>\n",
       "      <td>0.636364</td>\n",
       "    </tr>\n",
       "  </tbody>\n",
       "</table>\n",
       "</div>"
      ],
      "text/plain": [
       "            Model  accuracy  precision    recall  fi_score\n",
       "0     Naive Bayes  0.642857   0.583333  0.583333  0.583333\n",
       "1            knn:  0.678571   0.636364  0.583333  0.608696\n",
       "2  KNN_HP_tuning:  0.642857   0.600000  0.500000  0.545455\n",
       "3       R_forest:  0.678571   0.636364  0.583333  0.608696\n",
       "4   Rf_HP_tuning:  0.714286   0.700000  0.583333  0.636364"
      ]
     },
     "execution_count": 129,
     "metadata": {},
     "output_type": "execute_result"
    }
   ],
   "source": [
    "metric_df.loc[len(metric_df)] = (['Rf_HP_tuning:',accuracy_score(y_test,y_gs_pred)\n",
    "                                  ,precision_score(y_test,y_gs_pred)\n",
    "                                ,recall_score(y_test,y_gs_pred)\n",
    "                                ,f1_score(y_test,y_gs_pred)])\n",
    "                                 \n",
    "metric_df"
   ]
  },
  {
   "cell_type": "markdown",
   "id": "a1baaa44",
   "metadata": {},
   "source": [
    "#### 4.XGBoost"
   ]
  },
  {
   "cell_type": "code",
   "execution_count": 130,
   "id": "c8d598b3",
   "metadata": {},
   "outputs": [],
   "source": [
    "import xgboost\n",
    "from xgboost import XGBClassifier"
   ]
  },
  {
   "cell_type": "code",
   "execution_count": 131,
   "id": "474b126d",
   "metadata": {},
   "outputs": [],
   "source": [
    "Xgb = XGBClassifier()\n",
    "Xgb.fit(x_train,y_train)\n",
    "y_pred = Xgb.predict(x_test)"
   ]
  },
  {
   "cell_type": "code",
   "execution_count": 132,
   "id": "4468f86e",
   "metadata": {},
   "outputs": [
    {
     "data": {
      "text/plain": [
       "array([1, 0, 0, 0, 0, 0, 0, 0, 0, 1, 1, 0, 0, 1, 0, 0, 1, 0, 1, 0, 0, 1,\n",
       "       1, 1, 1, 1, 1, 0])"
      ]
     },
     "execution_count": 132,
     "metadata": {},
     "output_type": "execute_result"
    }
   ],
   "source": [
    "y_pred"
   ]
  },
  {
   "cell_type": "code",
   "execution_count": 137,
   "id": "f35a6fa2",
   "metadata": {},
   "outputs": [
    {
     "name": "stderr",
     "output_type": "stream",
     "text": [
      "C:\\Users\\hp\\anaconda3\\lib\\site-packages\\sklearn\\utils\\deprecation.py:87: FutureWarning: Function plot_confusion_matrix is deprecated; Function `plot_confusion_matrix` is deprecated in 1.0 and will be removed in 1.2. Use one of the class methods: ConfusionMatrixDisplay.from_predictions or ConfusionMatrixDisplay.from_estimator.\n",
      "  warnings.warn(msg, category=FutureWarning)\n"
     ]
    },
    {
     "data": {
      "text/plain": [
       "<sklearn.metrics._plot.confusion_matrix.ConfusionMatrixDisplay at 0x27cf18b7850>"
      ]
     },
     "execution_count": 137,
     "metadata": {},
     "output_type": "execute_result"
    },
    {
     "data": {
      "image/png": "[encoded data removed]",
      "text/plain": [
       "<Figure size 432x288 with 2 Axes>"
      ]
     },
     "metadata": {
      "needs_background": "light"
     },
     "output_type": "display_data"
    }
   ],
   "source": [
    "from sklearn.metrics import confusion_matrix\n",
    "metrics.plot_confusion_matrix(Xgb,x_test,y_test)"
   ]
  },
  {
   "cell_type": "code",
   "execution_count": 140,
   "id": "7370c5e3",
   "metadata": {},
   "outputs": [
    {
     "name": "stdout",
     "output_type": "stream",
     "text": [
      "Accuracy : 0.6428571428571429\n",
      "Precision : 0.5833333333333334\n",
      "Recall : 0.5833333333333334\n",
      "F1_score : 0.5833333333333334\n"
     ]
    }
   ],
   "source": [
    "print('Accuracy :',metrics.accuracy_score(y_pred,y_test))\n",
    "print('Precision :',metrics.precision_score(y_pred,y_test))\n",
    "print('Recall :',metrics.recall_score(y_pred,y_test))\n",
    "print('F1_score :',metrics.f1_score(y_pred,y_test))"
   ]
  },
  {
   "cell_type": "code",
   "execution_count": 141,
   "id": "6cae68ed",
   "metadata": {},
   "outputs": [
    {
     "data": {
      "text/html": [
       "<div>\n",
       "<style scoped>\n",
       "    .dataframe tbody tr th:only-of-type {\n",
       "        vertical-align: middle;\n",
       "    }\n",
       "\n",
       "    .dataframe tbody tr th {\n",
       "        vertical-align: top;\n",
       "    }\n",
       "\n",
       "    .dataframe thead th {\n",
       "        text-align: right;\n",
       "    }\n",
       "</style>\n",
       "<table border=\"1\" class=\"dataframe\">\n",
       "  <thead>\n",
       "    <tr style=\"text-align: right;\">\n",
       "      <th></th>\n",
       "      <th>Model</th>\n",
       "      <th>accuracy</th>\n",
       "      <th>precision</th>\n",
       "      <th>recall</th>\n",
       "      <th>fi_score</th>\n",
       "    </tr>\n",
       "  </thead>\n",
       "  <tbody>\n",
       "    <tr>\n",
       "      <th>0</th>\n",
       "      <td>Naive Bayes</td>\n",
       "      <td>0.642857</td>\n",
       "      <td>0.583333</td>\n",
       "      <td>0.583333</td>\n",
       "      <td>0.583333</td>\n",
       "    </tr>\n",
       "    <tr>\n",
       "      <th>1</th>\n",
       "      <td>knn:</td>\n",
       "      <td>0.678571</td>\n",
       "      <td>0.636364</td>\n",
       "      <td>0.583333</td>\n",
       "      <td>0.608696</td>\n",
       "    </tr>\n",
       "    <tr>\n",
       "      <th>2</th>\n",
       "      <td>KNN_HP_tuning:</td>\n",
       "      <td>0.642857</td>\n",
       "      <td>0.600000</td>\n",
       "      <td>0.500000</td>\n",
       "      <td>0.545455</td>\n",
       "    </tr>\n",
       "    <tr>\n",
       "      <th>3</th>\n",
       "      <td>R_forest:</td>\n",
       "      <td>0.678571</td>\n",
       "      <td>0.636364</td>\n",
       "      <td>0.583333</td>\n",
       "      <td>0.608696</td>\n",
       "    </tr>\n",
       "    <tr>\n",
       "      <th>4</th>\n",
       "      <td>Rf_HP_tuning:</td>\n",
       "      <td>0.714286</td>\n",
       "      <td>0.700000</td>\n",
       "      <td>0.583333</td>\n",
       "      <td>0.636364</td>\n",
       "    </tr>\n",
       "    <tr>\n",
       "      <th>5</th>\n",
       "      <td>XGB :</td>\n",
       "      <td>0.642857</td>\n",
       "      <td>0.583333</td>\n",
       "      <td>0.583333</td>\n",
       "      <td>0.583333</td>\n",
       "    </tr>\n",
       "  </tbody>\n",
       "</table>\n",
       "</div>"
      ],
      "text/plain": [
       "            Model  accuracy  precision    recall  fi_score\n",
       "0     Naive Bayes  0.642857   0.583333  0.583333  0.583333\n",
       "1            knn:  0.678571   0.636364  0.583333  0.608696\n",
       "2  KNN_HP_tuning:  0.642857   0.600000  0.500000  0.545455\n",
       "3       R_forest:  0.678571   0.636364  0.583333  0.608696\n",
       "4   Rf_HP_tuning:  0.714286   0.700000  0.583333  0.636364\n",
       "5           XGB :  0.642857   0.583333  0.583333  0.583333"
      ]
     },
     "execution_count": 141,
     "metadata": {},
     "output_type": "execute_result"
    }
   ],
   "source": [
    "metric_df.loc[len(metric_df)] = (['XGB :',metrics.accuracy_score(y_pred,y_test)\n",
    "                                  ,metrics.precision_score(y_pred,y_test)\n",
    "                               ,metrics.recall_score(y_pred,y_test)\n",
    "                                ,metrics.f1_score(y_pred,y_test)])\n",
    "                                 \n",
    "metric_df"
   ]
  },
  {
   "cell_type": "markdown",
   "id": "819e24e6",
   "metadata": {},
   "source": [
    "#### 4.XGBoost prediction on test dataset"
   ]
  },
  {
   "cell_type": "code",
   "execution_count": 143,
   "id": "922cdd24",
   "metadata": {},
   "outputs": [
    {
     "data": {
      "text/plain": [
       "array([1, 0, 0, 1, 1, 0, 0, 0, 0, 1, 1, 1, 0, 1, 0, 0, 0, 0, 1, 0, 0, 0,\n",
       "       0, 0, 1, 0, 0, 0, 0, 0, 0, 0, 0, 0, 0, 0, 0, 0, 1, 0, 0, 1, 0, 1,\n",
       "       1, 0, 0, 1, 0, 1, 0, 1, 0, 0, 0, 1, 0, 1, 1, 0, 1, 1, 0])"
      ]
     },
     "execution_count": 143,
     "metadata": {},
     "output_type": "execute_result"
    }
   ],
   "source": [
    "y_pred = Xgb.predict(test_df)\n",
    "y_pred"
   ]
  },
  {
   "cell_type": "code",
   "execution_count": null,
   "id": "c41f1a8c",
   "metadata": {},
   "outputs": [],
   "source": []
  }
 ],
 "metadata": {
  "kernelspec": {
   "display_name": "Python 3 (ipykernel)",
   "language": "python",
   "name": "python3"
  },
  "language_info": {
   "codemirror_mode": {
    "name": "ipython",
    "version": 3
   },
   "file_extension": ".py",
   "mimetype": "text/x-python",
   "name": "python",
   "nbconvert_exporter": "python",
   "pygments_lexer": "ipython3",
   "version": "3.9.12"
  }
 },
 "nbformat": 4,
 "nbformat_minor": 5
}
